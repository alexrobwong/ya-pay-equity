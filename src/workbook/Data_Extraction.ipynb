{
 "cells": [
  {
   "cell_type": "markdown",
   "metadata": {},
   "source": [
    "# Young Audiences Data"
   ]
  },
  {
   "cell_type": "code",
   "execution_count": 1,
   "metadata": {},
   "outputs": [],
   "source": [
    "# https://ipython.org/ipython-doc/3/config/extensions/autoreload.html\n",
    "# Reload modules before executing user code\n",
    "%load_ext autoreload\n",
    "%autoreload 2"
   ]
  },
  {
   "cell_type": "code",
   "execution_count": 3,
   "metadata": {},
   "outputs": [],
   "source": [
    "import os\n",
    "import sys\n",
    "import pandas as pd\n",
    "import glob\n",
    "from collections import defaultdict\n",
    "sys.path.append(os.path.dirname(os.getcwd())+'/utils')"
   ]
  },
  {
   "cell_type": "code",
   "execution_count": 28,
   "metadata": {},
   "outputs": [],
   "source": [
    "from helpers import clean_artist_count, clean_sales_data, group_sales_data, get_groupings\n",
    "from config import REMOVE_ARTIST_IDS, COLS, CMP_FILT"
   ]
  },
  {
   "cell_type": "code",
   "execution_count": 6,
   "metadata": {},
   "outputs": [],
   "source": [
    "# Retrieve any arguments if available\n",
    "args = sys.argv # date"
   ]
  },
  {
   "cell_type": "code",
   "execution_count": 34,
   "metadata": {},
   "outputs": [
    {
     "name": "stdout",
     "output_type": "stream",
     "text": [
      "Number of NULL Artist IDs removed: 4\n"
     ]
    }
   ],
   "source": [
    "\n",
    "# # Retrieve times as strings\n",
    "# time_start = pd.Timestamp(args[1]) if 1 < len(args) else pd.Timestamp(2019,1,1)\n",
    "# time_end = pd.Timestamp(args[2]) if 2 < len(args) else pd.Timestamp(2020,1,1)\n",
    "\n",
    "time_start = pd.Timestamp(2019,1,1)\n",
    "time_end = pd.Timestamp(2021,1,1)\n",
    "\n",
    "path = os.path.dirname(os.path.dirname(os.getcwd()))+'/data/raw/'\n",
    "\n",
    "# Use Glob to retrieve all of the file names\n",
    "file_list = glob.glob(path+'*.xlsx')\n",
    "\n",
    "# Upload files\n",
    "d = defaultdict(lambda: defaultdict())\n",
    "for i,f in enumerate(file_list):\n",
    "    d[file_list[i][len(path):-5]] = pd.read_excel(f)\n",
    "\n",
    "\n",
    "# Retrieve Three Year Sales Data\n",
    "three_year = d['three_year_sales'].copy()\n",
    "# Clean data\n",
    "three_year = clean_sales_data(three_year)\n",
    "# Group sales data\n",
    "three_yr_grp = group_sales_data(three_year)\n",
    "\n",
    "# Retrieve demographic data\n",
    "demographic = d['demographics'].copy()\n",
    "# Remove Unamed column\n",
    "demographic = demographic.drop(labels=['Unnamed: 0'], axis=1)\n",
    "# Drop duplicates - Artist ID 133 is duplicated\n",
    "demographic = demographic.drop_duplicates(subset=['artist_id'], keep='last').reset_index(drop=True)\n",
    "\n",
    "# Join Sales and Demographic data\n",
    "joined = three_yr_grp.merge(demographic, how='outer', left_on='Artist Payroll ID', right_on='artist_id')\n",
    "\n",
    "# Include only wanted Artist IDS - Remove Artist ID: 0\n",
    "inc_df = joined[~joined['Artist Payroll ID'].isin(REMOVE_ARTIST_IDS)]\n",
    "\n",
    "# Sales data with no demographic data\n",
    "null_demo = inc_df[pd.isnull(inc_df['artist_id'])].copy().reset_index(drop=True)\n",
    "\n",
    "# Sales data with demographic data\n",
    "demo = inc_df[~(pd.isnull(inc_df['artist_id'])) & ~(pd.isnull(inc_df['Artist Payroll ID']))].copy().reset_index(drop=True)\n",
    "\n",
    "# Retrieve artist group size data\n",
    "grp_size = d['artist_count'].copy()\n",
    "grp_size = clean_artist_count(grp_size)\n",
    "\n",
    "# Filter data by date\n",
    "df = demo[(demo['Date']>=time_start) & (demo['Date']<time_end)].copy().reset_index(drop=True)\n",
    "\n",
    "# Merge demo and sales data with group size data\n",
    "df_merged = df.merge(grp_size, on='artist_id')\n",
    "\n",
    "df_merged = df_merged[COLS]"
   ]
  },
  {
   "cell_type": "code",
   "execution_count": 35,
   "metadata": {},
   "outputs": [],
   "source": [
    "# Retrieve dictionary of dataframes of different groupings\n",
    "d = get_groupings(df_merged)"
   ]
  },
  {
   "cell_type": "code",
   "execution_count": 36,
   "metadata": {},
   "outputs": [],
   "source": [
    "# Merged data, non grouped\n",
    "d['merged_all'] = df_merged\n",
    "d['merged_demo'] = demo\n",
    "d['merged_no_demo'] = null_demo"
   ]
  },
  {
   "cell_type": "code",
   "execution_count": 38,
   "metadata": {},
   "outputs": [
    {
     "data": {
      "text/html": [
       "<div>\n",
       "<style scoped>\n",
       "    .dataframe tbody tr th:only-of-type {\n",
       "        vertical-align: middle;\n",
       "    }\n",
       "\n",
       "    .dataframe tbody tr th {\n",
       "        vertical-align: top;\n",
       "    }\n",
       "\n",
       "    .dataframe thead th {\n",
       "        text-align: right;\n",
       "    }\n",
       "</style>\n",
       "<table border=\"1\" class=\"dataframe\">\n",
       "  <thead>\n",
       "    <tr style=\"text-align: right;\">\n",
       "      <th></th>\n",
       "      <th>ethnicity</th>\n",
       "      <th>performance</th>\n",
       "      <th>artist_id</th>\n",
       "    </tr>\n",
       "  </thead>\n",
       "  <tbody>\n",
       "    <tr>\n",
       "      <th>0</th>\n",
       "      <td>african</td>\n",
       "      <td>1.0</td>\n",
       "      <td>3</td>\n",
       "    </tr>\n",
       "    <tr>\n",
       "      <th>1</th>\n",
       "      <td>african</td>\n",
       "      <td>2.0</td>\n",
       "      <td>1</td>\n",
       "    </tr>\n",
       "    <tr>\n",
       "      <th>2</th>\n",
       "      <td>african</td>\n",
       "      <td>4.0</td>\n",
       "      <td>1</td>\n",
       "    </tr>\n",
       "    <tr>\n",
       "      <th>3</th>\n",
       "      <td>asian</td>\n",
       "      <td>1.0</td>\n",
       "      <td>2</td>\n",
       "    </tr>\n",
       "    <tr>\n",
       "      <th>4</th>\n",
       "      <td>asian</td>\n",
       "      <td>2.0</td>\n",
       "      <td>1</td>\n",
       "    </tr>\n",
       "    <tr>\n",
       "      <th>5</th>\n",
       "      <td>caucasian</td>\n",
       "      <td>1.0</td>\n",
       "      <td>19</td>\n",
       "    </tr>\n",
       "    <tr>\n",
       "      <th>6</th>\n",
       "      <td>caucasian</td>\n",
       "      <td>4.0</td>\n",
       "      <td>1</td>\n",
       "    </tr>\n",
       "    <tr>\n",
       "      <th>7</th>\n",
       "      <td>latinx</td>\n",
       "      <td>1.0</td>\n",
       "      <td>4</td>\n",
       "    </tr>\n",
       "  </tbody>\n",
       "</table>\n",
       "</div>"
      ],
      "text/plain": [
       "   ethnicity  performance  artist_id\n",
       "0    african          1.0          3\n",
       "1    african          2.0          1\n",
       "2    african          4.0          1\n",
       "3      asian          1.0          2\n",
       "4      asian          2.0          1\n",
       "5  caucasian          1.0         19\n",
       "6  caucasian          4.0          1\n",
       "7     latinx          1.0          4"
      ]
     },
     "execution_count": 38,
     "metadata": {},
     "output_type": "execute_result"
    }
   ],
   "source": [
    "d['Workshop_ind'].groupby(['ethnicity','performance']).nunique()['artist_id'].reset_index()"
   ]
  },
  {
   "cell_type": "code",
   "execution_count": 33,
   "metadata": {},
   "outputs": [
    {
     "data": {
      "text/html": [
       "<div>\n",
       "<style scoped>\n",
       "    .dataframe tbody tr th:only-of-type {\n",
       "        vertical-align: middle;\n",
       "    }\n",
       "\n",
       "    .dataframe tbody tr th {\n",
       "        vertical-align: top;\n",
       "    }\n",
       "\n",
       "    .dataframe thead th {\n",
       "        text-align: right;\n",
       "    }\n",
       "</style>\n",
       "<table border=\"1\" class=\"dataframe\">\n",
       "  <thead>\n",
       "    <tr style=\"text-align: right;\">\n",
       "      <th></th>\n",
       "      <th>ethnicity</th>\n",
       "      <th>performance</th>\n",
       "      <th>artist_id</th>\n",
       "    </tr>\n",
       "  </thead>\n",
       "  <tbody>\n",
       "    <tr>\n",
       "      <th>0</th>\n",
       "      <td>african</td>\n",
       "      <td>1.0</td>\n",
       "      <td>3</td>\n",
       "    </tr>\n",
       "    <tr>\n",
       "      <th>1</th>\n",
       "      <td>asian</td>\n",
       "      <td>1.0</td>\n",
       "      <td>1</td>\n",
       "    </tr>\n",
       "    <tr>\n",
       "      <th>2</th>\n",
       "      <td>caucasian</td>\n",
       "      <td>1.0</td>\n",
       "      <td>8</td>\n",
       "    </tr>\n",
       "    <tr>\n",
       "      <th>3</th>\n",
       "      <td>latinx</td>\n",
       "      <td>1.0</td>\n",
       "      <td>3</td>\n",
       "    </tr>\n",
       "  </tbody>\n",
       "</table>\n",
       "</div>"
      ],
      "text/plain": [
       "   ethnicity  performance  artist_id\n",
       "0    african          1.0          3\n",
       "1      asian          1.0          1\n",
       "2  caucasian          1.0          8\n",
       "3     latinx          1.0          3"
      ]
     },
     "execution_count": 33,
     "metadata": {},
     "output_type": "execute_result"
    }
   ],
   "source": [
    "d['Performance_ind'].groupby(['ethnicity','performance']).nunique()['artist_id'].reset_index()"
   ]
  },
  {
   "cell_type": "code",
   "execution_count": null,
   "metadata": {},
   "outputs": [],
   "source": []
  },
  {
   "cell_type": "code",
   "execution_count": null,
   "metadata": {},
   "outputs": [],
   "source": []
  },
  {
   "cell_type": "code",
   "execution_count": null,
   "metadata": {},
   "outputs": [],
   "source": []
  },
  {
   "cell_type": "code",
   "execution_count": null,
   "metadata": {},
   "outputs": [],
   "source": []
  },
  {
   "cell_type": "code",
   "execution_count": null,
   "metadata": {},
   "outputs": [],
   "source": []
  },
  {
   "cell_type": "code",
   "execution_count": null,
   "metadata": {},
   "outputs": [],
   "source": []
  },
  {
   "cell_type": "code",
   "execution_count": null,
   "metadata": {},
   "outputs": [],
   "source": []
  },
  {
   "cell_type": "code",
   "execution_count": null,
   "metadata": {},
   "outputs": [],
   "source": [
    "len(null_demo)"
   ]
  },
  {
   "cell_type": "code",
   "execution_count": null,
   "metadata": {},
   "outputs": [],
   "source": [
    "len(demo)"
   ]
  },
  {
   "cell_type": "code",
   "execution_count": null,
   "metadata": {},
   "outputs": [],
   "source": [
    "len(demo)/(len(null_demo)+len(demo))"
   ]
  },
  {
   "cell_type": "code",
   "execution_count": null,
   "metadata": {},
   "outputs": [],
   "source": []
  },
  {
   "cell_type": "code",
   "execution_count": null,
   "metadata": {},
   "outputs": [],
   "source": [
    "res_19 = records.groupby(['ethnicity','performance']).nunique()['artist_id'].reset_index()"
   ]
  },
  {
   "cell_type": "code",
   "execution_count": null,
   "metadata": {},
   "outputs": [],
   "source": [
    "res_19[res_19['performance']==1]"
   ]
  },
  {
   "cell_type": "code",
   "execution_count": null,
   "metadata": {},
   "outputs": [],
   "source": [
    "res_19['artist_id']"
   ]
  },
  {
   "cell_type": "code",
   "execution_count": null,
   "metadata": {},
   "outputs": [],
   "source": [
    "records['artist_id'].nunique()"
   ]
  },
  {
   "cell_type": "markdown",
   "metadata": {},
   "source": [
    "## Regression Analysis"
   ]
  },
  {
   "cell_type": "code",
   "execution_count": null,
   "metadata": {},
   "outputs": [],
   "source": [
    "import numpy as np\n",
    "from sklearn.linear_model import LinearRegression"
   ]
  },
  {
   "cell_type": "code",
   "execution_count": null,
   "metadata": {},
   "outputs": [],
   "source": [
    "len(['artist_account_name', 'artist_id', 'Art Form (General Discipline)',\n",
    "       'Contract Classification', 'Date', 'Contract #', 'Client Zip Code',\n",
    "       'Client', 'Billing Code', 'Component Type', 'respondent_id', 'age',\n",
    "       'gender', 'city', 'state', 'ethnicity'])"
   ]
  },
  {
   "cell_type": "code",
   "execution_count": null,
   "metadata": {},
   "outputs": [],
   "source": [
    "x = np.array(df_ind.loc[:,['artist_id', 'Art Form (General Discipline)',\n",
    "       'Contract Classification', 'Date', 'Contract #', 'Client Zip Code',\n",
    "       'Client', 'Billing Code', 'Component Type', 'respondent_id', 'age',\n",
    "       'gender', 'city', 'state', 'ethnicity']]).reshape(-1,15)"
   ]
  },
  {
   "cell_type": "code",
   "execution_count": null,
   "metadata": {},
   "outputs": [],
   "source": [
    "y = np.array(df_ind['Artist Fee'])"
   ]
  },
  {
   "cell_type": "code",
   "execution_count": null,
   "metadata": {},
   "outputs": [],
   "source": [
    "model = LinearRegression()"
   ]
  },
  {
   "cell_type": "code",
   "execution_count": null,
   "metadata": {},
   "outputs": [],
   "source": [
    "pd.to_numeric(df_ind['Art Form (General Discipline)'], errors='coerce')"
   ]
  },
  {
   "cell_type": "code",
   "execution_count": null,
   "metadata": {},
   "outputs": [],
   "source": [
    "df_ind['Art Form (General Discipline)'].apply(pd.to_numeric)"
   ]
  },
  {
   "cell_type": "code",
   "execution_count": null,
   "metadata": {},
   "outputs": [],
   "source": [
    "df_ind.loc[:,['artist_id', 'Art Form (General Discipline)',\n",
    "       'Contract Classification', 'Date', 'Contract #', 'Client Zip Code',\n",
    "       'Client', 'Billing Code', 'Component Type', 'respondent_id', 'age',\n",
    "       'gender', 'city', 'state', 'ethnicity']].apply(pd.to_numeric, errors='coerce')"
   ]
  },
  {
   "cell_type": "code",
   "execution_count": null,
   "metadata": {},
   "outputs": [],
   "source": [
    "x.apply(pd.to_numeric, errors='coerce')"
   ]
  },
  {
   "cell_type": "code",
   "execution_count": null,
   "metadata": {},
   "outputs": [],
   "source": [
    "model.fit(x, y)"
   ]
  },
  {
   "cell_type": "code",
   "execution_count": null,
   "metadata": {},
   "outputs": [],
   "source": [
    "#join[join['artist_id']==56]"
   ]
  },
  {
   "cell_type": "code",
   "execution_count": null,
   "metadata": {},
   "outputs": [],
   "source": []
  },
  {
   "cell_type": "code",
   "execution_count": null,
   "metadata": {},
   "outputs": [],
   "source": []
  },
  {
   "cell_type": "code",
   "execution_count": null,
   "metadata": {},
   "outputs": [],
   "source": [
    "p = three_year[pd.isnull(three_year['Artist Payroll ID'])]\n",
    "p = three_year.drop_duplicates(['Artist Payroll ID', 'Artist: Account Name'])"
   ]
  },
  {
   "cell_type": "code",
   "execution_count": null,
   "metadata": {},
   "outputs": [],
   "source": [
    "demo[demo['age']=='75 or older']"
   ]
  },
  {
   "cell_type": "code",
   "execution_count": null,
   "metadata": {},
   "outputs": [],
   "source": [
    "demo.to_excel('demographics.xlsx')"
   ]
  }
 ],
 "metadata": {
  "interpreter": {
   "hash": "2a0e6ac5b7e19e25da07df31b33f441d49c99a24f25781d722c2fa104d7061cf"
  },
  "kernelspec": {
   "display_name": "Python 3.9.5 64-bit ('3.9.5': pyenv)",
   "name": "python3"
  },
  "language_info": {
   "codemirror_mode": {
    "name": "ipython",
    "version": 3
   },
   "file_extension": ".py",
   "mimetype": "text/x-python",
   "name": "python",
   "nbconvert_exporter": "python",
   "pygments_lexer": "ipython3",
   "version": "3.9.5"
  }
 },
 "nbformat": 4,
 "nbformat_minor": 4
}
