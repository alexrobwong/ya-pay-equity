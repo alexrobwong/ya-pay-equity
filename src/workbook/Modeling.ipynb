{
 "cells": [
  {
   "cell_type": "markdown",
   "metadata": {},
   "source": [
    "# Young Audiences Data"
   ]
  },
  {
   "cell_type": "code",
   "execution_count": 1,
   "metadata": {},
   "outputs": [],
   "source": [
    "import pandas as pd\n",
    "import glob\n",
    "from collections import defaultdict\n",
    "from fuzzywuzzy import process, fuzz\n",
    "#import matplotlib.pyplot as plt"
   ]
  },
  {
   "cell_type": "code",
   "execution_count": 2,
   "metadata": {},
   "outputs": [],
   "source": [
    "path = \"/Users/jjgong/Desktop/ya-pay-equity/data/raw/\"\n",
    "# Use Glob to retrieve all of the file names\n",
    "file_list = glob.glob(path+'*.xlsx')\n",
    "# Sort files\n",
    "file_list.sort()"
   ]
  },
  {
   "cell_type": "code",
   "execution_count": 3,
   "metadata": {},
   "outputs": [
    {
     "data": {
      "text/plain": [
       "['/Users/jjgong/Desktop/ya-pay-equity/data/raw/Performance Pair Pricing.xlsx',\n",
       " '/Users/jjgong/Desktop/ya-pay-equity/data/raw/Professional Learning Pricing.xlsx',\n",
       " '/Users/jjgong/Desktop/ya-pay-equity/data/raw/Single Assembly Pricing.xlsx',\n",
       " '/Users/jjgong/Desktop/ya-pay-equity/data/raw/Teaching Artist Demographics Collection 2021.xlsx',\n",
       " '/Users/jjgong/Desktop/ya-pay-equity/data/raw/Teaching Artist Demographics Collection Short 04 06 21.xlsx',\n",
       " '/Users/jjgong/Desktop/ya-pay-equity/data/raw/Three Year Sales Report.xlsx',\n",
       " '/Users/jjgong/Desktop/ya-pay-equity/data/raw/Workshop Pricing.xlsx',\n",
       " '/Users/jjgong/Desktop/ya-pay-equity/data/raw/artist_count_per_group.xlsx',\n",
       " '/Users/jjgong/Desktop/ya-pay-equity/data/raw/demographic_cleaned_part_1.xlsx',\n",
       " '/Users/jjgong/Desktop/ya-pay-equity/data/raw/demographic_cleaned_part_2.xlsx',\n",
       " '/Users/jjgong/Desktop/ya-pay-equity/data/raw/demographic_snapshot.xlsx']"
      ]
     },
     "execution_count": 3,
     "metadata": {},
     "output_type": "execute_result"
    }
   ],
   "source": [
    "file_list"
   ]
  },
  {
   "cell_type": "markdown",
   "metadata": {},
   "source": [
    "## Data Upload"
   ]
  },
  {
   "cell_type": "code",
   "execution_count": 4,
   "metadata": {},
   "outputs": [],
   "source": [
    "d = defaultdict(lambda: defaultdict())\n",
    "for i,f in enumerate(file_list):\n",
    "    d[i]['name'] = file_list[i][45:-5]\n",
    "    d[i]['file'] = pd.read_excel(f)"
   ]
  },
  {
   "cell_type": "code",
   "execution_count": 5,
   "metadata": {},
   "outputs": [],
   "source": [
    "# Get title and file\n",
    "def get_name(d):\n",
    "    print(d['name'])\n",
    "    return d['file']"
   ]
  },
  {
   "cell_type": "code",
   "execution_count": 6,
   "metadata": {},
   "outputs": [],
   "source": [
    "pd.set_option(\"max_columns\", 500)"
   ]
  },
  {
   "cell_type": "markdown",
   "metadata": {},
   "source": [
    "## Three Year Sales Data"
   ]
  },
  {
   "cell_type": "code",
   "execution_count": 7,
   "metadata": {},
   "outputs": [
    {
     "name": "stdout",
     "output_type": "stream",
     "text": [
      "Three Year Sales Report\n"
     ]
    }
   ],
   "source": [
    "three_year = get_name(d[5]).copy()\n",
    "three_year.columns = [col.strip() for col in list(three_year.columns)]"
   ]
  },
  {
   "cell_type": "code",
   "execution_count": 8,
   "metadata": {},
   "outputs": [],
   "source": [
    "# Mapping for IDs \n",
    "id_map = defaultdict()\n",
    "for aid, an in zip(three_year['Artist Payroll ID'], three_year['Artist: Account Name']):\n",
    "    if pd.isnull(aid)==False:\n",
    "        id_map[an] = aid"
   ]
  },
  {
   "cell_type": "code",
   "execution_count": 9,
   "metadata": {},
   "outputs": [],
   "source": [
    "# Map the unmapped artist IDs\n",
    "three_year.loc[three_year[pd.isnull(three_year['Artist Payroll ID'])].index, ['Artist Payroll ID']] = three_year[pd.isnull(three_year['Artist Payroll ID'])]['Artist: Account Name'].apply(lambda x: d.get(x, float('NaN')))\n",
    "# Literary Art to Literary Arts\n",
    "three_year.loc[three_year[three_year['Art Form (General Discipline)']=='Literary Arts'].index, ['Art Form (General Discipline)']] = 'Literary Art'"
   ]
  },
  {
   "cell_type": "code",
   "execution_count": 11,
   "metadata": {},
   "outputs": [],
   "source": [
    "#three_year.apply(lambda x: id_map.get(x['Artist: Account Name']) if pd.isnull(x['Artist Payroll ID']) else x, axis=1)"
   ]
  },
  {
   "cell_type": "code",
   "execution_count": 12,
   "metadata": {},
   "outputs": [],
   "source": [
    "# Map missing names # Artist Payroll ID. Map some unmapped one\n",
    "three_year['Artist Payroll ID'] = three_year.apply(lambda x: id_map.get(x['Artist: Account Name']) if pd.isnull(x['Artist Payroll ID']) else x, axis=1)['Artist Payroll ID']\n",
    "#three_year['Artist Payroll ID'] = three_year.apply(lambda x: id_map.get(x['Artist: Account Name']) if pd.isnull(x['Artist Payroll ID']) else x, axis=1)['Artist: Account Name']"
   ]
  },
  {
   "cell_type": "code",
   "execution_count": 13,
   "metadata": {},
   "outputs": [
    {
     "data": {
      "text/html": [
       "<div>\n",
       "<style scoped>\n",
       "    .dataframe tbody tr th:only-of-type {\n",
       "        vertical-align: middle;\n",
       "    }\n",
       "\n",
       "    .dataframe tbody tr th {\n",
       "        vertical-align: top;\n",
       "    }\n",
       "\n",
       "    .dataframe thead th {\n",
       "        text-align: right;\n",
       "    }\n",
       "</style>\n",
       "<table border=\"1\" class=\"dataframe\">\n",
       "  <thead>\n",
       "    <tr style=\"text-align: right;\">\n",
       "      <th></th>\n",
       "      <th>Artist Payroll ID</th>\n",
       "      <th>Artist: Account Name</th>\n",
       "      <th>Art Form (General Discipline)</th>\n",
       "      <th>Contract Classification</th>\n",
       "      <th>Date</th>\n",
       "      <th>Contract #</th>\n",
       "      <th>Client Zip Code</th>\n",
       "      <th>Client</th>\n",
       "      <th>Billing Code</th>\n",
       "      <th>Component Type</th>\n",
       "      <th>Artist Fee</th>\n",
       "      <th>Sale Price</th>\n",
       "      <th>Artist Business name</th>\n",
       "    </tr>\n",
       "  </thead>\n",
       "  <tbody>\n",
       "  </tbody>\n",
       "</table>\n",
       "</div>"
      ],
      "text/plain": [
       "Empty DataFrame\n",
       "Columns: [Artist Payroll ID, Artist: Account Name, Art Form (General Discipline), Contract Classification, Date, Contract #, Client Zip Code, Client, Billing Code, Component Type, Artist Fee, Sale Price, Artist Business name]\n",
       "Index: []"
      ]
     },
     "execution_count": 13,
     "metadata": {},
     "output_type": "execute_result"
    }
   ],
   "source": [
    "# Null Payroll IDs still\n",
    "three_year[pd.isnull(three_year['Artist: Account Name'])]"
   ]
  },
  {
   "cell_type": "code",
   "execution_count": 14,
   "metadata": {},
   "outputs": [
    {
     "data": {
      "text/html": [
       "<div>\n",
       "<style scoped>\n",
       "    .dataframe tbody tr th:only-of-type {\n",
       "        vertical-align: middle;\n",
       "    }\n",
       "\n",
       "    .dataframe tbody tr th {\n",
       "        vertical-align: top;\n",
       "    }\n",
       "\n",
       "    .dataframe thead th {\n",
       "        text-align: right;\n",
       "    }\n",
       "</style>\n",
       "<table border=\"1\" class=\"dataframe\">\n",
       "  <thead>\n",
       "    <tr style=\"text-align: right;\">\n",
       "      <th></th>\n",
       "      <th>Artist Payroll ID</th>\n",
       "      <th>Artist: Account Name</th>\n",
       "      <th>Art Form (General Discipline)</th>\n",
       "      <th>Contract Classification</th>\n",
       "      <th>Date</th>\n",
       "      <th>Contract #</th>\n",
       "      <th>Client Zip Code</th>\n",
       "      <th>Client</th>\n",
       "      <th>Billing Code</th>\n",
       "      <th>Component Type</th>\n",
       "      <th>Artist Fee</th>\n",
       "      <th>Sale Price</th>\n",
       "      <th>Artist Business name</th>\n",
       "    </tr>\n",
       "  </thead>\n",
       "  <tbody>\n",
       "    <tr>\n",
       "      <th>2114</th>\n",
       "      <td>NaN</td>\n",
       "      <td>Deborah Owens</td>\n",
       "      <td>NaN</td>\n",
       "      <td>Admin/Project Dev</td>\n",
       "      <td>2021-03-15</td>\n",
       "      <td>21-0009889</td>\n",
       "      <td>08540</td>\n",
       "      <td>Young Audiences New Jersey</td>\n",
       "      <td>UWC YA Match</td>\n",
       "      <td>Teacher Stipend</td>\n",
       "      <td>200.0</td>\n",
       "      <td>200.0</td>\n",
       "      <td>Deborah Owens</td>\n",
       "    </tr>\n",
       "    <tr>\n",
       "      <th>2115</th>\n",
       "      <td>NaN</td>\n",
       "      <td>Derling Dance Arts</td>\n",
       "      <td>Dance</td>\n",
       "      <td>Professional Learning</td>\n",
       "      <td>2019-02-06</td>\n",
       "      <td>19-0008302</td>\n",
       "      <td>08540</td>\n",
       "      <td>Young Audiences New Jersey</td>\n",
       "      <td>Dodge Dance</td>\n",
       "      <td>Professional Learning</td>\n",
       "      <td>350.0</td>\n",
       "      <td>500.0</td>\n",
       "      <td>Derlling Dance Arts</td>\n",
       "    </tr>\n",
       "    <tr>\n",
       "      <th>2116</th>\n",
       "      <td>NaN</td>\n",
       "      <td>Dr. Ronah Harris</td>\n",
       "      <td>NaN</td>\n",
       "      <td>Admin/Project Dev</td>\n",
       "      <td>2020-10-02</td>\n",
       "      <td>21-0009574</td>\n",
       "      <td>08540</td>\n",
       "      <td>Young Audiences New Jersey</td>\n",
       "      <td>Virtual Learning Pilot</td>\n",
       "      <td>Artist Stipend</td>\n",
       "      <td>500.0</td>\n",
       "      <td>500.0</td>\n",
       "      <td>Dr. Ronah Harris</td>\n",
       "    </tr>\n",
       "    <tr>\n",
       "      <th>9540</th>\n",
       "      <td>NaN</td>\n",
       "      <td>Roxey Ballet</td>\n",
       "      <td>Dance</td>\n",
       "      <td>Professional Learning</td>\n",
       "      <td>2018-11-02</td>\n",
       "      <td>19-0008035</td>\n",
       "      <td>08540</td>\n",
       "      <td>Young Audiences New Jersey</td>\n",
       "      <td>Dodge Dance</td>\n",
       "      <td>Professional Learning</td>\n",
       "      <td>350.0</td>\n",
       "      <td>500.0</td>\n",
       "      <td>NaN</td>\n",
       "    </tr>\n",
       "  </tbody>\n",
       "</table>\n",
       "</div>"
      ],
      "text/plain": [
       "      Artist Payroll ID Artist: Account Name Art Form (General Discipline)  \\\n",
       "2114                NaN        Deborah Owens                           NaN   \n",
       "2115                NaN   Derling Dance Arts                         Dance   \n",
       "2116                NaN     Dr. Ronah Harris                           NaN   \n",
       "9540                NaN         Roxey Ballet                         Dance   \n",
       "\n",
       "     Contract Classification       Date  Contract # Client Zip Code  \\\n",
       "2114       Admin/Project Dev 2021-03-15  21-0009889           08540   \n",
       "2115   Professional Learning 2019-02-06  19-0008302           08540   \n",
       "2116       Admin/Project Dev 2020-10-02  21-0009574           08540   \n",
       "9540   Professional Learning 2018-11-02  19-0008035           08540   \n",
       "\n",
       "                          Client            Billing Code  \\\n",
       "2114  Young Audiences New Jersey            UWC YA Match   \n",
       "2115  Young Audiences New Jersey             Dodge Dance   \n",
       "2116  Young Audiences New Jersey  Virtual Learning Pilot   \n",
       "9540  Young Audiences New Jersey             Dodge Dance   \n",
       "\n",
       "             Component Type  Artist Fee  Sale Price Artist Business name  \n",
       "2114        Teacher Stipend       200.0       200.0        Deborah Owens  \n",
       "2115  Professional Learning       350.0       500.0  Derlling Dance Arts  \n",
       "2116         Artist Stipend       500.0       500.0     Dr. Ronah Harris  \n",
       "9540  Professional Learning       350.0       500.0                  NaN  "
      ]
     },
     "execution_count": 14,
     "metadata": {},
     "output_type": "execute_result"
    }
   ],
   "source": [
    "three_year[pd.isnull(three_year['Artist Payroll ID'])]"
   ]
  },
  {
   "cell_type": "code",
   "execution_count": 15,
   "metadata": {},
   "outputs": [],
   "source": [
    "# Removes unwanted indexes that have a NULL Artist Payroll ID\n",
    "three_year = three_year[~three_year.index.isin(list(three_year[pd.isnull(three_year['Artist Payroll ID'])].index))].reset_index(drop=True)"
   ]
  },
  {
   "cell_type": "code",
   "execution_count": 16,
   "metadata": {},
   "outputs": [
    {
     "data": {
      "text/html": [
       "<div>\n",
       "<style scoped>\n",
       "    .dataframe tbody tr th:only-of-type {\n",
       "        vertical-align: middle;\n",
       "    }\n",
       "\n",
       "    .dataframe tbody tr th {\n",
       "        vertical-align: top;\n",
       "    }\n",
       "\n",
       "    .dataframe thead th {\n",
       "        text-align: right;\n",
       "    }\n",
       "</style>\n",
       "<table border=\"1\" class=\"dataframe\">\n",
       "  <thead>\n",
       "    <tr style=\"text-align: right;\">\n",
       "      <th></th>\n",
       "      <th>Artist Payroll ID</th>\n",
       "      <th>Artist: Account Name</th>\n",
       "      <th>Art Form (General Discipline)</th>\n",
       "      <th>Contract Classification</th>\n",
       "      <th>Date</th>\n",
       "      <th>Contract #</th>\n",
       "      <th>Client Zip Code</th>\n",
       "      <th>Client</th>\n",
       "      <th>Billing Code</th>\n",
       "      <th>Component Type</th>\n",
       "      <th>Artist Fee</th>\n",
       "      <th>Sale Price</th>\n",
       "      <th>Artist Business name</th>\n",
       "    </tr>\n",
       "  </thead>\n",
       "  <tbody>\n",
       "  </tbody>\n",
       "</table>\n",
       "</div>"
      ],
      "text/plain": [
       "Empty DataFrame\n",
       "Columns: [Artist Payroll ID, Artist: Account Name, Art Form (General Discipline), Contract Classification, Date, Contract #, Client Zip Code, Client, Billing Code, Component Type, Artist Fee, Sale Price, Artist Business name]\n",
       "Index: []"
      ]
     },
     "execution_count": 16,
     "metadata": {},
     "output_type": "execute_result"
    }
   ],
   "source": [
    "three_year[pd.isnull(three_year['Artist Payroll ID'])]"
   ]
  },
  {
   "cell_type": "code",
   "execution_count": 17,
   "metadata": {},
   "outputs": [
    {
     "name": "stdout",
     "output_type": "stream",
     "text": [
      "demographic_snapshot\n"
     ]
    }
   ],
   "source": [
    "demographic = get_name(d[10])\n",
    "dd = demographic.copy()\n",
    "# Remove Unamed column\n",
    "demographic = demographic.drop(labels=['Unnamed: 0'], axis=1)\n",
    "# Drop duplicates\n",
    "demographic = demographic.drop_duplicates(subset=['artist_id'], keep='last').reset_index(drop=True)"
   ]
  },
  {
   "cell_type": "code",
   "execution_count": 18,
   "metadata": {},
   "outputs": [],
   "source": [
    "# Retrieve top 10 components\n",
    "top_components = list(three_year['Component Type'].value_counts()[:9].index)\n",
    "top_components.remove('Travel')\n",
    "top_components.remove('Materials')\n",
    "top_components.append('Virtual Planning Meeting')"
   ]
  },
  {
   "cell_type": "code",
   "execution_count": 19,
   "metadata": {},
   "outputs": [
    {
     "data": {
      "text/plain": [
       "['Workshop',\n",
       " 'Performance/Demo',\n",
       " 'Virtual Workshop',\n",
       " 'Professional Learning',\n",
       " 'Virtual Performance',\n",
       " 'Virtual Professional Learning',\n",
       " 'Planning Meeting',\n",
       " 'Virtual Planning Meeting']"
      ]
     },
     "execution_count": 19,
     "metadata": {},
     "output_type": "execute_result"
    }
   ],
   "source": [
    "top_components"
   ]
  },
  {
   "cell_type": "code",
   "execution_count": 20,
   "metadata": {},
   "outputs": [],
   "source": [
    "# Group by\n",
    "three_yr_grp = three_year.groupby(['Artist Payroll ID', 'Artist: Account Name', 'Art Form (General Discipline)', 'Contract Classification', 'Date', 'Contract #', 'Client Zip Code', 'Client', 'Billing Code', 'Component Type', 'Artist Business name']).sum()['Artist Fee'].reset_index().reset_index(drop=True)"
   ]
  },
  {
   "cell_type": "code",
   "execution_count": 21,
   "metadata": {},
   "outputs": [],
   "source": [
    "# Retrieve only top performances. Remove other components\n",
    "# # three_year_cnt = three_year[three_year['Component Type'].isin(top_components)].copy()"
   ]
  },
  {
   "cell_type": "code",
   "execution_count": 22,
   "metadata": {},
   "outputs": [],
   "source": [
    "# Retrieve only top performances. Remove other components\n",
    "three_yr_grp = three_yr_grp[three_yr_grp['Component Type'].isin(top_components)].copy()"
   ]
  },
  {
   "cell_type": "code",
   "execution_count": 23,
   "metadata": {},
   "outputs": [
    {
     "data": {
      "text/plain": [
       "3745"
      ]
     },
     "execution_count": 23,
     "metadata": {},
     "output_type": "execute_result"
    }
   ],
   "source": [
    "len(three_yr_grp)"
   ]
  },
  {
   "cell_type": "code",
   "execution_count": 24,
   "metadata": {},
   "outputs": [
    {
     "data": {
      "text/html": [
       "<div>\n",
       "<style scoped>\n",
       "    .dataframe tbody tr th:only-of-type {\n",
       "        vertical-align: middle;\n",
       "    }\n",
       "\n",
       "    .dataframe tbody tr th {\n",
       "        vertical-align: top;\n",
       "    }\n",
       "\n",
       "    .dataframe thead th {\n",
       "        text-align: right;\n",
       "    }\n",
       "</style>\n",
       "<table border=\"1\" class=\"dataframe\">\n",
       "  <thead>\n",
       "    <tr style=\"text-align: right;\">\n",
       "      <th></th>\n",
       "      <th>Artist Payroll ID</th>\n",
       "      <th>Artist: Account Name</th>\n",
       "      <th>Art Form (General Discipline)</th>\n",
       "      <th>Contract Classification</th>\n",
       "      <th>Date</th>\n",
       "      <th>Contract #</th>\n",
       "      <th>Client Zip Code</th>\n",
       "      <th>Client</th>\n",
       "      <th>Billing Code</th>\n",
       "      <th>Component Type</th>\n",
       "      <th>Artist Business name</th>\n",
       "      <th>Artist Fee</th>\n",
       "    </tr>\n",
       "  </thead>\n",
       "  <tbody>\n",
       "    <tr>\n",
       "      <th>0</th>\n",
       "      <td>0.0</td>\n",
       "      <td>10HL</td>\n",
       "      <td>Dance</td>\n",
       "      <td>Professional Learning</td>\n",
       "      <td>2018-11-15</td>\n",
       "      <td>19-0008036</td>\n",
       "      <td>08540</td>\n",
       "      <td>Young Audiences New Jersey</td>\n",
       "      <td>Dodge Dance</td>\n",
       "      <td>Professional Learning</td>\n",
       "      <td>10 Hairy Legs</td>\n",
       "      <td>350.00</td>\n",
       "    </tr>\n",
       "    <tr>\n",
       "      <th>2</th>\n",
       "      <td>0.0</td>\n",
       "      <td>Oyin Hardy</td>\n",
       "      <td>Dance</td>\n",
       "      <td>Residency</td>\n",
       "      <td>2018-10-04</td>\n",
       "      <td>19-0007894</td>\n",
       "      <td>08302</td>\n",
       "      <td>Cherry St Elem School</td>\n",
       "      <td>21st century</td>\n",
       "      <td>Workshop</td>\n",
       "      <td>Troupe Da-Da African Dance &amp; Drum Ensemble</td>\n",
       "      <td>410.00</td>\n",
       "    </tr>\n",
       "    <tr>\n",
       "      <th>4</th>\n",
       "      <td>0.0</td>\n",
       "      <td>Oyin Hardy</td>\n",
       "      <td>Dance</td>\n",
       "      <td>Residency</td>\n",
       "      <td>2018-10-11</td>\n",
       "      <td>19-0007894</td>\n",
       "      <td>08302</td>\n",
       "      <td>Cherry St Elem School</td>\n",
       "      <td>21st century</td>\n",
       "      <td>Workshop</td>\n",
       "      <td>Troupe Da-Da African Dance &amp; Drum Ensemble</td>\n",
       "      <td>410.00</td>\n",
       "    </tr>\n",
       "    <tr>\n",
       "      <th>6</th>\n",
       "      <td>0.0</td>\n",
       "      <td>Oyin Hardy</td>\n",
       "      <td>Dance</td>\n",
       "      <td>Residency</td>\n",
       "      <td>2018-10-18</td>\n",
       "      <td>19-0007894</td>\n",
       "      <td>08302</td>\n",
       "      <td>Cherry St Elem School</td>\n",
       "      <td>21st century</td>\n",
       "      <td>Workshop</td>\n",
       "      <td>Troupe Da-Da African Dance &amp; Drum Ensemble</td>\n",
       "      <td>410.00</td>\n",
       "    </tr>\n",
       "    <tr>\n",
       "      <th>8</th>\n",
       "      <td>0.0</td>\n",
       "      <td>Oyin Hardy</td>\n",
       "      <td>Dance</td>\n",
       "      <td>Residency</td>\n",
       "      <td>2018-10-25</td>\n",
       "      <td>19-0007894</td>\n",
       "      <td>08302</td>\n",
       "      <td>Cherry St Elem School</td>\n",
       "      <td>21st century</td>\n",
       "      <td>Workshop</td>\n",
       "      <td>Troupe Da-Da African Dance &amp; Drum Ensemble</td>\n",
       "      <td>410.00</td>\n",
       "    </tr>\n",
       "    <tr>\n",
       "      <th>...</th>\n",
       "      <td>...</td>\n",
       "      <td>...</td>\n",
       "      <td>...</td>\n",
       "      <td>...</td>\n",
       "      <td>...</td>\n",
       "      <td>...</td>\n",
       "      <td>...</td>\n",
       "      <td>...</td>\n",
       "      <td>...</td>\n",
       "      <td>...</td>\n",
       "      <td>...</td>\n",
       "      <td>...</td>\n",
       "    </tr>\n",
       "    <tr>\n",
       "      <th>6968</th>\n",
       "      <td>264.0</td>\n",
       "      <td>Summer Dawn</td>\n",
       "      <td>Theater</td>\n",
       "      <td>Workshop</td>\n",
       "      <td>2021-02-17</td>\n",
       "      <td>21-0009627</td>\n",
       "      <td>08610</td>\n",
       "      <td>George E. Wilson Elementary</td>\n",
       "      <td>Arts Lab- Hamilton</td>\n",
       "      <td>Virtual Workshop</td>\n",
       "      <td>Thinking In Full Color LLC</td>\n",
       "      <td>350.01</td>\n",
       "    </tr>\n",
       "    <tr>\n",
       "      <th>6969</th>\n",
       "      <td>264.0</td>\n",
       "      <td>Summer Dawn</td>\n",
       "      <td>Theater</td>\n",
       "      <td>Workshop</td>\n",
       "      <td>2021-02-23</td>\n",
       "      <td>21-0009627</td>\n",
       "      <td>08610</td>\n",
       "      <td>George E. Wilson Elementary</td>\n",
       "      <td>Arts Lab- Hamilton</td>\n",
       "      <td>Virtual Workshop</td>\n",
       "      <td>Thinking In Full Color LLC</td>\n",
       "      <td>350.01</td>\n",
       "    </tr>\n",
       "    <tr>\n",
       "      <th>6970</th>\n",
       "      <td>264.0</td>\n",
       "      <td>Summer Dawn</td>\n",
       "      <td>Theater</td>\n",
       "      <td>Workshop</td>\n",
       "      <td>2021-02-24</td>\n",
       "      <td>21-0009627</td>\n",
       "      <td>08610</td>\n",
       "      <td>George E. Wilson Elementary</td>\n",
       "      <td>Arts Lab- Hamilton</td>\n",
       "      <td>Virtual Workshop</td>\n",
       "      <td>Thinking In Full Color LLC</td>\n",
       "      <td>350.01</td>\n",
       "    </tr>\n",
       "    <tr>\n",
       "      <th>6971</th>\n",
       "      <td>264.0</td>\n",
       "      <td>Summer Dawn</td>\n",
       "      <td>Theater</td>\n",
       "      <td>Workshop</td>\n",
       "      <td>2021-03-01</td>\n",
       "      <td>21-0009627</td>\n",
       "      <td>08610</td>\n",
       "      <td>George E. Wilson Elementary</td>\n",
       "      <td>Arts Lab- Hamilton</td>\n",
       "      <td>Virtual Professional Learning</td>\n",
       "      <td>Thinking In Full Color LLC</td>\n",
       "      <td>350.00</td>\n",
       "    </tr>\n",
       "    <tr>\n",
       "      <th>6973</th>\n",
       "      <td>264.0</td>\n",
       "      <td>Summer Dawn</td>\n",
       "      <td>Theater</td>\n",
       "      <td>Workshop</td>\n",
       "      <td>2021-04-14</td>\n",
       "      <td>21-0009757</td>\n",
       "      <td>19141</td>\n",
       "      <td>David Cohen Ogontz Library</td>\n",
       "      <td>YAEP: Arts Impact</td>\n",
       "      <td>Virtual Workshop</td>\n",
       "      <td>Thinking In Full Color LLC</td>\n",
       "      <td>350.00</td>\n",
       "    </tr>\n",
       "  </tbody>\n",
       "</table>\n",
       "<p>3745 rows × 12 columns</p>\n",
       "</div>"
      ],
      "text/plain": [
       "      Artist Payroll ID Artist: Account Name Art Form (General Discipline)  \\\n",
       "0                   0.0                 10HL                         Dance   \n",
       "2                   0.0           Oyin Hardy                         Dance   \n",
       "4                   0.0           Oyin Hardy                         Dance   \n",
       "6                   0.0           Oyin Hardy                         Dance   \n",
       "8                   0.0           Oyin Hardy                         Dance   \n",
       "...                 ...                  ...                           ...   \n",
       "6968              264.0          Summer Dawn                       Theater   \n",
       "6969              264.0          Summer Dawn                       Theater   \n",
       "6970              264.0          Summer Dawn                       Theater   \n",
       "6971              264.0          Summer Dawn                       Theater   \n",
       "6973              264.0          Summer Dawn                       Theater   \n",
       "\n",
       "     Contract Classification       Date  Contract # Client Zip Code  \\\n",
       "0      Professional Learning 2018-11-15  19-0008036           08540   \n",
       "2                  Residency 2018-10-04  19-0007894           08302   \n",
       "4                  Residency 2018-10-11  19-0007894           08302   \n",
       "6                  Residency 2018-10-18  19-0007894           08302   \n",
       "8                  Residency 2018-10-25  19-0007894           08302   \n",
       "...                      ...        ...         ...             ...   \n",
       "6968                Workshop 2021-02-17  21-0009627           08610   \n",
       "6969                Workshop 2021-02-23  21-0009627           08610   \n",
       "6970                Workshop 2021-02-24  21-0009627           08610   \n",
       "6971                Workshop 2021-03-01  21-0009627           08610   \n",
       "6973                Workshop 2021-04-14  21-0009757           19141   \n",
       "\n",
       "                           Client        Billing Code  \\\n",
       "0      Young Audiences New Jersey         Dodge Dance   \n",
       "2           Cherry St Elem School        21st century   \n",
       "4           Cherry St Elem School        21st century   \n",
       "6           Cherry St Elem School        21st century   \n",
       "8           Cherry St Elem School        21st century   \n",
       "...                           ...                 ...   \n",
       "6968  George E. Wilson Elementary  Arts Lab- Hamilton   \n",
       "6969  George E. Wilson Elementary  Arts Lab- Hamilton   \n",
       "6970  George E. Wilson Elementary  Arts Lab- Hamilton   \n",
       "6971  George E. Wilson Elementary  Arts Lab- Hamilton   \n",
       "6973   David Cohen Ogontz Library   YAEP: Arts Impact   \n",
       "\n",
       "                     Component Type  \\\n",
       "0             Professional Learning   \n",
       "2                          Workshop   \n",
       "4                          Workshop   \n",
       "6                          Workshop   \n",
       "8                          Workshop   \n",
       "...                             ...   \n",
       "6968               Virtual Workshop   \n",
       "6969               Virtual Workshop   \n",
       "6970               Virtual Workshop   \n",
       "6971  Virtual Professional Learning   \n",
       "6973               Virtual Workshop   \n",
       "\n",
       "                            Artist Business name  Artist Fee  \n",
       "0                                  10 Hairy Legs      350.00  \n",
       "2     Troupe Da-Da African Dance & Drum Ensemble      410.00  \n",
       "4     Troupe Da-Da African Dance & Drum Ensemble      410.00  \n",
       "6     Troupe Da-Da African Dance & Drum Ensemble      410.00  \n",
       "8     Troupe Da-Da African Dance & Drum Ensemble      410.00  \n",
       "...                                          ...         ...  \n",
       "6968                  Thinking In Full Color LLC      350.01  \n",
       "6969                  Thinking In Full Color LLC      350.01  \n",
       "6970                  Thinking In Full Color LLC      350.01  \n",
       "6971                  Thinking In Full Color LLC      350.00  \n",
       "6973                  Thinking In Full Color LLC      350.00  \n",
       "\n",
       "[3745 rows x 12 columns]"
      ]
     },
     "execution_count": 24,
     "metadata": {},
     "output_type": "execute_result"
    }
   ],
   "source": [
    "three_yr_grp"
   ]
  },
  {
   "cell_type": "markdown",
   "metadata": {},
   "source": [
    "### Review unique artists"
   ]
  },
  {
   "cell_type": "code",
   "execution_count": 25,
   "metadata": {},
   "outputs": [],
   "source": [
    "# Retrieve unique artists\n",
    "unique_artists = three_yr_grp.drop_duplicates(subset=['Artist Payroll ID', 'Artist: Account Name'])[['Artist Payroll ID', 'Artist: Account Name']].reset_index(drop=True)"
   ]
  },
  {
   "cell_type": "code",
   "execution_count": 26,
   "metadata": {},
   "outputs": [],
   "source": [
    "joined = three_yr_grp.merge(demographic, how='outer', left_on='Artist Payroll ID', right_on='artist_id')"
   ]
  },
  {
   "cell_type": "code",
   "execution_count": 27,
   "metadata": {},
   "outputs": [
    {
     "data": {
      "text/plain": [
       "3749"
      ]
     },
     "execution_count": 27,
     "metadata": {},
     "output_type": "execute_result"
    }
   ],
   "source": [
    "len(joined)"
   ]
  },
  {
   "cell_type": "code",
   "execution_count": 28,
   "metadata": {},
   "outputs": [],
   "source": [
    "# Remove certain artists\n",
    "num_include = list(set(joined['Artist Payroll ID'])-set([95, 0, 20, 56]))"
   ]
  },
  {
   "cell_type": "code",
   "execution_count": 29,
   "metadata": {},
   "outputs": [],
   "source": [
    "included_df = joined[joined['Artist Payroll ID'].isin(num_include)]"
   ]
  },
  {
   "cell_type": "code",
   "execution_count": 30,
   "metadata": {},
   "outputs": [],
   "source": [
    "null_demo = included_df[pd.isnull(included_df['artist_id'])].copy().reset_index(drop=True)"
   ]
  },
  {
   "cell_type": "code",
   "execution_count": 31,
   "metadata": {},
   "outputs": [],
   "source": [
    "demo = included_df[~pd.isnull(included_df['artist_id'])].copy().reset_index(drop=True)"
   ]
  },
  {
   "cell_type": "code",
   "execution_count": 32,
   "metadata": {},
   "outputs": [
    {
     "data": {
      "text/plain": [
       "924"
      ]
     },
     "execution_count": 32,
     "metadata": {},
     "output_type": "execute_result"
    }
   ],
   "source": [
    "len(null_demo)"
   ]
  },
  {
   "cell_type": "code",
   "execution_count": 33,
   "metadata": {},
   "outputs": [
    {
     "data": {
      "text/plain": [
       "2683"
      ]
     },
     "execution_count": 33,
     "metadata": {},
     "output_type": "execute_result"
    }
   ],
   "source": [
    "len(demo)"
   ]
  },
  {
   "cell_type": "code",
   "execution_count": 34,
   "metadata": {},
   "outputs": [
    {
     "data": {
      "text/plain": [
       "0.743831438868866"
      ]
     },
     "execution_count": 34,
     "metadata": {},
     "output_type": "execute_result"
    }
   ],
   "source": [
    "len(demo)/(len(null_demo)+len(demo))"
   ]
  },
  {
   "cell_type": "code",
   "execution_count": 35,
   "metadata": {},
   "outputs": [
    {
     "data": {
      "text/plain": [
       "63"
      ]
     },
     "execution_count": 35,
     "metadata": {},
     "output_type": "execute_result"
    }
   ],
   "source": [
    "demo['Artist Payroll ID'].nunique()"
   ]
  },
  {
   "cell_type": "code",
   "execution_count": 36,
   "metadata": {},
   "outputs": [
    {
     "data": {
      "text/plain": [
       "0.743831438868866"
      ]
     },
     "execution_count": 36,
     "metadata": {},
     "output_type": "execute_result"
    }
   ],
   "source": [
    "len(demo)/(len(null_demo)+len(demo))"
   ]
  },
  {
   "cell_type": "code",
   "execution_count": 37,
   "metadata": {},
   "outputs": [
    {
     "data": {
      "text/plain": [
       "52"
      ]
     },
     "execution_count": 37,
     "metadata": {},
     "output_type": "execute_result"
    }
   ],
   "source": [
    "null_demo['Artist Payroll ID'].nunique()"
   ]
  },
  {
   "cell_type": "markdown",
   "metadata": {},
   "source": [
    "#### Insert Group Size"
   ]
  },
  {
   "cell_type": "code",
   "execution_count": null,
   "metadata": {},
   "outputs": [],
   "source": [
    "d.keys()"
   ]
  },
  {
   "cell_type": "code",
   "execution_count": 58,
   "metadata": {},
   "outputs": [
    {
     "name": "stdout",
     "output_type": "stream",
     "text": [
      "artist_count_per_group\n"
     ]
    }
   ],
   "source": [
    "grp_size = get_name(d[7]).copy()"
   ]
  },
  {
   "cell_type": "code",
   "execution_count": 61,
   "metadata": {},
   "outputs": [
    {
     "data": {
      "text/plain": [
       "108"
      ]
     },
     "execution_count": 61,
     "metadata": {},
     "output_type": "execute_result"
    }
   ],
   "source": [
    "three_yr_grp[(three_yr_grp['Date']>=pd.Timestamp(2019,1,1)) & (three_yr_grp['Date']<pd.Timestamp(2020,1,1))]['Artist Payroll ID'].nunique()"
   ]
  },
  {
   "cell_type": "code",
   "execution_count": 62,
   "metadata": {},
   "outputs": [
    {
     "data": {
      "text/plain": [
       "60"
      ]
     },
     "execution_count": 62,
     "metadata": {},
     "output_type": "execute_result"
    }
   ],
   "source": [
    "demo[(demo['Date']>=pd.Timestamp(2019,1,1)) & (demo['Date']<pd.Timestamp(2020,1,1))]['Artist Payroll ID'].nunique()"
   ]
  },
  {
   "cell_type": "code",
   "execution_count": 59,
   "metadata": {},
   "outputs": [],
   "source": [
    "grp_size = grp_size[pd.isnull(grp_size['status'])].copy()"
   ]
  },
  {
   "cell_type": "code",
   "execution_count": 60,
   "metadata": {},
   "outputs": [
    {
     "data": {
      "text/plain": [
       "0      3\n",
       "95     3\n",
       "20     2\n",
       "56     2\n",
       "109    1\n",
       "      ..\n",
       "51     1\n",
       "50     1\n",
       "49     1\n",
       "48     1\n",
       "282    1\n",
       "Name: artist_id, Length: 105, dtype: int64"
      ]
     },
     "execution_count": 60,
     "metadata": {},
     "output_type": "execute_result"
    }
   ],
   "source": [
    "grp_size['artist_id'].value_counts()"
   ]
  },
  {
   "cell_type": "code",
   "execution_count": null,
   "metadata": {},
   "outputs": [],
   "source": [
    "grp_size"
   ]
  },
  {
   "cell_type": "code",
   "execution_count": 63,
   "metadata": {},
   "outputs": [],
   "source": [
    "join = demo[~pd.isnull(demo['Artist Payroll ID'])].copy()"
   ]
  },
  {
   "cell_type": "code",
   "execution_count": 64,
   "metadata": {},
   "outputs": [
    {
     "data": {
      "text/plain": [
       "60"
      ]
     },
     "execution_count": 64,
     "metadata": {},
     "output_type": "execute_result"
    }
   ],
   "source": [
    "join[(join['Date']>=pd.Timestamp(2019,1,1)) & (join['Date']<pd.Timestamp(2020,1,1))]['Artist Payroll ID'].nunique()"
   ]
  },
  {
   "cell_type": "code",
   "execution_count": 65,
   "metadata": {},
   "outputs": [],
   "source": [
    "artists_remove = ['Anndee Hochman', 'Oyin Hardy']\n",
    "artist_id_remove = [95, 20 , 56]"
   ]
  },
  {
   "cell_type": "code",
   "execution_count": 66,
   "metadata": {},
   "outputs": [],
   "source": [
    "grp_size = grp_size[~grp_size['artist_account_name'].isin(artists_remove)]"
   ]
  },
  {
   "cell_type": "code",
   "execution_count": 67,
   "metadata": {},
   "outputs": [],
   "source": [
    "grp_size = grp_size[~grp_size['artist_id'].isin(artist_id_remove)]"
   ]
  },
  {
   "cell_type": "code",
   "execution_count": 107,
   "metadata": {},
   "outputs": [],
   "source": [
    "bla = join.merge(grp_size, how='left', on='artist_id')"
   ]
  },
  {
   "cell_type": "code",
   "execution_count": 116,
   "metadata": {},
   "outputs": [
    {
     "data": {
      "text/plain": [
       "[26, 40, 75, 76, 85, 91, 93, 98, 101, 104, 114, 115]"
      ]
     },
     "execution_count": 116,
     "metadata": {},
     "output_type": "execute_result"
    }
   ],
   "source": [
    "[int(x) for x in list(bla[pd.isnull(bla['size'])]['Artist Payroll ID'].unique())]"
   ]
  },
  {
   "cell_type": "code",
   "execution_count": 113,
   "metadata": {},
   "outputs": [
    {
     "data": {
      "text/html": [
       "<div>\n",
       "<style scoped>\n",
       "    .dataframe tbody tr th:only-of-type {\n",
       "        vertical-align: middle;\n",
       "    }\n",
       "\n",
       "    .dataframe tbody tr th {\n",
       "        vertical-align: top;\n",
       "    }\n",
       "\n",
       "    .dataframe thead th {\n",
       "        text-align: right;\n",
       "    }\n",
       "</style>\n",
       "<table border=\"1\" class=\"dataframe\">\n",
       "  <thead>\n",
       "    <tr style=\"text-align: right;\">\n",
       "      <th></th>\n",
       "      <th>artist_id</th>\n",
       "      <th>artist_account_name</th>\n",
       "      <th>size</th>\n",
       "      <th>status</th>\n",
       "    </tr>\n",
       "  </thead>\n",
       "  <tbody>\n",
       "  </tbody>\n",
       "</table>\n",
       "</div>"
      ],
      "text/plain": [
       "Empty DataFrame\n",
       "Columns: [artist_id, artist_account_name, size, status]\n",
       "Index: []"
      ]
     },
     "execution_count": 113,
     "metadata": {},
     "output_type": "execute_result"
    }
   ],
   "source": [
    "grp_size[grp_size['artist_id'].isin([26])]"
   ]
  },
  {
   "cell_type": "code",
   "execution_count": 120,
   "metadata": {},
   "outputs": [
    {
     "data": {
      "text/plain": [
       "array(['Hua Hua Zhang', 'Gwendolyn Briley-Strand',\n",
       "       'Mexico Beyond Mariachi', 'Li Liu', 'Soul Steps',\n",
       "       'Almanac Dance Circus Theatre', 'Hip Hop Fundamentals',\n",
       "       'Cello Fury', \"Pat Cannon's Foot and Fiddle Dance Company\",\n",
       "       'The Seventh Principle', 'Queen Nur', 'Caryn Lin'], dtype=object)"
      ]
     },
     "execution_count": 120,
     "metadata": {},
     "output_type": "execute_result"
    }
   ],
   "source": [
    "bla[pd.isnull(bla['size'])]['Artist: Account Name'].unique()"
   ]
  },
  {
   "cell_type": "code",
   "execution_count": null,
   "metadata": {},
   "outputs": [],
   "source": []
  },
  {
   "cell_type": "code",
   "execution_count": 90,
   "metadata": {},
   "outputs": [],
   "source": [
    "df_mer = join.merge(grp_size, on='artist_id')"
   ]
  },
  {
   "cell_type": "code",
   "execution_count": 94,
   "metadata": {},
   "outputs": [],
   "source": [
    "# df_mer[pd.isnull(df_mer['Artist Payroll ID'])]['artist_id']\n",
    "# join[join['artist_id'].isin([0, 18, 19 , 21, 22, 28, 31, 33, 34, 35, 36, 37, 38, 49, 42, 43, 48, 49, 51, 53])]"
   ]
  },
  {
   "cell_type": "code",
   "execution_count": 96,
   "metadata": {},
   "outputs": [],
   "source": [
    "cols = ['artist_account_name', 'artist_id',\n",
    "       'Art Form (General Discipline)', 'Contract Classification', 'Date',\n",
    "       'Contract #', 'Client Zip Code', 'Client', 'Billing Code',\n",
    "       'Component Type', 'Artist Fee', 'respondent_id', 'age', 'gender', \n",
    "       'city', 'state', 'company', 'ethnicity', 'multi_ind', 'size']"
   ]
  },
  {
   "cell_type": "code",
   "execution_count": 97,
   "metadata": {},
   "outputs": [],
   "source": [
    "df_mer = df_mer[cols].copy()"
   ]
  },
  {
   "cell_type": "code",
   "execution_count": 98,
   "metadata": {},
   "outputs": [],
   "source": [
    "records = df_mer[(df_mer['Date']>=pd.Timestamp(2019,1,1)) & (df_mer['Date']<pd.Timestamp(2020,1,1))]"
   ]
  },
  {
   "cell_type": "code",
   "execution_count": 99,
   "metadata": {},
   "outputs": [
    {
     "data": {
      "text/html": [
       "<div>\n",
       "<style scoped>\n",
       "    .dataframe tbody tr th:only-of-type {\n",
       "        vertical-align: middle;\n",
       "    }\n",
       "\n",
       "    .dataframe tbody tr th {\n",
       "        vertical-align: top;\n",
       "    }\n",
       "\n",
       "    .dataframe thead th {\n",
       "        text-align: right;\n",
       "    }\n",
       "</style>\n",
       "<table border=\"1\" class=\"dataframe\">\n",
       "  <thead>\n",
       "    <tr style=\"text-align: right;\">\n",
       "      <th></th>\n",
       "      <th>artist_account_name</th>\n",
       "      <th>artist_id</th>\n",
       "      <th>Art Form (General Discipline)</th>\n",
       "      <th>Contract Classification</th>\n",
       "      <th>Date</th>\n",
       "      <th>Contract #</th>\n",
       "      <th>Client Zip Code</th>\n",
       "      <th>Client</th>\n",
       "      <th>Billing Code</th>\n",
       "      <th>Component Type</th>\n",
       "      <th>Artist Fee</th>\n",
       "      <th>respondent_id</th>\n",
       "      <th>age</th>\n",
       "      <th>gender</th>\n",
       "      <th>city</th>\n",
       "      <th>state</th>\n",
       "      <th>company</th>\n",
       "      <th>ethnicity</th>\n",
       "      <th>multi_ind</th>\n",
       "      <th>size</th>\n",
       "    </tr>\n",
       "  </thead>\n",
       "  <tbody>\n",
       "    <tr>\n",
       "      <th>10</th>\n",
       "      <td>Rob Aptaker</td>\n",
       "      <td>16.0</td>\n",
       "      <td>Theater</td>\n",
       "      <td>Assembly</td>\n",
       "      <td>2019-01-11</td>\n",
       "      <td>19-0008149</td>\n",
       "      <td>07645</td>\n",
       "      <td>Memorial Elem School-Montvale</td>\n",
       "      <td>Program Services</td>\n",
       "      <td>Performance/Demo</td>\n",
       "      <td>292.0</td>\n",
       "      <td>1.220051e+10</td>\n",
       "      <td>55 to 64</td>\n",
       "      <td>male</td>\n",
       "      <td>Allentown</td>\n",
       "      <td>PA</td>\n",
       "      <td>NaN</td>\n",
       "      <td>caucasian</td>\n",
       "      <td>1.0</td>\n",
       "      <td>1.0</td>\n",
       "    </tr>\n",
       "    <tr>\n",
       "      <th>11</th>\n",
       "      <td>Rob Aptaker</td>\n",
       "      <td>16.0</td>\n",
       "      <td>Theater</td>\n",
       "      <td>Assembly</td>\n",
       "      <td>2019-01-18</td>\n",
       "      <td>19-0007901</td>\n",
       "      <td>07930</td>\n",
       "      <td>Bragg Elem School</td>\n",
       "      <td>Program Services</td>\n",
       "      <td>Performance/Demo</td>\n",
       "      <td>292.0</td>\n",
       "      <td>1.220051e+10</td>\n",
       "      <td>55 to 64</td>\n",
       "      <td>male</td>\n",
       "      <td>Allentown</td>\n",
       "      <td>PA</td>\n",
       "      <td>NaN</td>\n",
       "      <td>caucasian</td>\n",
       "      <td>1.0</td>\n",
       "      <td>1.0</td>\n",
       "    </tr>\n",
       "    <tr>\n",
       "      <th>12</th>\n",
       "      <td>Rob Aptaker</td>\n",
       "      <td>16.0</td>\n",
       "      <td>Theater</td>\n",
       "      <td>Assembly</td>\n",
       "      <td>2019-01-25</td>\n",
       "      <td>19-0008152</td>\n",
       "      <td>07649</td>\n",
       "      <td>Oradell Public School</td>\n",
       "      <td>Program Services</td>\n",
       "      <td>Performance/Demo</td>\n",
       "      <td>292.0</td>\n",
       "      <td>1.220051e+10</td>\n",
       "      <td>55 to 64</td>\n",
       "      <td>male</td>\n",
       "      <td>Allentown</td>\n",
       "      <td>PA</td>\n",
       "      <td>NaN</td>\n",
       "      <td>caucasian</td>\n",
       "      <td>1.0</td>\n",
       "      <td>1.0</td>\n",
       "    </tr>\n",
       "    <tr>\n",
       "      <th>13</th>\n",
       "      <td>Rob Aptaker</td>\n",
       "      <td>16.0</td>\n",
       "      <td>Theater</td>\n",
       "      <td>Assembly</td>\n",
       "      <td>2019-01-30</td>\n",
       "      <td>19-0007818</td>\n",
       "      <td>07661</td>\n",
       "      <td>Cherry Hill Elem School</td>\n",
       "      <td>Discount</td>\n",
       "      <td>Performance/Demo</td>\n",
       "      <td>278.0</td>\n",
       "      <td>1.220051e+10</td>\n",
       "      <td>55 to 64</td>\n",
       "      <td>male</td>\n",
       "      <td>Allentown</td>\n",
       "      <td>PA</td>\n",
       "      <td>NaN</td>\n",
       "      <td>caucasian</td>\n",
       "      <td>1.0</td>\n",
       "      <td>1.0</td>\n",
       "    </tr>\n",
       "    <tr>\n",
       "      <th>14</th>\n",
       "      <td>Rob Aptaker</td>\n",
       "      <td>16.0</td>\n",
       "      <td>Theater</td>\n",
       "      <td>Assembly</td>\n",
       "      <td>2019-01-30</td>\n",
       "      <td>19-0007942</td>\n",
       "      <td>07661</td>\n",
       "      <td>Roosevelt School</td>\n",
       "      <td>Discount</td>\n",
       "      <td>Performance/Demo</td>\n",
       "      <td>278.0</td>\n",
       "      <td>1.220051e+10</td>\n",
       "      <td>55 to 64</td>\n",
       "      <td>male</td>\n",
       "      <td>Allentown</td>\n",
       "      <td>PA</td>\n",
       "      <td>NaN</td>\n",
       "      <td>caucasian</td>\n",
       "      <td>1.0</td>\n",
       "      <td>1.0</td>\n",
       "    </tr>\n",
       "  </tbody>\n",
       "</table>\n",
       "</div>"
      ],
      "text/plain": [
       "   artist_account_name  artist_id Art Form (General Discipline)  \\\n",
       "10         Rob Aptaker       16.0                       Theater   \n",
       "11         Rob Aptaker       16.0                       Theater   \n",
       "12         Rob Aptaker       16.0                       Theater   \n",
       "13         Rob Aptaker       16.0                       Theater   \n",
       "14         Rob Aptaker       16.0                       Theater   \n",
       "\n",
       "   Contract Classification       Date  Contract # Client Zip Code  \\\n",
       "10                Assembly 2019-01-11  19-0008149           07645   \n",
       "11                Assembly 2019-01-18  19-0007901           07930   \n",
       "12                Assembly 2019-01-25  19-0008152           07649   \n",
       "13                Assembly 2019-01-30  19-0007818           07661   \n",
       "14                Assembly 2019-01-30  19-0007942           07661   \n",
       "\n",
       "                           Client      Billing Code    Component Type  \\\n",
       "10  Memorial Elem School-Montvale  Program Services  Performance/Demo   \n",
       "11              Bragg Elem School  Program Services  Performance/Demo   \n",
       "12          Oradell Public School  Program Services  Performance/Demo   \n",
       "13        Cherry Hill Elem School          Discount  Performance/Demo   \n",
       "14               Roosevelt School          Discount  Performance/Demo   \n",
       "\n",
       "    Artist Fee  respondent_id       age gender       city state company  \\\n",
       "10       292.0   1.220051e+10  55 to 64   male  Allentown    PA     NaN   \n",
       "11       292.0   1.220051e+10  55 to 64   male  Allentown    PA     NaN   \n",
       "12       292.0   1.220051e+10  55 to 64   male  Allentown    PA     NaN   \n",
       "13       278.0   1.220051e+10  55 to 64   male  Allentown    PA     NaN   \n",
       "14       278.0   1.220051e+10  55 to 64   male  Allentown    PA     NaN   \n",
       "\n",
       "    ethnicity  multi_ind  size  \n",
       "10  caucasian        1.0   1.0  \n",
       "11  caucasian        1.0   1.0  \n",
       "12  caucasian        1.0   1.0  \n",
       "13  caucasian        1.0   1.0  \n",
       "14  caucasian        1.0   1.0  "
      ]
     },
     "execution_count": 99,
     "metadata": {},
     "output_type": "execute_result"
    }
   ],
   "source": [
    "records.head()"
   ]
  },
  {
   "cell_type": "code",
   "execution_count": 83,
   "metadata": {},
   "outputs": [],
   "source": [
    "res_19 = records.groupby(['ethnicity','size']).nunique()['artist_id'].reset_index()"
   ]
  },
  {
   "cell_type": "code",
   "execution_count": 105,
   "metadata": {},
   "outputs": [
    {
     "data": {
      "text/html": [
       "<div>\n",
       "<style scoped>\n",
       "    .dataframe tbody tr th:only-of-type {\n",
       "        vertical-align: middle;\n",
       "    }\n",
       "\n",
       "    .dataframe tbody tr th {\n",
       "        vertical-align: top;\n",
       "    }\n",
       "\n",
       "    .dataframe thead th {\n",
       "        text-align: right;\n",
       "    }\n",
       "</style>\n",
       "<table border=\"1\" class=\"dataframe\">\n",
       "  <thead>\n",
       "    <tr style=\"text-align: right;\">\n",
       "      <th></th>\n",
       "      <th>ethnicity</th>\n",
       "      <th>size</th>\n",
       "      <th>artist_id</th>\n",
       "    </tr>\n",
       "  </thead>\n",
       "  <tbody>\n",
       "    <tr>\n",
       "      <th>0</th>\n",
       "      <td>african</td>\n",
       "      <td>1.0</td>\n",
       "      <td>4</td>\n",
       "    </tr>\n",
       "    <tr>\n",
       "      <th>2</th>\n",
       "      <td>asian</td>\n",
       "      <td>1.0</td>\n",
       "      <td>1</td>\n",
       "    </tr>\n",
       "    <tr>\n",
       "      <th>5</th>\n",
       "      <td>caucasian</td>\n",
       "      <td>1.0</td>\n",
       "      <td>22</td>\n",
       "    </tr>\n",
       "    <tr>\n",
       "      <th>11</th>\n",
       "      <td>latinx</td>\n",
       "      <td>1.0</td>\n",
       "      <td>5</td>\n",
       "    </tr>\n",
       "  </tbody>\n",
       "</table>\n",
       "</div>"
      ],
      "text/plain": [
       "    ethnicity  size  artist_id\n",
       "0     african   1.0          4\n",
       "2       asian   1.0          1\n",
       "5   caucasian   1.0         22\n",
       "11     latinx   1.0          5"
      ]
     },
     "execution_count": 105,
     "metadata": {},
     "output_type": "execute_result"
    }
   ],
   "source": [
    "res_19[res_19['size']==1]"
   ]
  },
  {
   "cell_type": "code",
   "execution_count": 100,
   "metadata": {},
   "outputs": [
    {
     "data": {
      "text/plain": [
       "0      4\n",
       "1      1\n",
       "2      1\n",
       "3      1\n",
       "4      1\n",
       "5     22\n",
       "6      4\n",
       "7      1\n",
       "8      4\n",
       "9      1\n",
       "10     1\n",
       "11     5\n",
       "12     2\n",
       "Name: artist_id, dtype: int64"
      ]
     },
     "execution_count": 100,
     "metadata": {},
     "output_type": "execute_result"
    }
   ],
   "source": [
    "res_19['artist_id']"
   ]
  },
  {
   "cell_type": "code",
   "execution_count": 101,
   "metadata": {},
   "outputs": [
    {
     "data": {
      "text/plain": [
       "48"
      ]
     },
     "execution_count": 101,
     "metadata": {},
     "output_type": "execute_result"
    }
   ],
   "source": [
    "records['artist_id'].nunique()"
   ]
  },
  {
   "cell_type": "code",
   "execution_count": null,
   "metadata": {},
   "outputs": [],
   "source": []
  },
  {
   "cell_type": "code",
   "execution_count": null,
   "metadata": {},
   "outputs": [],
   "source": []
  },
  {
   "cell_type": "code",
   "execution_count": null,
   "metadata": {},
   "outputs": [],
   "source": [
    "df_ind = df_mer[df_mer['size']==1].copy()"
   ]
  },
  {
   "cell_type": "code",
   "execution_count": null,
   "metadata": {},
   "outputs": [],
   "source": [
    "new_cols = ['artist_account_name', 'artist_id', 'Art Form (General Discipline)',\n",
    "       'Contract Classification', 'Date', 'Contract #', 'Client Zip Code',\n",
    "       'Client', 'Billing Code', 'Component Type', \n",
    "       'respondent_id', 'age', 'gender', 'city', 'state', \n",
    "       'ethnicity', 'Artist Fee']"
   ]
  },
  {
   "cell_type": "code",
   "execution_count": null,
   "metadata": {},
   "outputs": [],
   "source": [
    "df_ind = df_ind[new_cols].copy()"
   ]
  },
  {
   "cell_type": "code",
   "execution_count": null,
   "metadata": {},
   "outputs": [],
   "source": [
    "import numpy as np\n",
    "from sklearn.linear_model import LinearRegression"
   ]
  },
  {
   "cell_type": "code",
   "execution_count": null,
   "metadata": {},
   "outputs": [],
   "source": [
    "len(['artist_account_name', 'artist_id', 'Art Form (General Discipline)',\n",
    "       'Contract Classification', 'Date', 'Contract #', 'Client Zip Code',\n",
    "       'Client', 'Billing Code', 'Component Type', 'respondent_id', 'age',\n",
    "       'gender', 'city', 'state', 'ethnicity'])"
   ]
  },
  {
   "cell_type": "code",
   "execution_count": null,
   "metadata": {},
   "outputs": [],
   "source": [
    "x = np.array(df_ind.loc[:,['artist_id', 'Art Form (General Discipline)',\n",
    "       'Contract Classification', 'Date', 'Contract #', 'Client Zip Code',\n",
    "       'Client', 'Billing Code', 'Component Type', 'respondent_id', 'age',\n",
    "       'gender', 'city', 'state', 'ethnicity']]).reshape(-1,15)"
   ]
  },
  {
   "cell_type": "code",
   "execution_count": null,
   "metadata": {},
   "outputs": [],
   "source": [
    "y = np.array(df_ind['Artist Fee'])"
   ]
  },
  {
   "cell_type": "code",
   "execution_count": null,
   "metadata": {},
   "outputs": [],
   "source": [
    "model = LinearRegression()"
   ]
  },
  {
   "cell_type": "code",
   "execution_count": null,
   "metadata": {},
   "outputs": [],
   "source": [
    "pd.to_numeric(df_ind['Art Form (General Discipline)'], errors='coerce')"
   ]
  },
  {
   "cell_type": "code",
   "execution_count": null,
   "metadata": {},
   "outputs": [],
   "source": [
    "df_ind['Art Form (General Discipline)'].apply(pd.to_numeric)"
   ]
  },
  {
   "cell_type": "code",
   "execution_count": null,
   "metadata": {},
   "outputs": [],
   "source": [
    "df_ind.loc[:,['artist_id', 'Art Form (General Discipline)',\n",
    "       'Contract Classification', 'Date', 'Contract #', 'Client Zip Code',\n",
    "       'Client', 'Billing Code', 'Component Type', 'respondent_id', 'age',\n",
    "       'gender', 'city', 'state', 'ethnicity']].apply(pd.to_numeric, errors='coerce')"
   ]
  },
  {
   "cell_type": "code",
   "execution_count": null,
   "metadata": {},
   "outputs": [],
   "source": [
    "x.apply(pd.to_numeric, errors='coerce')"
   ]
  },
  {
   "cell_type": "code",
   "execution_count": null,
   "metadata": {},
   "outputs": [],
   "source": [
    "model.fit(x, y)"
   ]
  },
  {
   "cell_type": "code",
   "execution_count": null,
   "metadata": {},
   "outputs": [],
   "source": [
    "#join[join['artist_id']==56]"
   ]
  },
  {
   "cell_type": "code",
   "execution_count": null,
   "metadata": {},
   "outputs": [],
   "source": []
  },
  {
   "cell_type": "code",
   "execution_count": null,
   "metadata": {},
   "outputs": [],
   "source": []
  },
  {
   "cell_type": "code",
   "execution_count": null,
   "metadata": {},
   "outputs": [],
   "source": [
    "p = three_year[pd.isnull(three_year['Artist Payroll ID'])]\n",
    "p = three_year.drop_duplicates(['Artist Payroll ID', 'Artist: Account Name'])"
   ]
  },
  {
   "cell_type": "code",
   "execution_count": null,
   "metadata": {},
   "outputs": [],
   "source": [
    "demo[demo['age']=='75 or older']"
   ]
  },
  {
   "cell_type": "code",
   "execution_count": null,
   "metadata": {},
   "outputs": [],
   "source": [
    "demo.to_excel('demographics.xlsx')"
   ]
  }
 ],
 "metadata": {
  "interpreter": {
   "hash": "2a0e6ac5b7e19e25da07df31b33f441d49c99a24f25781d722c2fa104d7061cf"
  },
  "kernelspec": {
   "display_name": "Python 3.9.5 64-bit ('3.9.5': pyenv)",
   "name": "python3"
  },
  "language_info": {
   "codemirror_mode": {
    "name": "ipython",
    "version": 3
   },
   "file_extension": ".py",
   "mimetype": "text/x-python",
   "name": "python",
   "nbconvert_exporter": "python",
   "pygments_lexer": "ipython3",
   "version": "3.9.5"
  }
 },
 "nbformat": 4,
 "nbformat_minor": 4
}
