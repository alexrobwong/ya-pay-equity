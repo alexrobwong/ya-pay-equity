{
 "cells": [
  {
   "cell_type": "markdown",
   "metadata": {},
   "source": [
    "# Young Audiences Data"
   ]
  },
  {
   "cell_type": "code",
   "execution_count": 4,
   "metadata": {},
   "outputs": [],
   "source": [
    "import pandas as pd\n",
    "import glob\n",
    "from collections import defaultdict\n",
    "from fuzzywuzzy import process, fuzz\n",
    "#import matplotlib.pyplot as plt"
   ]
  },
  {
   "cell_type": "code",
   "execution_count": 14,
   "metadata": {},
   "outputs": [],
   "source": [
    "import os"
   ]
  },
  {
   "cell_type": "code",
   "execution_count": 21,
   "metadata": {},
   "outputs": [],
   "source": [
    "path = os.path.dirname(os.path.dirname(os.getcwd()))+'/data/raw/'"
   ]
  },
  {
   "cell_type": "code",
   "execution_count": 22,
   "metadata": {},
   "outputs": [],
   "source": [
    "#path = \"/Users/jjgong/Desktop/ya-pay-equity/data/raw/\"\n",
    "# Use Glob to retrieve all of the file names\n",
    "file_list = glob.glob(path+'*.xlsx')\n",
    "# Sort files\n",
    "file_list.sort()"
   ]
  },
  {
   "cell_type": "code",
   "execution_count": 23,
   "metadata": {},
   "outputs": [
    {
     "data": {
      "text/plain": [
       "['/Users/jjgong/Desktop/ya-pay-equity/data/raw/Three Year Sales Report.xlsx',\n",
       " '/Users/jjgong/Desktop/ya-pay-equity/data/raw/artist_count_per_group.xlsx',\n",
       " '/Users/jjgong/Desktop/ya-pay-equity/data/raw/demographic_snapshot.xlsx']"
      ]
     },
     "execution_count": 23,
     "metadata": {},
     "output_type": "execute_result"
    }
   ],
   "source": [
    "file_list"
   ]
  },
  {
   "cell_type": "markdown",
   "metadata": {},
   "source": [
    "## Data Upload"
   ]
  },
  {
   "cell_type": "code",
   "execution_count": 7,
   "metadata": {},
   "outputs": [],
   "source": [
    "d = defaultdict(lambda: defaultdict())\n",
    "for i,f in enumerate(file_list):\n",
    "    d[i]['name'] = file_list[i][45:-5]\n",
    "    d[i]['file'] = pd.read_excel(f)"
   ]
  },
  {
   "cell_type": "code",
   "execution_count": 8,
   "metadata": {},
   "outputs": [],
   "source": [
    "# Get title and file\n",
    "def get_name(d):\n",
    "    print(d['name'])\n",
    "    return d['file']"
   ]
  },
  {
   "cell_type": "code",
   "execution_count": 9,
   "metadata": {},
   "outputs": [],
   "source": [
    "pd.set_option(\"max_columns\", 500)"
   ]
  },
  {
   "cell_type": "markdown",
   "metadata": {},
   "source": [
    "## Three Year Sales Data"
   ]
  },
  {
   "cell_type": "code",
   "execution_count": 10,
   "metadata": {},
   "outputs": [
    {
     "name": "stdout",
     "output_type": "stream",
     "text": [
      "Three Year Sales Report\n"
     ]
    }
   ],
   "source": [
    "three_year = get_name(d[0]).copy()\n",
    "three_year.columns = [col.strip() for col in list(three_year.columns)]"
   ]
  },
  {
   "cell_type": "code",
   "execution_count": 11,
   "metadata": {},
   "outputs": [],
   "source": [
    "# Mapping for IDs \n",
    "id_map = defaultdict()\n",
    "for aid, an in zip(three_year['Artist Payroll ID'], three_year['Artist: Account Name']):\n",
    "    if pd.isnull(aid)==False:\n",
    "        id_map[an] = aid"
   ]
  },
  {
   "cell_type": "code",
   "execution_count": 12,
   "metadata": {},
   "outputs": [],
   "source": [
    "# Map the unmapped artist IDs\n",
    "three_year.loc[three_year[pd.isnull(three_year['Artist Payroll ID'])].index, ['Artist Payroll ID']] = three_year[pd.isnull(three_year['Artist Payroll ID'])]['Artist: Account Name'].apply(lambda x: d.get(x, float('NaN')))\n",
    "# Literary Art to Literary Arts\n",
    "three_year.loc[three_year[three_year['Art Form (General Discipline)']=='Literary Arts'].index, ['Art Form (General Discipline)']] = 'Literary Art'"
   ]
  },
  {
   "cell_type": "code",
   "execution_count": null,
   "metadata": {},
   "outputs": [],
   "source": [
    "#three_year.apply(lambda x: id_map.get(x['Artist: Account Name']) if pd.isnull(x['Artist Payroll ID']) else x, axis=1)"
   ]
  },
  {
   "cell_type": "code",
   "execution_count": 24,
   "metadata": {},
   "outputs": [],
   "source": [
    "# Map missing names # Artist Payroll ID. Map some unmapped one\n",
    "three_year['Artist Payroll ID'] = three_year.apply(lambda x: id_map.get(x['Artist: Account Name']) if pd.isnull(x['Artist Payroll ID']) else x, axis=1)['Artist Payroll ID']\n",
    "#three_year['Artist Payroll ID'] = three_year.apply(lambda x: id_map.get(x['Artist: Account Name']) if pd.isnull(x['Artist Payroll ID']) else x, axis=1)['Artist: Account Name']"
   ]
  },
  {
   "cell_type": "code",
   "execution_count": 25,
   "metadata": {},
   "outputs": [
    {
     "data": {
      "text/html": [
       "<div>\n",
       "<style scoped>\n",
       "    .dataframe tbody tr th:only-of-type {\n",
       "        vertical-align: middle;\n",
       "    }\n",
       "\n",
       "    .dataframe tbody tr th {\n",
       "        vertical-align: top;\n",
       "    }\n",
       "\n",
       "    .dataframe thead th {\n",
       "        text-align: right;\n",
       "    }\n",
       "</style>\n",
       "<table border=\"1\" class=\"dataframe\">\n",
       "  <thead>\n",
       "    <tr style=\"text-align: right;\">\n",
       "      <th></th>\n",
       "      <th>Artist Payroll ID</th>\n",
       "      <th>Artist: Account Name</th>\n",
       "      <th>Art Form (General Discipline)</th>\n",
       "      <th>Contract Classification</th>\n",
       "      <th>Date</th>\n",
       "      <th>Contract #</th>\n",
       "      <th>Client Zip Code</th>\n",
       "      <th>Client</th>\n",
       "      <th>Billing Code</th>\n",
       "      <th>Component Type</th>\n",
       "      <th>Artist Fee</th>\n",
       "      <th>Sale Price</th>\n",
       "      <th>Artist Business name</th>\n",
       "    </tr>\n",
       "  </thead>\n",
       "  <tbody>\n",
       "  </tbody>\n",
       "</table>\n",
       "</div>"
      ],
      "text/plain": [
       "Empty DataFrame\n",
       "Columns: [Artist Payroll ID, Artist: Account Name, Art Form (General Discipline), Contract Classification, Date, Contract #, Client Zip Code, Client, Billing Code, Component Type, Artist Fee, Sale Price, Artist Business name]\n",
       "Index: []"
      ]
     },
     "execution_count": 25,
     "metadata": {},
     "output_type": "execute_result"
    }
   ],
   "source": [
    "# Null Payroll IDs still\n",
    "three_year[pd.isnull(three_year['Artist: Account Name'])]"
   ]
  },
  {
   "cell_type": "code",
   "execution_count": 26,
   "metadata": {},
   "outputs": [
    {
     "data": {
      "text/html": [
       "<div>\n",
       "<style scoped>\n",
       "    .dataframe tbody tr th:only-of-type {\n",
       "        vertical-align: middle;\n",
       "    }\n",
       "\n",
       "    .dataframe tbody tr th {\n",
       "        vertical-align: top;\n",
       "    }\n",
       "\n",
       "    .dataframe thead th {\n",
       "        text-align: right;\n",
       "    }\n",
       "</style>\n",
       "<table border=\"1\" class=\"dataframe\">\n",
       "  <thead>\n",
       "    <tr style=\"text-align: right;\">\n",
       "      <th></th>\n",
       "      <th>Artist Payroll ID</th>\n",
       "      <th>Artist: Account Name</th>\n",
       "      <th>Art Form (General Discipline)</th>\n",
       "      <th>Contract Classification</th>\n",
       "      <th>Date</th>\n",
       "      <th>Contract #</th>\n",
       "      <th>Client Zip Code</th>\n",
       "      <th>Client</th>\n",
       "      <th>Billing Code</th>\n",
       "      <th>Component Type</th>\n",
       "      <th>Artist Fee</th>\n",
       "      <th>Sale Price</th>\n",
       "      <th>Artist Business name</th>\n",
       "    </tr>\n",
       "  </thead>\n",
       "  <tbody>\n",
       "    <tr>\n",
       "      <th>2114</th>\n",
       "      <td>NaN</td>\n",
       "      <td>Deborah Owens</td>\n",
       "      <td>NaN</td>\n",
       "      <td>Admin/Project Dev</td>\n",
       "      <td>2021-03-15</td>\n",
       "      <td>21-0009889</td>\n",
       "      <td>08540</td>\n",
       "      <td>Young Audiences New Jersey</td>\n",
       "      <td>UWC YA Match</td>\n",
       "      <td>Teacher Stipend</td>\n",
       "      <td>200.0</td>\n",
       "      <td>200.0</td>\n",
       "      <td>Deborah Owens</td>\n",
       "    </tr>\n",
       "    <tr>\n",
       "      <th>2115</th>\n",
       "      <td>NaN</td>\n",
       "      <td>Derling Dance Arts</td>\n",
       "      <td>Dance</td>\n",
       "      <td>Professional Learning</td>\n",
       "      <td>2019-02-06</td>\n",
       "      <td>19-0008302</td>\n",
       "      <td>08540</td>\n",
       "      <td>Young Audiences New Jersey</td>\n",
       "      <td>Dodge Dance</td>\n",
       "      <td>Professional Learning</td>\n",
       "      <td>350.0</td>\n",
       "      <td>500.0</td>\n",
       "      <td>Derlling Dance Arts</td>\n",
       "    </tr>\n",
       "    <tr>\n",
       "      <th>2116</th>\n",
       "      <td>NaN</td>\n",
       "      <td>Dr. Ronah Harris</td>\n",
       "      <td>NaN</td>\n",
       "      <td>Admin/Project Dev</td>\n",
       "      <td>2020-10-02</td>\n",
       "      <td>21-0009574</td>\n",
       "      <td>08540</td>\n",
       "      <td>Young Audiences New Jersey</td>\n",
       "      <td>Virtual Learning Pilot</td>\n",
       "      <td>Artist Stipend</td>\n",
       "      <td>500.0</td>\n",
       "      <td>500.0</td>\n",
       "      <td>Dr. Ronah Harris</td>\n",
       "    </tr>\n",
       "    <tr>\n",
       "      <th>9540</th>\n",
       "      <td>NaN</td>\n",
       "      <td>Roxey Ballet</td>\n",
       "      <td>Dance</td>\n",
       "      <td>Professional Learning</td>\n",
       "      <td>2018-11-02</td>\n",
       "      <td>19-0008035</td>\n",
       "      <td>08540</td>\n",
       "      <td>Young Audiences New Jersey</td>\n",
       "      <td>Dodge Dance</td>\n",
       "      <td>Professional Learning</td>\n",
       "      <td>350.0</td>\n",
       "      <td>500.0</td>\n",
       "      <td>NaN</td>\n",
       "    </tr>\n",
       "  </tbody>\n",
       "</table>\n",
       "</div>"
      ],
      "text/plain": [
       "      Artist Payroll ID Artist: Account Name Art Form (General Discipline)  \\\n",
       "2114                NaN        Deborah Owens                           NaN   \n",
       "2115                NaN   Derling Dance Arts                         Dance   \n",
       "2116                NaN     Dr. Ronah Harris                           NaN   \n",
       "9540                NaN         Roxey Ballet                         Dance   \n",
       "\n",
       "     Contract Classification       Date  Contract # Client Zip Code  \\\n",
       "2114       Admin/Project Dev 2021-03-15  21-0009889           08540   \n",
       "2115   Professional Learning 2019-02-06  19-0008302           08540   \n",
       "2116       Admin/Project Dev 2020-10-02  21-0009574           08540   \n",
       "9540   Professional Learning 2018-11-02  19-0008035           08540   \n",
       "\n",
       "                          Client            Billing Code  \\\n",
       "2114  Young Audiences New Jersey            UWC YA Match   \n",
       "2115  Young Audiences New Jersey             Dodge Dance   \n",
       "2116  Young Audiences New Jersey  Virtual Learning Pilot   \n",
       "9540  Young Audiences New Jersey             Dodge Dance   \n",
       "\n",
       "             Component Type  Artist Fee  Sale Price Artist Business name  \n",
       "2114        Teacher Stipend       200.0       200.0        Deborah Owens  \n",
       "2115  Professional Learning       350.0       500.0  Derlling Dance Arts  \n",
       "2116         Artist Stipend       500.0       500.0     Dr. Ronah Harris  \n",
       "9540  Professional Learning       350.0       500.0                  NaN  "
      ]
     },
     "execution_count": 26,
     "metadata": {},
     "output_type": "execute_result"
    }
   ],
   "source": [
    "three_year[pd.isnull(three_year['Artist Payroll ID'])]"
   ]
  },
  {
   "cell_type": "code",
   "execution_count": 27,
   "metadata": {},
   "outputs": [],
   "source": [
    "# Removes unwanted indexes that have a NULL Artist Payroll ID\n",
    "three_year = three_year[~three_year.index.isin(list(three_year[pd.isnull(three_year['Artist Payroll ID'])].index))].reset_index(drop=True)"
   ]
  },
  {
   "cell_type": "code",
   "execution_count": 28,
   "metadata": {},
   "outputs": [
    {
     "data": {
      "text/html": [
       "<div>\n",
       "<style scoped>\n",
       "    .dataframe tbody tr th:only-of-type {\n",
       "        vertical-align: middle;\n",
       "    }\n",
       "\n",
       "    .dataframe tbody tr th {\n",
       "        vertical-align: top;\n",
       "    }\n",
       "\n",
       "    .dataframe thead th {\n",
       "        text-align: right;\n",
       "    }\n",
       "</style>\n",
       "<table border=\"1\" class=\"dataframe\">\n",
       "  <thead>\n",
       "    <tr style=\"text-align: right;\">\n",
       "      <th></th>\n",
       "      <th>Artist Payroll ID</th>\n",
       "      <th>Artist: Account Name</th>\n",
       "      <th>Art Form (General Discipline)</th>\n",
       "      <th>Contract Classification</th>\n",
       "      <th>Date</th>\n",
       "      <th>Contract #</th>\n",
       "      <th>Client Zip Code</th>\n",
       "      <th>Client</th>\n",
       "      <th>Billing Code</th>\n",
       "      <th>Component Type</th>\n",
       "      <th>Artist Fee</th>\n",
       "      <th>Sale Price</th>\n",
       "      <th>Artist Business name</th>\n",
       "    </tr>\n",
       "  </thead>\n",
       "  <tbody>\n",
       "  </tbody>\n",
       "</table>\n",
       "</div>"
      ],
      "text/plain": [
       "Empty DataFrame\n",
       "Columns: [Artist Payroll ID, Artist: Account Name, Art Form (General Discipline), Contract Classification, Date, Contract #, Client Zip Code, Client, Billing Code, Component Type, Artist Fee, Sale Price, Artist Business name]\n",
       "Index: []"
      ]
     },
     "execution_count": 28,
     "metadata": {},
     "output_type": "execute_result"
    }
   ],
   "source": [
    "three_year[pd.isnull(three_year['Artist Payroll ID'])]"
   ]
  },
  {
   "cell_type": "code",
   "execution_count": 31,
   "metadata": {},
   "outputs": [
    {
     "name": "stdout",
     "output_type": "stream",
     "text": [
      "demographic_snapshot\n"
     ]
    }
   ],
   "source": [
    "demographic = get_name(d[2])\n",
    "dd = demographic.copy()\n",
    "# Remove Unamed column\n",
    "demographic = demographic.drop(labels=['Unnamed: 0'], axis=1)\n",
    "# Drop duplicates\n",
    "demographic = demographic.drop_duplicates(subset=['artist_id'], keep='last').reset_index(drop=True)"
   ]
  },
  {
   "cell_type": "code",
   "execution_count": 32,
   "metadata": {},
   "outputs": [],
   "source": [
    "# Retrieve top 10 components\n",
    "top_components = list(three_year['Component Type'].value_counts()[:9].index)\n",
    "top_components.remove('Travel')\n",
    "top_components.remove('Materials')\n",
    "top_components.append('Virtual Planning Meeting')"
   ]
  },
  {
   "cell_type": "code",
   "execution_count": null,
   "metadata": {},
   "outputs": [],
   "source": [
    "# Group by\n",
    "three_yr_grp = three_year.groupby(['Artist Payroll ID', 'Artist: Account Name', 'Art Form (General Discipline)', 'Contract Classification', 'Date', 'Contract #', 'Client Zip Code', 'Client', 'Billing Code', 'Component Type', 'Artist Business name']).sum()['Artist Fee'].reset_index().reset_index(drop=True)"
   ]
  },
  {
   "cell_type": "code",
   "execution_count": null,
   "metadata": {},
   "outputs": [],
   "source": [
    "# Retrieve only top performances. Remove other components\n",
    "# # three_year_cnt = three_year[three_year['Component Type'].isin(top_components)].copy()"
   ]
  },
  {
   "cell_type": "code",
   "execution_count": null,
   "metadata": {},
   "outputs": [],
   "source": [
    "# Retrieve only top performances. Remove other components\n",
    "three_yr_grp = three_yr_grp[three_yr_grp['Component Type'].isin(top_components)].copy()"
   ]
  },
  {
   "cell_type": "code",
   "execution_count": null,
   "metadata": {},
   "outputs": [],
   "source": [
    "len(three_yr_grp)"
   ]
  },
  {
   "cell_type": "code",
   "execution_count": null,
   "metadata": {},
   "outputs": [],
   "source": [
    "three_yr_grp"
   ]
  },
  {
   "cell_type": "markdown",
   "metadata": {},
   "source": [
    "### Review unique artists"
   ]
  },
  {
   "cell_type": "code",
   "execution_count": null,
   "metadata": {},
   "outputs": [],
   "source": [
    "# Retrieve unique artists\n",
    "unique_artists = three_yr_grp.drop_duplicates(subset=['Artist Payroll ID', 'Artist: Account Name'])[['Artist Payroll ID', 'Artist: Account Name']].reset_index(drop=True)"
   ]
  },
  {
   "cell_type": "code",
   "execution_count": null,
   "metadata": {},
   "outputs": [],
   "source": [
    "joined = three_yr_grp.merge(demographic, how='outer', left_on='Artist Payroll ID', right_on='artist_id')"
   ]
  },
  {
   "cell_type": "code",
   "execution_count": null,
   "metadata": {},
   "outputs": [],
   "source": [
    "len(joined)"
   ]
  },
  {
   "cell_type": "code",
   "execution_count": null,
   "metadata": {},
   "outputs": [],
   "source": [
    "# Remove certain artists\n",
    "num_include = list(set(joined['Artist Payroll ID'])-set([95, 0, 20, 56]))"
   ]
  },
  {
   "cell_type": "code",
   "execution_count": null,
   "metadata": {},
   "outputs": [],
   "source": [
    "included_df = joined[joined['Artist Payroll ID'].isin(num_include)]"
   ]
  },
  {
   "cell_type": "code",
   "execution_count": null,
   "metadata": {},
   "outputs": [],
   "source": [
    "null_demo = included_df[pd.isnull(included_df['artist_id'])].copy().reset_index(drop=True)"
   ]
  },
  {
   "cell_type": "code",
   "execution_count": null,
   "metadata": {},
   "outputs": [],
   "source": [
    "demo = included_df[~pd.isnull(included_df['artist_id'])].copy().reset_index(drop=True)"
   ]
  },
  {
   "cell_type": "code",
   "execution_count": null,
   "metadata": {},
   "outputs": [],
   "source": [
    "len(null_demo)"
   ]
  },
  {
   "cell_type": "code",
   "execution_count": null,
   "metadata": {},
   "outputs": [],
   "source": [
    "len(demo)"
   ]
  },
  {
   "cell_type": "code",
   "execution_count": null,
   "metadata": {},
   "outputs": [],
   "source": [
    "len(demo)/(len(null_demo)+len(demo))"
   ]
  },
  {
   "cell_type": "code",
   "execution_count": null,
   "metadata": {},
   "outputs": [],
   "source": [
    "demo['Artist Payroll ID'].nunique()"
   ]
  },
  {
   "cell_type": "code",
   "execution_count": null,
   "metadata": {},
   "outputs": [],
   "source": [
    "len(demo)/(len(null_demo)+len(demo))"
   ]
  },
  {
   "cell_type": "code",
   "execution_count": null,
   "metadata": {},
   "outputs": [],
   "source": [
    "null_demo['Artist Payroll ID'].nunique()"
   ]
  },
  {
   "cell_type": "markdown",
   "metadata": {},
   "source": [
    "#### Insert Group Size"
   ]
  },
  {
   "cell_type": "code",
   "execution_count": null,
   "metadata": {},
   "outputs": [],
   "source": [
    "d.keys()"
   ]
  },
  {
   "cell_type": "code",
   "execution_count": null,
   "metadata": {},
   "outputs": [],
   "source": [
    "grp_size = get_name(d[7]).copy()"
   ]
  },
  {
   "cell_type": "code",
   "execution_count": null,
   "metadata": {},
   "outputs": [],
   "source": [
    "three_yr_grp[(three_yr_grp['Date']>=pd.Timestamp(2019,1,1)) & (three_yr_grp['Date']<pd.Timestamp(2020,1,1))]['Artist Payroll ID'].nunique()"
   ]
  },
  {
   "cell_type": "code",
   "execution_count": null,
   "metadata": {},
   "outputs": [],
   "source": [
    "demo[(demo['Date']>=pd.Timestamp(2019,1,1)) & (demo['Date']<pd.Timestamp(2020,1,1))]['Artist Payroll ID'].nunique()"
   ]
  },
  {
   "cell_type": "code",
   "execution_count": null,
   "metadata": {},
   "outputs": [],
   "source": [
    "grp_size = grp_size[pd.isnull(grp_size['status'])].copy()"
   ]
  },
  {
   "cell_type": "code",
   "execution_count": null,
   "metadata": {},
   "outputs": [],
   "source": [
    "grp_size['artist_id'].value_counts()"
   ]
  },
  {
   "cell_type": "code",
   "execution_count": null,
   "metadata": {},
   "outputs": [],
   "source": [
    "grp_size"
   ]
  },
  {
   "cell_type": "code",
   "execution_count": null,
   "metadata": {},
   "outputs": [],
   "source": [
    "join = demo[~pd.isnull(demo['Artist Payroll ID'])].copy()"
   ]
  },
  {
   "cell_type": "code",
   "execution_count": null,
   "metadata": {},
   "outputs": [],
   "source": [
    "join[(join['Date']>=pd.Timestamp(2019,1,1)) & (join['Date']<pd.Timestamp(2020,1,1))]['Artist Payroll ID'].nunique()"
   ]
  },
  {
   "cell_type": "code",
   "execution_count": null,
   "metadata": {},
   "outputs": [],
   "source": [
    "artists_remove = ['Anndee Hochman', 'Oyin Hardy']\n",
    "artist_id_remove = [95, 20 , 56]"
   ]
  },
  {
   "cell_type": "code",
   "execution_count": null,
   "metadata": {},
   "outputs": [],
   "source": [
    "grp_size = grp_size[~grp_size['artist_account_name'].isin(artists_remove)]"
   ]
  },
  {
   "cell_type": "code",
   "execution_count": null,
   "metadata": {},
   "outputs": [],
   "source": [
    "grp_size = grp_size[~grp_size['artist_id'].isin(artist_id_remove)]"
   ]
  },
  {
   "cell_type": "code",
   "execution_count": null,
   "metadata": {},
   "outputs": [],
   "source": [
    "bla = join.merge(grp_size, how='left', on='artist_id')"
   ]
  },
  {
   "cell_type": "code",
   "execution_count": null,
   "metadata": {},
   "outputs": [],
   "source": [
    "[int(x) for x in list(bla[pd.isnull(bla['size'])]['Artist Payroll ID'].unique())]"
   ]
  },
  {
   "cell_type": "code",
   "execution_count": null,
   "metadata": {},
   "outputs": [],
   "source": [
    "grp_size[grp_size['artist_id'].isin([26])]"
   ]
  },
  {
   "cell_type": "code",
   "execution_count": null,
   "metadata": {},
   "outputs": [],
   "source": [
    "bla[pd.isnull(bla['size'])]['Artist: Account Name'].unique()"
   ]
  },
  {
   "cell_type": "code",
   "execution_count": null,
   "metadata": {},
   "outputs": [],
   "source": []
  },
  {
   "cell_type": "code",
   "execution_count": null,
   "metadata": {},
   "outputs": [],
   "source": [
    "df_mer = join.merge(grp_size, on='artist_id')"
   ]
  },
  {
   "cell_type": "code",
   "execution_count": null,
   "metadata": {},
   "outputs": [],
   "source": [
    "# df_mer[pd.isnull(df_mer['Artist Payroll ID'])]['artist_id']\n",
    "# join[join['artist_id'].isin([0, 18, 19 , 21, 22, 28, 31, 33, 34, 35, 36, 37, 38, 49, 42, 43, 48, 49, 51, 53])]"
   ]
  },
  {
   "cell_type": "code",
   "execution_count": null,
   "metadata": {},
   "outputs": [],
   "source": [
    "cols = ['artist_account_name', 'artist_id',\n",
    "       'Art Form (General Discipline)', 'Contract Classification', 'Date',\n",
    "       'Contract #', 'Client Zip Code', 'Client', 'Billing Code',\n",
    "       'Component Type', 'Artist Fee', 'respondent_id', 'age', 'gender', \n",
    "       'city', 'state', 'company', 'ethnicity', 'multi_ind', 'size']"
   ]
  },
  {
   "cell_type": "code",
   "execution_count": null,
   "metadata": {},
   "outputs": [],
   "source": [
    "df_mer = df_mer[cols].copy()"
   ]
  },
  {
   "cell_type": "code",
   "execution_count": null,
   "metadata": {},
   "outputs": [],
   "source": [
    "records = df_mer[(df_mer['Date']>=pd.Timestamp(2019,1,1)) & (df_mer['Date']<pd.Timestamp(2020,1,1))]"
   ]
  },
  {
   "cell_type": "code",
   "execution_count": null,
   "metadata": {},
   "outputs": [],
   "source": [
    "records.head()"
   ]
  },
  {
   "cell_type": "code",
   "execution_count": null,
   "metadata": {},
   "outputs": [],
   "source": [
    "res_19 = records.groupby(['ethnicity','size']).nunique()['artist_id'].reset_index()"
   ]
  },
  {
   "cell_type": "code",
   "execution_count": null,
   "metadata": {},
   "outputs": [],
   "source": [
    "res_19[res_19['size']==1]"
   ]
  },
  {
   "cell_type": "code",
   "execution_count": null,
   "metadata": {},
   "outputs": [],
   "source": [
    "res_19['artist_id']"
   ]
  },
  {
   "cell_type": "code",
   "execution_count": null,
   "metadata": {},
   "outputs": [],
   "source": [
    "records['artist_id'].nunique()"
   ]
  },
  {
   "cell_type": "code",
   "execution_count": null,
   "metadata": {},
   "outputs": [],
   "source": []
  },
  {
   "cell_type": "code",
   "execution_count": null,
   "metadata": {},
   "outputs": [],
   "source": []
  },
  {
   "cell_type": "code",
   "execution_count": null,
   "metadata": {},
   "outputs": [],
   "source": [
    "df_ind = df_mer[df_mer['size']==1].copy()"
   ]
  },
  {
   "cell_type": "code",
   "execution_count": null,
   "metadata": {},
   "outputs": [],
   "source": [
    "new_cols = ['artist_account_name', 'artist_id', 'Art Form (General Discipline)',\n",
    "       'Contract Classification', 'Date', 'Contract #', 'Client Zip Code',\n",
    "       'Client', 'Billing Code', 'Component Type', \n",
    "       'respondent_id', 'age', 'gender', 'city', 'state', \n",
    "       'ethnicity', 'Artist Fee']"
   ]
  },
  {
   "cell_type": "code",
   "execution_count": null,
   "metadata": {},
   "outputs": [],
   "source": [
    "df_ind = df_ind[new_cols].copy()"
   ]
  },
  {
   "cell_type": "code",
   "execution_count": null,
   "metadata": {},
   "outputs": [],
   "source": [
    "import numpy as np\n",
    "from sklearn.linear_model import LinearRegression"
   ]
  },
  {
   "cell_type": "code",
   "execution_count": null,
   "metadata": {},
   "outputs": [],
   "source": [
    "len(['artist_account_name', 'artist_id', 'Art Form (General Discipline)',\n",
    "       'Contract Classification', 'Date', 'Contract #', 'Client Zip Code',\n",
    "       'Client', 'Billing Code', 'Component Type', 'respondent_id', 'age',\n",
    "       'gender', 'city', 'state', 'ethnicity'])"
   ]
  },
  {
   "cell_type": "code",
   "execution_count": null,
   "metadata": {},
   "outputs": [],
   "source": [
    "x = np.array(df_ind.loc[:,['artist_id', 'Art Form (General Discipline)',\n",
    "       'Contract Classification', 'Date', 'Contract #', 'Client Zip Code',\n",
    "       'Client', 'Billing Code', 'Component Type', 'respondent_id', 'age',\n",
    "       'gender', 'city', 'state', 'ethnicity']]).reshape(-1,15)"
   ]
  },
  {
   "cell_type": "code",
   "execution_count": null,
   "metadata": {},
   "outputs": [],
   "source": [
    "y = np.array(df_ind['Artist Fee'])"
   ]
  },
  {
   "cell_type": "code",
   "execution_count": null,
   "metadata": {},
   "outputs": [],
   "source": [
    "model = LinearRegression()"
   ]
  },
  {
   "cell_type": "code",
   "execution_count": null,
   "metadata": {},
   "outputs": [],
   "source": [
    "pd.to_numeric(df_ind['Art Form (General Discipline)'], errors='coerce')"
   ]
  },
  {
   "cell_type": "code",
   "execution_count": null,
   "metadata": {},
   "outputs": [],
   "source": [
    "df_ind['Art Form (General Discipline)'].apply(pd.to_numeric)"
   ]
  },
  {
   "cell_type": "code",
   "execution_count": null,
   "metadata": {},
   "outputs": [],
   "source": [
    "df_ind.loc[:,['artist_id', 'Art Form (General Discipline)',\n",
    "       'Contract Classification', 'Date', 'Contract #', 'Client Zip Code',\n",
    "       'Client', 'Billing Code', 'Component Type', 'respondent_id', 'age',\n",
    "       'gender', 'city', 'state', 'ethnicity']].apply(pd.to_numeric, errors='coerce')"
   ]
  },
  {
   "cell_type": "code",
   "execution_count": null,
   "metadata": {},
   "outputs": [],
   "source": [
    "x.apply(pd.to_numeric, errors='coerce')"
   ]
  },
  {
   "cell_type": "code",
   "execution_count": null,
   "metadata": {},
   "outputs": [],
   "source": [
    "model.fit(x, y)"
   ]
  },
  {
   "cell_type": "code",
   "execution_count": null,
   "metadata": {},
   "outputs": [],
   "source": [
    "#join[join['artist_id']==56]"
   ]
  },
  {
   "cell_type": "code",
   "execution_count": null,
   "metadata": {},
   "outputs": [],
   "source": []
  },
  {
   "cell_type": "code",
   "execution_count": null,
   "metadata": {},
   "outputs": [],
   "source": []
  },
  {
   "cell_type": "code",
   "execution_count": null,
   "metadata": {},
   "outputs": [],
   "source": [
    "p = three_year[pd.isnull(three_year['Artist Payroll ID'])]\n",
    "p = three_year.drop_duplicates(['Artist Payroll ID', 'Artist: Account Name'])"
   ]
  },
  {
   "cell_type": "code",
   "execution_count": null,
   "metadata": {},
   "outputs": [],
   "source": [
    "demo[demo['age']=='75 or older']"
   ]
  },
  {
   "cell_type": "code",
   "execution_count": null,
   "metadata": {},
   "outputs": [],
   "source": [
    "demo.to_excel('demographics.xlsx')"
   ]
  }
 ],
 "metadata": {
  "interpreter": {
   "hash": "2a0e6ac5b7e19e25da07df31b33f441d49c99a24f25781d722c2fa104d7061cf"
  },
  "kernelspec": {
   "display_name": "Python 3.9.5 64-bit ('3.9.5': pyenv)",
   "name": "python3"
  },
  "language_info": {
   "codemirror_mode": {
    "name": "ipython",
    "version": 3
   },
   "file_extension": ".py",
   "mimetype": "text/x-python",
   "name": "python",
   "nbconvert_exporter": "python",
   "pygments_lexer": "ipython3",
   "version": "3.9.5"
  }
 },
 "nbformat": 4,
 "nbformat_minor": 4
}
