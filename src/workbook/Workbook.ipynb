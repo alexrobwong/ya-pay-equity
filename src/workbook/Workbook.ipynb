{
 "cells": [
  {
   "cell_type": "markdown",
   "metadata": {},
   "source": [
    "# Young Audiences Data"
   ]
  },
  {
   "cell_type": "code",
   "execution_count": null,
   "metadata": {},
   "outputs": [],
   "source": [
    "#!pip3 install fuzzywuzzy\n",
    "#!pip3 install 'fuzzywuzzy[speedup]'\n",
    "#!pip3 install matplotlib"
   ]
  },
  {
   "cell_type": "code",
   "execution_count": 1,
   "metadata": {},
   "outputs": [],
   "source": [
    "import pandas as pd\n",
    "import glob\n",
    "from collections import defaultdict\n",
    "from fuzzywuzzy import process, fuzz\n",
    "#import matplotlib.pyplot as plt"
   ]
  },
  {
   "cell_type": "code",
   "execution_count": 2,
   "metadata": {},
   "outputs": [],
   "source": [
    "path = \"/Users/jjgong/Desktop/ya-pay-equity/data/raw/\"\n",
    "# Use Glob to retrieve all of the file names\n",
    "file_list = glob.glob(path+'*.xlsx')\n",
    "# Sort files\n",
    "file_list.sort()"
   ]
  },
  {
   "cell_type": "markdown",
   "metadata": {},
   "source": [
    "## Data Upload"
   ]
  },
  {
   "cell_type": "code",
   "execution_count": 3,
   "metadata": {},
   "outputs": [
    {
     "data": {
      "text/plain": [
       "['/Users/jjgong/Desktop/ya-pay-equity/data/raw/Performance Pair Pricing.xlsx',\n",
       " '/Users/jjgong/Desktop/ya-pay-equity/data/raw/Professional Learning Pricing.xlsx',\n",
       " '/Users/jjgong/Desktop/ya-pay-equity/data/raw/Single Assembly Pricing.xlsx',\n",
       " '/Users/jjgong/Desktop/ya-pay-equity/data/raw/Teaching Artist Demographics Collection 2021.xlsx',\n",
       " '/Users/jjgong/Desktop/ya-pay-equity/data/raw/Teaching Artist Demographics Collection Short 04 06 21.xlsx',\n",
       " '/Users/jjgong/Desktop/ya-pay-equity/data/raw/Three Year Sales Report.xlsx',\n",
       " '/Users/jjgong/Desktop/ya-pay-equity/data/raw/Workshop Pricing.xlsx',\n",
       " '/Users/jjgong/Desktop/ya-pay-equity/data/raw/demographic_cleaned_part_1.xlsx',\n",
       " '/Users/jjgong/Desktop/ya-pay-equity/data/raw/demographic_cleaned_part_2.xlsx',\n",
       " '/Users/jjgong/Desktop/ya-pay-equity/data/raw/demographic_snapshot.xlsx']"
      ]
     },
     "execution_count": 3,
     "metadata": {},
     "output_type": "execute_result"
    }
   ],
   "source": [
    "file_list"
   ]
  },
  {
   "cell_type": "code",
   "execution_count": 31,
   "metadata": {},
   "outputs": [],
   "source": [
    "d = defaultdict(lambda: defaultdict())\n",
    "for i,f in enumerate(file_list):\n",
    "    d[i]['name'] = file_list[i][45:-5]\n",
    "    d[i]['file'] = pd.read_excel(f)"
   ]
  },
  {
   "cell_type": "code",
   "execution_count": 32,
   "metadata": {},
   "outputs": [],
   "source": [
    "# Get title and file\n",
    "def get_name(d):\n",
    "    print(d['name'])\n",
    "    return d['file']"
   ]
  },
  {
   "cell_type": "code",
   "execution_count": 33,
   "metadata": {},
   "outputs": [],
   "source": [
    "pd.set_option(\"max_columns\", 500)"
   ]
  },
  {
   "cell_type": "markdown",
   "metadata": {},
   "source": [
    "## Pricing Data"
   ]
  },
  {
   "cell_type": "code",
   "execution_count": 7,
   "metadata": {},
   "outputs": [],
   "source": [
    "# Is null\n",
    "#get_name(d[8])['company'].isna().sum()"
   ]
  },
  {
   "cell_type": "code",
   "execution_count": 8,
   "metadata": {},
   "outputs": [
    {
     "name": "stdout",
     "output_type": "stream",
     "text": [
      "Performance Pair Pricing\n"
     ]
    },
    {
     "data": {
      "text/html": [
       "<div>\n",
       "<style scoped>\n",
       "    .dataframe tbody tr th:only-of-type {\n",
       "        vertical-align: middle;\n",
       "    }\n",
       "\n",
       "    .dataframe tbody tr th {\n",
       "        vertical-align: top;\n",
       "    }\n",
       "\n",
       "    .dataframe thead th {\n",
       "        text-align: right;\n",
       "    }\n",
       "</style>\n",
       "<table border=\"1\" class=\"dataframe\">\n",
       "  <thead>\n",
       "    <tr style=\"text-align: right;\">\n",
       "      <th></th>\n",
       "      <th>Artist ID#</th>\n",
       "      <th>Account Name</th>\n",
       "      <th>Program Name</th>\n",
       "      <th>Date Joined</th>\n",
       "      <th>Fiscal Year</th>\n",
       "      <th>Component Type (General)</th>\n",
       "      <th>Venue Price</th>\n",
       "      <th>Artist's Fee</th>\n",
       "      <th>Artist Fee %</th>\n",
       "      <th>Component Type (Specific)</th>\n",
       "    </tr>\n",
       "  </thead>\n",
       "  <tbody>\n",
       "    <tr>\n",
       "      <th>0</th>\n",
       "      <td>133</td>\n",
       "      <td>Bobby Beetcut</td>\n",
       "      <td>Your Life is a Work of Art</td>\n",
       "      <td>2019-05-30</td>\n",
       "      <td>2020</td>\n",
       "      <td>Performance/Demo</td>\n",
       "      <td>875</td>\n",
       "      <td>600</td>\n",
       "      <td>0.685714</td>\n",
       "      <td>Back to Back Performance</td>\n",
       "    </tr>\n",
       "    <tr>\n",
       "      <th>1</th>\n",
       "      <td>133</td>\n",
       "      <td>Bobby Beetcut</td>\n",
       "      <td>Your Life is a Work of Art</td>\n",
       "      <td>2019-05-30</td>\n",
       "      <td>2021</td>\n",
       "      <td>Performance/Demo</td>\n",
       "      <td>875</td>\n",
       "      <td>600</td>\n",
       "      <td>0.685714</td>\n",
       "      <td>Back to Back Performance</td>\n",
       "    </tr>\n",
       "    <tr>\n",
       "      <th>2</th>\n",
       "      <td>50</td>\n",
       "      <td>Baba Bomani</td>\n",
       "      <td>BabaGotB.A.R.S.</td>\n",
       "      <td>2018-07-01</td>\n",
       "      <td>2019</td>\n",
       "      <td>Performance/Demo</td>\n",
       "      <td>950</td>\n",
       "      <td>650</td>\n",
       "      <td>0.684211</td>\n",
       "      <td>Back to Back Performance</td>\n",
       "    </tr>\n",
       "  </tbody>\n",
       "</table>\n",
       "</div>"
      ],
      "text/plain": [
       "   Artist ID#   Account Name                Program Name Date Joined  \\\n",
       "0         133  Bobby Beetcut  Your Life is a Work of Art  2019-05-30   \n",
       "1         133  Bobby Beetcut  Your Life is a Work of Art  2019-05-30   \n",
       "2          50    Baba Bomani             BabaGotB.A.R.S.  2018-07-01   \n",
       "\n",
       "   Fiscal Year Component Type (General)  Venue Price  Artist's Fee  \\\n",
       "0         2020         Performance/Demo          875           600   \n",
       "1         2021         Performance/Demo          875           600   \n",
       "2         2019         Performance/Demo          950           650   \n",
       "\n",
       "   Artist Fee % Component Type (Specific)  \n",
       "0      0.685714  Back to Back Performance  \n",
       "1      0.685714  Back to Back Performance  \n",
       "2      0.684211  Back to Back Performance  "
      ]
     },
     "execution_count": 8,
     "metadata": {},
     "output_type": "execute_result"
    }
   ],
   "source": [
    "get_name(d[0]).head(3) #columns - demographics data - Teaching Artist Demographics Collection 2021"
   ]
  },
  {
   "cell_type": "code",
   "execution_count": 9,
   "metadata": {},
   "outputs": [
    {
     "name": "stdout",
     "output_type": "stream",
     "text": [
      "Professional Learning Pricing\n"
     ]
    },
    {
     "data": {
      "text/html": [
       "<div>\n",
       "<style scoped>\n",
       "    .dataframe tbody tr th:only-of-type {\n",
       "        vertical-align: middle;\n",
       "    }\n",
       "\n",
       "    .dataframe tbody tr th {\n",
       "        vertical-align: top;\n",
       "    }\n",
       "\n",
       "    .dataframe thead th {\n",
       "        text-align: right;\n",
       "    }\n",
       "</style>\n",
       "<table border=\"1\" class=\"dataframe\">\n",
       "  <thead>\n",
       "    <tr style=\"text-align: right;\">\n",
       "      <th></th>\n",
       "      <th>Artist ID</th>\n",
       "      <th>Account Name</th>\n",
       "      <th>Program Name</th>\n",
       "      <th>Date Joined</th>\n",
       "      <th>Fiscal Year</th>\n",
       "      <th>Component Type (General)</th>\n",
       "      <th>Venue Price</th>\n",
       "      <th>Artist's Fee</th>\n",
       "      <th>Artist Fee %</th>\n",
       "    </tr>\n",
       "  </thead>\n",
       "  <tbody>\n",
       "    <tr>\n",
       "      <th>0</th>\n",
       "      <td>50</td>\n",
       "      <td>Baba Bomani</td>\n",
       "      <td>Virtual: Hip Hop Culture Empowers Student Writ...</td>\n",
       "      <td>2018-07-01</td>\n",
       "      <td>2021</td>\n",
       "      <td>Virtual Professional Learning</td>\n",
       "      <td>200</td>\n",
       "      <td>90</td>\n",
       "      <td>0.45</td>\n",
       "    </tr>\n",
       "    <tr>\n",
       "      <th>1</th>\n",
       "      <td>50</td>\n",
       "      <td>Baba Bomani</td>\n",
       "      <td>Virtual: Hip Hop Culture Empowers Student Writ...</td>\n",
       "      <td>2018-07-01</td>\n",
       "      <td>2021</td>\n",
       "      <td>Virtual Professional Learning</td>\n",
       "      <td>300</td>\n",
       "      <td>135</td>\n",
       "      <td>0.45</td>\n",
       "    </tr>\n",
       "    <tr>\n",
       "      <th>2</th>\n",
       "      <td>102</td>\n",
       "      <td>Chris Parks</td>\n",
       "      <td>Dodge Theatre to Learn</td>\n",
       "      <td>2000-07-01</td>\n",
       "      <td>2020</td>\n",
       "      <td>Professional Learning</td>\n",
       "      <td>200</td>\n",
       "      <td>200</td>\n",
       "      <td>1.00</td>\n",
       "    </tr>\n",
       "    <tr>\n",
       "      <th>3</th>\n",
       "      <td>102</td>\n",
       "      <td>Chris Parks</td>\n",
       "      <td>AIE - Theatre Residency</td>\n",
       "      <td>2000-07-01</td>\n",
       "      <td>2020</td>\n",
       "      <td>Professional Learning</td>\n",
       "      <td>300</td>\n",
       "      <td>300</td>\n",
       "      <td>1.00</td>\n",
       "    </tr>\n",
       "    <tr>\n",
       "      <th>4</th>\n",
       "      <td>17</td>\n",
       "      <td>David Harrell</td>\n",
       "      <td>Dodge Theatre Professional Development</td>\n",
       "      <td>2013-07-01</td>\n",
       "      <td>2019</td>\n",
       "      <td>Professional Learning</td>\n",
       "      <td>225</td>\n",
       "      <td>225</td>\n",
       "      <td>1.00</td>\n",
       "    </tr>\n",
       "  </tbody>\n",
       "</table>\n",
       "</div>"
      ],
      "text/plain": [
       "   Artist ID   Account Name  \\\n",
       "0         50    Baba Bomani   \n",
       "1         50    Baba Bomani   \n",
       "2        102    Chris Parks   \n",
       "3        102    Chris Parks   \n",
       "4         17  David Harrell   \n",
       "\n",
       "                                        Program Name Date Joined  Fiscal Year  \\\n",
       "0  Virtual: Hip Hop Culture Empowers Student Writ...  2018-07-01         2021   \n",
       "1  Virtual: Hip Hop Culture Empowers Student Writ...  2018-07-01         2021   \n",
       "2                             Dodge Theatre to Learn  2000-07-01         2020   \n",
       "3                            AIE - Theatre Residency  2000-07-01         2020   \n",
       "4             Dodge Theatre Professional Development  2013-07-01         2019   \n",
       "\n",
       "        Component Type (General)  Venue Price  Artist's Fee  Artist Fee %  \n",
       "0  Virtual Professional Learning          200            90          0.45  \n",
       "1  Virtual Professional Learning          300           135          0.45  \n",
       "2          Professional Learning          200           200          1.00  \n",
       "3          Professional Learning          300           300          1.00  \n",
       "4          Professional Learning          225           225          1.00  "
      ]
     },
     "execution_count": 9,
     "metadata": {},
     "output_type": "execute_result"
    }
   ],
   "source": [
    "get_name(d[1]).head()"
   ]
  },
  {
   "cell_type": "code",
   "execution_count": 10,
   "metadata": {},
   "outputs": [
    {
     "name": "stdout",
     "output_type": "stream",
     "text": [
      "Single Assembly Pricing\n"
     ]
    },
    {
     "data": {
      "text/html": [
       "<div>\n",
       "<style scoped>\n",
       "    .dataframe tbody tr th:only-of-type {\n",
       "        vertical-align: middle;\n",
       "    }\n",
       "\n",
       "    .dataframe tbody tr th {\n",
       "        vertical-align: top;\n",
       "    }\n",
       "\n",
       "    .dataframe thead th {\n",
       "        text-align: right;\n",
       "    }\n",
       "</style>\n",
       "<table border=\"1\" class=\"dataframe\">\n",
       "  <thead>\n",
       "    <tr style=\"text-align: right;\">\n",
       "      <th></th>\n",
       "      <th>Artist ID</th>\n",
       "      <th>Account Name</th>\n",
       "      <th>Program Name</th>\n",
       "      <th>Date Joined</th>\n",
       "      <th>Fiscal Year</th>\n",
       "      <th>Component Type (General)</th>\n",
       "      <th>Venue Price</th>\n",
       "      <th>Artist's Fee</th>\n",
       "      <th>Artist Fee %</th>\n",
       "      <th>Component Type (Specific)</th>\n",
       "    </tr>\n",
       "  </thead>\n",
       "  <tbody>\n",
       "    <tr>\n",
       "      <th>0</th>\n",
       "      <td>33</td>\n",
       "      <td>Bobby Beetcut</td>\n",
       "      <td>Your Life is a Work of Art</td>\n",
       "      <td>2019-05-30</td>\n",
       "      <td>2020</td>\n",
       "      <td>Performance/Demo</td>\n",
       "      <td>650</td>\n",
       "      <td>450</td>\n",
       "      <td>0.692308</td>\n",
       "      <td>Single Performance</td>\n",
       "    </tr>\n",
       "    <tr>\n",
       "      <th>1</th>\n",
       "      <td>133</td>\n",
       "      <td>Bobby Beetcut</td>\n",
       "      <td>Your Life is a Work of Art</td>\n",
       "      <td>2019-05-30</td>\n",
       "      <td>2021</td>\n",
       "      <td>Performance/Demo</td>\n",
       "      <td>650</td>\n",
       "      <td>450</td>\n",
       "      <td>0.692308</td>\n",
       "      <td>Single Performance</td>\n",
       "    </tr>\n",
       "    <tr>\n",
       "      <th>2</th>\n",
       "      <td>50</td>\n",
       "      <td>Baba Bomani</td>\n",
       "      <td>BabaGotB.A.R.S.</td>\n",
       "      <td>2018-07-01</td>\n",
       "      <td>2019</td>\n",
       "      <td>Performance/Demo</td>\n",
       "      <td>725</td>\n",
       "      <td>500</td>\n",
       "      <td>0.689655</td>\n",
       "      <td>Single Performance</td>\n",
       "    </tr>\n",
       "    <tr>\n",
       "      <th>3</th>\n",
       "      <td>50</td>\n",
       "      <td>Baba Bomani</td>\n",
       "      <td>BabaGotB.A.R.S.</td>\n",
       "      <td>2018-07-01</td>\n",
       "      <td>2020</td>\n",
       "      <td>Performance/Demo</td>\n",
       "      <td>725</td>\n",
       "      <td>500</td>\n",
       "      <td>0.689655</td>\n",
       "      <td>Single Performance</td>\n",
       "    </tr>\n",
       "    <tr>\n",
       "      <th>4</th>\n",
       "      <td>50</td>\n",
       "      <td>Baba Bomani</td>\n",
       "      <td>BabaGotB.A.R.S.</td>\n",
       "      <td>2018-07-01</td>\n",
       "      <td>2021</td>\n",
       "      <td>Performance/Demo</td>\n",
       "      <td>725</td>\n",
       "      <td>500</td>\n",
       "      <td>0.689655</td>\n",
       "      <td>Single Performance</td>\n",
       "    </tr>\n",
       "  </tbody>\n",
       "</table>\n",
       "</div>"
      ],
      "text/plain": [
       "   Artist ID   Account Name                Program Name Date Joined  \\\n",
       "0         33  Bobby Beetcut  Your Life is a Work of Art  2019-05-30   \n",
       "1        133  Bobby Beetcut  Your Life is a Work of Art  2019-05-30   \n",
       "2         50    Baba Bomani             BabaGotB.A.R.S.  2018-07-01   \n",
       "3         50    Baba Bomani             BabaGotB.A.R.S.  2018-07-01   \n",
       "4         50    Baba Bomani             BabaGotB.A.R.S.  2018-07-01   \n",
       "\n",
       "   Fiscal Year Component Type (General)  Venue Price  Artist's Fee  \\\n",
       "0         2020         Performance/Demo          650           450   \n",
       "1         2021         Performance/Demo          650           450   \n",
       "2         2019         Performance/Demo          725           500   \n",
       "3         2020         Performance/Demo          725           500   \n",
       "4         2021         Performance/Demo          725           500   \n",
       "\n",
       "   Artist Fee % Component Type (Specific)  \n",
       "0      0.692308        Single Performance  \n",
       "1      0.692308        Single Performance  \n",
       "2      0.689655        Single Performance  \n",
       "3      0.689655        Single Performance  \n",
       "4      0.689655        Single Performance  "
      ]
     },
     "execution_count": 10,
     "metadata": {},
     "output_type": "execute_result"
    }
   ],
   "source": [
    "get_name(d[2]).head() # Single Performance – one assembly in a school"
   ]
  },
  {
   "cell_type": "code",
   "execution_count": 11,
   "metadata": {},
   "outputs": [
    {
     "name": "stdout",
     "output_type": "stream",
     "text": [
      "Three Year Sales Report\n"
     ]
    },
    {
     "data": {
      "text/html": [
       "<div>\n",
       "<style scoped>\n",
       "    .dataframe tbody tr th:only-of-type {\n",
       "        vertical-align: middle;\n",
       "    }\n",
       "\n",
       "    .dataframe tbody tr th {\n",
       "        vertical-align: top;\n",
       "    }\n",
       "\n",
       "    .dataframe thead th {\n",
       "        text-align: right;\n",
       "    }\n",
       "</style>\n",
       "<table border=\"1\" class=\"dataframe\">\n",
       "  <thead>\n",
       "    <tr style=\"text-align: right;\">\n",
       "      <th></th>\n",
       "      <th>Artist Payroll ID</th>\n",
       "      <th>Artist: Account Name</th>\n",
       "      <th>Art Form (General Discipline)</th>\n",
       "      <th>Contract Classification</th>\n",
       "      <th>Date</th>\n",
       "      <th>Contract #</th>\n",
       "      <th>Client Zip Code</th>\n",
       "      <th>Client</th>\n",
       "      <th>Billing Code</th>\n",
       "      <th>Component Type</th>\n",
       "      <th>Artist Fee</th>\n",
       "      <th>Sale Price</th>\n",
       "      <th>Artist Business name</th>\n",
       "    </tr>\n",
       "  </thead>\n",
       "  <tbody>\n",
       "    <tr>\n",
       "      <th>0</th>\n",
       "      <td>0.0</td>\n",
       "      <td>10HL</td>\n",
       "      <td>Dance</td>\n",
       "      <td>Professional Learning</td>\n",
       "      <td>2018-11-15</td>\n",
       "      <td>19-0008036</td>\n",
       "      <td>08540</td>\n",
       "      <td>Young Audiences New Jersey</td>\n",
       "      <td>Dodge Dance</td>\n",
       "      <td>Professional Learning</td>\n",
       "      <td>350.0</td>\n",
       "      <td>500.0</td>\n",
       "      <td>10 Hairy Legs</td>\n",
       "    </tr>\n",
       "    <tr>\n",
       "      <th>1</th>\n",
       "      <td>130.0</td>\n",
       "      <td>123 Andrés</td>\n",
       "      <td>Music</td>\n",
       "      <td>Assembly</td>\n",
       "      <td>2019-09-10</td>\n",
       "      <td>20-0008665</td>\n",
       "      <td>19808</td>\n",
       "      <td>Anna P Mote Elem</td>\n",
       "      <td>Program Services</td>\n",
       "      <td>Performance/Demo</td>\n",
       "      <td>550.0</td>\n",
       "      <td>795.0</td>\n",
       "      <td>Salsana, LLC</td>\n",
       "    </tr>\n",
       "    <tr>\n",
       "      <th>2</th>\n",
       "      <td>130.0</td>\n",
       "      <td>123 Andrés</td>\n",
       "      <td>Music</td>\n",
       "      <td>Assembly</td>\n",
       "      <td>2019-09-10</td>\n",
       "      <td>20-0008665</td>\n",
       "      <td>19808</td>\n",
       "      <td>Anna P Mote Elem</td>\n",
       "      <td>Program Services</td>\n",
       "      <td>Performance/Demo</td>\n",
       "      <td>550.0</td>\n",
       "      <td>795.0</td>\n",
       "      <td>Salsana, LLC</td>\n",
       "    </tr>\n",
       "    <tr>\n",
       "      <th>3</th>\n",
       "      <td>130.0</td>\n",
       "      <td>123 Andrés</td>\n",
       "      <td>Music</td>\n",
       "      <td>Assembly</td>\n",
       "      <td>2020-03-12</td>\n",
       "      <td>20-0008689</td>\n",
       "      <td>07514</td>\n",
       "      <td>Calvary Baptist Preschool</td>\n",
       "      <td>Program Services</td>\n",
       "      <td>Performance/Demo</td>\n",
       "      <td>700.0</td>\n",
       "      <td>1010.0</td>\n",
       "      <td>Salsana, LLC</td>\n",
       "    </tr>\n",
       "    <tr>\n",
       "      <th>4</th>\n",
       "      <td>130.0</td>\n",
       "      <td>123 Andrés</td>\n",
       "      <td>Music</td>\n",
       "      <td>Assembly</td>\n",
       "      <td>2020-03-12</td>\n",
       "      <td>20-0008689</td>\n",
       "      <td>07514</td>\n",
       "      <td>Calvary Baptist Preschool</td>\n",
       "      <td>Program Services</td>\n",
       "      <td>Travel</td>\n",
       "      <td>90.0</td>\n",
       "      <td>75.0</td>\n",
       "      <td>Salsana, LLC</td>\n",
       "    </tr>\n",
       "  </tbody>\n",
       "</table>\n",
       "</div>"
      ],
      "text/plain": [
       "   Artist Payroll ID Artist: Account Name Art Form (General Discipline)  \\\n",
       "0                0.0                 10HL                         Dance   \n",
       "1              130.0           123 Andrés                         Music   \n",
       "2              130.0           123 Andrés                         Music   \n",
       "3              130.0           123 Andrés                         Music   \n",
       "4              130.0           123 Andrés                         Music   \n",
       "\n",
       "  Contract Classification       Date  Contract # Client Zip Code  \\\n",
       "0   Professional Learning 2018-11-15  19-0008036           08540   \n",
       "1                Assembly 2019-09-10  20-0008665           19808   \n",
       "2                Assembly 2019-09-10  20-0008665           19808   \n",
       "3                Assembly 2020-03-12  20-0008689           07514   \n",
       "4                Assembly 2020-03-12  20-0008689           07514   \n",
       "\n",
       "                      Client       Billing Code         Component Type  \\\n",
       "0  Young Audiences New Jersey       Dodge Dance  Professional Learning   \n",
       "1            Anna P Mote Elem  Program Services       Performance/Demo   \n",
       "2            Anna P Mote Elem  Program Services       Performance/Demo   \n",
       "3   Calvary Baptist Preschool  Program Services       Performance/Demo   \n",
       "4   Calvary Baptist Preschool  Program Services                 Travel   \n",
       "\n",
       "   Artist Fee  Sale Price Artist Business name  \n",
       "0       350.0       500.0        10 Hairy Legs  \n",
       "1       550.0       795.0         Salsana, LLC  \n",
       "2       550.0       795.0         Salsana, LLC  \n",
       "3       700.0      1010.0         Salsana, LLC  \n",
       "4        90.0        75.0         Salsana, LLC  "
      ]
     },
     "execution_count": 11,
     "metadata": {},
     "output_type": "execute_result"
    }
   ],
   "source": [
    "get_name(d[5]).head() # Three Year Sales Report"
   ]
  },
  {
   "cell_type": "code",
   "execution_count": 12,
   "metadata": {},
   "outputs": [],
   "source": [
    "#get_name(d[3]).columns"
   ]
  },
  {
   "cell_type": "code",
   "execution_count": 13,
   "metadata": {},
   "outputs": [
    {
     "data": {
      "text/plain": [
       "dict_keys([0, 1, 2, 3, 4, 5, 6, 7, 8, 9])"
      ]
     },
     "execution_count": 13,
     "metadata": {},
     "output_type": "execute_result"
    }
   ],
   "source": [
    "d.keys()"
   ]
  },
  {
   "cell_type": "code",
   "execution_count": 14,
   "metadata": {},
   "outputs": [],
   "source": [
    "#get_name(d[3])"
   ]
  },
  {
   "cell_type": "code",
   "execution_count": 15,
   "metadata": {},
   "outputs": [],
   "source": [
    "#df = get_name(d[2])\n",
    "#df[['First Name', 'Last Name']] = df['Account Name'].str.split(' ', 1, expand=True)\n",
    "#df"
   ]
  },
  {
   "cell_type": "code",
   "execution_count": 16,
   "metadata": {},
   "outputs": [],
   "source": [
    "#get_name(d[4]).head() #- demographics data part 2 - Teaching Artist Demographics Collection Short 04 06 21"
   ]
  },
  {
   "cell_type": "markdown",
   "metadata": {},
   "source": [
    "## Artist Info:\n",
    "\n",
    "1. Number of teachers / performers-- Yes we know this- Working on getting the report.  Will provide shortly.\n",
    "\n",
    "2. Number of years of experience –We know # of years most artists have worked for us.  Their start date is on the pricing reports.  We do not collect data on how long they have been practicing the art form. \n",
    "\n",
    "3. Professional certifications – We do not collect this data.\n"
   ]
  },
  {
   "cell_type": "markdown",
   "metadata": {},
   "source": [
    "## Purchasing Entity:\n",
    "\n",
    "1. Number of attendees / class size -- We collect that information from the school.  Working on updating the sales report to include this information. \n",
    "\n",
    "2. Age group of attendees / class  -- We collect that information from the school.  Working on updating the sales report to include this information\n",
    "\n",
    "3. Number of sessions – depends on the number of students, the size of the performance or workshop space, size of the sound system,  and the needs of the artist. Most assembly artists will do 250-300 students as a single performance and if more want us to schedule a second performance.  Some artists will do as many students as the space will fit as one performance as they have a large sound system and like performing for large groups.  It’s best to keep performances within a three grade span but often schools can’t afford the time or money for multiple shows.  Workshops are always 25 students or less per workshop.  No more than four in a day unless negotiated with the artist and they are paid more.\n",
    "\n",
    "4. Length of each session – most sessions are 45 minutes\n",
    "\n",
    "5. Genre/instrument of art form general_discipline: This is tracked on our yearly Chapter Report by our National Office into these 5 categories:  Music, Theatre, Dance, Visual Art, Literary, and Media. ( Literary Art and Literary Arts is one in the same.\n"
   ]
  },
  {
   "cell_type": "code",
   "execution_count": 17,
   "metadata": {},
   "outputs": [
    {
     "name": "stdout",
     "output_type": "stream",
     "text": [
      "Professional Learning Pricing\n"
     ]
    },
    {
     "data": {
      "text/html": [
       "<div>\n",
       "<style scoped>\n",
       "    .dataframe tbody tr th:only-of-type {\n",
       "        vertical-align: middle;\n",
       "    }\n",
       "\n",
       "    .dataframe tbody tr th {\n",
       "        vertical-align: top;\n",
       "    }\n",
       "\n",
       "    .dataframe thead th {\n",
       "        text-align: right;\n",
       "    }\n",
       "</style>\n",
       "<table border=\"1\" class=\"dataframe\">\n",
       "  <thead>\n",
       "    <tr style=\"text-align: right;\">\n",
       "      <th></th>\n",
       "      <th>Artist ID</th>\n",
       "      <th>Account Name</th>\n",
       "      <th>Program Name</th>\n",
       "      <th>Date Joined</th>\n",
       "      <th>Fiscal Year</th>\n",
       "      <th>Component Type (General)</th>\n",
       "      <th>Venue Price</th>\n",
       "      <th>Artist's Fee</th>\n",
       "      <th>Artist Fee %</th>\n",
       "    </tr>\n",
       "  </thead>\n",
       "  <tbody>\n",
       "    <tr>\n",
       "      <th>0</th>\n",
       "      <td>50</td>\n",
       "      <td>Baba Bomani</td>\n",
       "      <td>Virtual: Hip Hop Culture Empowers Student Writ...</td>\n",
       "      <td>2018-07-01</td>\n",
       "      <td>2021</td>\n",
       "      <td>Virtual Professional Learning</td>\n",
       "      <td>200</td>\n",
       "      <td>90</td>\n",
       "      <td>0.45</td>\n",
       "    </tr>\n",
       "    <tr>\n",
       "      <th>1</th>\n",
       "      <td>50</td>\n",
       "      <td>Baba Bomani</td>\n",
       "      <td>Virtual: Hip Hop Culture Empowers Student Writ...</td>\n",
       "      <td>2018-07-01</td>\n",
       "      <td>2021</td>\n",
       "      <td>Virtual Professional Learning</td>\n",
       "      <td>300</td>\n",
       "      <td>135</td>\n",
       "      <td>0.45</td>\n",
       "    </tr>\n",
       "    <tr>\n",
       "      <th>2</th>\n",
       "      <td>102</td>\n",
       "      <td>Chris Parks</td>\n",
       "      <td>Dodge Theatre to Learn</td>\n",
       "      <td>2000-07-01</td>\n",
       "      <td>2020</td>\n",
       "      <td>Professional Learning</td>\n",
       "      <td>200</td>\n",
       "      <td>200</td>\n",
       "      <td>1.00</td>\n",
       "    </tr>\n",
       "    <tr>\n",
       "      <th>3</th>\n",
       "      <td>102</td>\n",
       "      <td>Chris Parks</td>\n",
       "      <td>AIE - Theatre Residency</td>\n",
       "      <td>2000-07-01</td>\n",
       "      <td>2020</td>\n",
       "      <td>Professional Learning</td>\n",
       "      <td>300</td>\n",
       "      <td>300</td>\n",
       "      <td>1.00</td>\n",
       "    </tr>\n",
       "    <tr>\n",
       "      <th>4</th>\n",
       "      <td>17</td>\n",
       "      <td>David Harrell</td>\n",
       "      <td>Dodge Theatre Professional Development</td>\n",
       "      <td>2013-07-01</td>\n",
       "      <td>2019</td>\n",
       "      <td>Professional Learning</td>\n",
       "      <td>225</td>\n",
       "      <td>225</td>\n",
       "      <td>1.00</td>\n",
       "    </tr>\n",
       "  </tbody>\n",
       "</table>\n",
       "</div>"
      ],
      "text/plain": [
       "   Artist ID   Account Name  \\\n",
       "0         50    Baba Bomani   \n",
       "1         50    Baba Bomani   \n",
       "2        102    Chris Parks   \n",
       "3        102    Chris Parks   \n",
       "4         17  David Harrell   \n",
       "\n",
       "                                        Program Name Date Joined  Fiscal Year  \\\n",
       "0  Virtual: Hip Hop Culture Empowers Student Writ...  2018-07-01         2021   \n",
       "1  Virtual: Hip Hop Culture Empowers Student Writ...  2018-07-01         2021   \n",
       "2                             Dodge Theatre to Learn  2000-07-01         2020   \n",
       "3                            AIE - Theatre Residency  2000-07-01         2020   \n",
       "4             Dodge Theatre Professional Development  2013-07-01         2019   \n",
       "\n",
       "        Component Type (General)  Venue Price  Artist's Fee  Artist Fee %  \n",
       "0  Virtual Professional Learning          200            90          0.45  \n",
       "1  Virtual Professional Learning          300           135          0.45  \n",
       "2          Professional Learning          200           200          1.00  \n",
       "3          Professional Learning          300           300          1.00  \n",
       "4          Professional Learning          225           225          1.00  "
      ]
     },
     "execution_count": 17,
     "metadata": {},
     "output_type": "execute_result"
    }
   ],
   "source": [
    "# Professional Learning Pricing - Artist is teaching Teachers how to use their art in the classroom\n",
    "professional_learning = get_name(d[1])\n",
    "professional_learning.head(5)"
   ]
  },
  {
   "cell_type": "code",
   "execution_count": 18,
   "metadata": {},
   "outputs": [
    {
     "data": {
      "text/plain": [
       "'Teaching Artist Demographics Collection 2021'"
      ]
     },
     "execution_count": 18,
     "metadata": {},
     "output_type": "execute_result"
    }
   ],
   "source": [
    "d[3]['name']"
   ]
  },
  {
   "cell_type": "code",
   "execution_count": 19,
   "metadata": {},
   "outputs": [
    {
     "name": "stdout",
     "output_type": "stream",
     "text": [
      "Single Assembly Pricing\n"
     ]
    },
    {
     "data": {
      "text/html": [
       "<div>\n",
       "<style scoped>\n",
       "    .dataframe tbody tr th:only-of-type {\n",
       "        vertical-align: middle;\n",
       "    }\n",
       "\n",
       "    .dataframe tbody tr th {\n",
       "        vertical-align: top;\n",
       "    }\n",
       "\n",
       "    .dataframe thead th {\n",
       "        text-align: right;\n",
       "    }\n",
       "</style>\n",
       "<table border=\"1\" class=\"dataframe\">\n",
       "  <thead>\n",
       "    <tr style=\"text-align: right;\">\n",
       "      <th></th>\n",
       "      <th>Artist ID</th>\n",
       "      <th>Account Name</th>\n",
       "      <th>Program Name</th>\n",
       "      <th>Date Joined</th>\n",
       "      <th>Fiscal Year</th>\n",
       "      <th>Component Type (General)</th>\n",
       "      <th>Venue Price</th>\n",
       "      <th>Artist's Fee</th>\n",
       "      <th>Artist Fee %</th>\n",
       "      <th>Component Type (Specific)</th>\n",
       "    </tr>\n",
       "  </thead>\n",
       "  <tbody>\n",
       "    <tr>\n",
       "      <th>0</th>\n",
       "      <td>33</td>\n",
       "      <td>Bobby Beetcut</td>\n",
       "      <td>Your Life is a Work of Art</td>\n",
       "      <td>2019-05-30</td>\n",
       "      <td>2020</td>\n",
       "      <td>Performance/Demo</td>\n",
       "      <td>650</td>\n",
       "      <td>450</td>\n",
       "      <td>0.692308</td>\n",
       "      <td>Single Performance</td>\n",
       "    </tr>\n",
       "    <tr>\n",
       "      <th>1</th>\n",
       "      <td>133</td>\n",
       "      <td>Bobby Beetcut</td>\n",
       "      <td>Your Life is a Work of Art</td>\n",
       "      <td>2019-05-30</td>\n",
       "      <td>2021</td>\n",
       "      <td>Performance/Demo</td>\n",
       "      <td>650</td>\n",
       "      <td>450</td>\n",
       "      <td>0.692308</td>\n",
       "      <td>Single Performance</td>\n",
       "    </tr>\n",
       "    <tr>\n",
       "      <th>2</th>\n",
       "      <td>50</td>\n",
       "      <td>Baba Bomani</td>\n",
       "      <td>BabaGotB.A.R.S.</td>\n",
       "      <td>2018-07-01</td>\n",
       "      <td>2019</td>\n",
       "      <td>Performance/Demo</td>\n",
       "      <td>725</td>\n",
       "      <td>500</td>\n",
       "      <td>0.689655</td>\n",
       "      <td>Single Performance</td>\n",
       "    </tr>\n",
       "    <tr>\n",
       "      <th>3</th>\n",
       "      <td>50</td>\n",
       "      <td>Baba Bomani</td>\n",
       "      <td>BabaGotB.A.R.S.</td>\n",
       "      <td>2018-07-01</td>\n",
       "      <td>2020</td>\n",
       "      <td>Performance/Demo</td>\n",
       "      <td>725</td>\n",
       "      <td>500</td>\n",
       "      <td>0.689655</td>\n",
       "      <td>Single Performance</td>\n",
       "    </tr>\n",
       "    <tr>\n",
       "      <th>4</th>\n",
       "      <td>50</td>\n",
       "      <td>Baba Bomani</td>\n",
       "      <td>BabaGotB.A.R.S.</td>\n",
       "      <td>2018-07-01</td>\n",
       "      <td>2021</td>\n",
       "      <td>Performance/Demo</td>\n",
       "      <td>725</td>\n",
       "      <td>500</td>\n",
       "      <td>0.689655</td>\n",
       "      <td>Single Performance</td>\n",
       "    </tr>\n",
       "  </tbody>\n",
       "</table>\n",
       "</div>"
      ],
      "text/plain": [
       "   Artist ID   Account Name                Program Name Date Joined  \\\n",
       "0         33  Bobby Beetcut  Your Life is a Work of Art  2019-05-30   \n",
       "1        133  Bobby Beetcut  Your Life is a Work of Art  2019-05-30   \n",
       "2         50    Baba Bomani             BabaGotB.A.R.S.  2018-07-01   \n",
       "3         50    Baba Bomani             BabaGotB.A.R.S.  2018-07-01   \n",
       "4         50    Baba Bomani             BabaGotB.A.R.S.  2018-07-01   \n",
       "\n",
       "   Fiscal Year Component Type (General)  Venue Price  Artist's Fee  \\\n",
       "0         2020         Performance/Demo          650           450   \n",
       "1         2021         Performance/Demo          650           450   \n",
       "2         2019         Performance/Demo          725           500   \n",
       "3         2020         Performance/Demo          725           500   \n",
       "4         2021         Performance/Demo          725           500   \n",
       "\n",
       "   Artist Fee % Component Type (Specific)  \n",
       "0      0.692308        Single Performance  \n",
       "1      0.692308        Single Performance  \n",
       "2      0.689655        Single Performance  \n",
       "3      0.689655        Single Performance  \n",
       "4      0.689655        Single Performance  "
      ]
     },
     "execution_count": 19,
     "metadata": {},
     "output_type": "execute_result"
    }
   ],
   "source": [
    "single_assembly = get_name(d[2]).head() # Single Performance – one assembly in a school\n",
    "single_assembly"
   ]
  },
  {
   "cell_type": "code",
   "execution_count": 20,
   "metadata": {},
   "outputs": [
    {
     "name": "stdout",
     "output_type": "stream",
     "text": [
      "Workshop Pricing\n"
     ]
    }
   ],
   "source": [
    "workshop_pricing = get_name(d[6]) # Workshop Pricing"
   ]
  },
  {
   "cell_type": "code",
   "execution_count": 21,
   "metadata": {},
   "outputs": [
    {
     "data": {
      "text/html": [
       "<div>\n",
       "<style scoped>\n",
       "    .dataframe tbody tr th:only-of-type {\n",
       "        vertical-align: middle;\n",
       "    }\n",
       "\n",
       "    .dataframe tbody tr th {\n",
       "        vertical-align: top;\n",
       "    }\n",
       "\n",
       "    .dataframe thead th {\n",
       "        text-align: right;\n",
       "    }\n",
       "</style>\n",
       "<table border=\"1\" class=\"dataframe\">\n",
       "  <thead>\n",
       "    <tr style=\"text-align: right;\">\n",
       "      <th></th>\n",
       "      <th>Artist ID</th>\n",
       "      <th>Account Name</th>\n",
       "      <th>Program Name</th>\n",
       "      <th>Date Joined</th>\n",
       "      <th>Fiscal Year</th>\n",
       "      <th>Component Type (General)</th>\n",
       "      <th>Venue Price</th>\n",
       "      <th>Artist's Fee</th>\n",
       "      <th>Artist Fee %</th>\n",
       "      <th>Component Type (Specific)</th>\n",
       "      <th>Multiple Artists</th>\n",
       "    </tr>\n",
       "  </thead>\n",
       "  <tbody>\n",
       "    <tr>\n",
       "      <th>0</th>\n",
       "      <td>51.0</td>\n",
       "      <td>AATMA Performing Arts</td>\n",
       "      <td>Dances of India</td>\n",
       "      <td>2016-07-01</td>\n",
       "      <td>2019</td>\n",
       "      <td>Workshop</td>\n",
       "      <td>785</td>\n",
       "      <td>550</td>\n",
       "      <td>0.700637</td>\n",
       "      <td>Stand-alone Workshop</td>\n",
       "      <td>*</td>\n",
       "    </tr>\n",
       "    <tr>\n",
       "      <th>1</th>\n",
       "      <td>51.0</td>\n",
       "      <td>AATMA Performing Arts</td>\n",
       "      <td>Dances of India</td>\n",
       "      <td>2016-07-01</td>\n",
       "      <td>2020</td>\n",
       "      <td>Workshop</td>\n",
       "      <td>785</td>\n",
       "      <td>550</td>\n",
       "      <td>0.700637</td>\n",
       "      <td>Stand-alone Workshop</td>\n",
       "      <td>*</td>\n",
       "    </tr>\n",
       "    <tr>\n",
       "      <th>2</th>\n",
       "      <td>51.0</td>\n",
       "      <td>AATMA Performing Arts</td>\n",
       "      <td>Dances of India</td>\n",
       "      <td>2016-07-01</td>\n",
       "      <td>2021</td>\n",
       "      <td>Workshop</td>\n",
       "      <td>785</td>\n",
       "      <td>550</td>\n",
       "      <td>0.700637</td>\n",
       "      <td>Stand-alone Workshop</td>\n",
       "      <td>*</td>\n",
       "    </tr>\n",
       "    <tr>\n",
       "      <th>3</th>\n",
       "      <td>89.0</td>\n",
       "      <td>Alex Shaw</td>\n",
       "      <td>Brazilian Group Drumming</td>\n",
       "      <td>2011-07-01</td>\n",
       "      <td>2019</td>\n",
       "      <td>Workshop</td>\n",
       "      <td>520</td>\n",
       "      <td>350</td>\n",
       "      <td>0.673077</td>\n",
       "      <td>Residency Workshop</td>\n",
       "      <td>NaN</td>\n",
       "    </tr>\n",
       "    <tr>\n",
       "      <th>4</th>\n",
       "      <td>89.0</td>\n",
       "      <td>Alex Shaw</td>\n",
       "      <td>Brazilian Group Drumming</td>\n",
       "      <td>2011-07-01</td>\n",
       "      <td>2020</td>\n",
       "      <td>Workshop</td>\n",
       "      <td>520</td>\n",
       "      <td>350</td>\n",
       "      <td>0.673077</td>\n",
       "      <td>Residency Workshop</td>\n",
       "      <td>NaN</td>\n",
       "    </tr>\n",
       "  </tbody>\n",
       "</table>\n",
       "</div>"
      ],
      "text/plain": [
       "   Artist ID           Account Name              Program Name Date Joined  \\\n",
       "0       51.0  AATMA Performing Arts           Dances of India  2016-07-01   \n",
       "1       51.0  AATMA Performing Arts           Dances of India  2016-07-01   \n",
       "2       51.0  AATMA Performing Arts           Dances of India  2016-07-01   \n",
       "3       89.0              Alex Shaw  Brazilian Group Drumming  2011-07-01   \n",
       "4       89.0              Alex Shaw  Brazilian Group Drumming  2011-07-01   \n",
       "\n",
       "   Fiscal Year Component Type (General)  Venue Price  Artist's Fee  \\\n",
       "0         2019                 Workshop          785           550   \n",
       "1         2020                 Workshop          785           550   \n",
       "2         2021                 Workshop          785           550   \n",
       "3         2019                 Workshop          520           350   \n",
       "4         2020                 Workshop          520           350   \n",
       "\n",
       "   Artist Fee % Component Type (Specific) Multiple Artists  \n",
       "0      0.700637      Stand-alone Workshop                *  \n",
       "1      0.700637      Stand-alone Workshop                *  \n",
       "2      0.700637      Stand-alone Workshop                *  \n",
       "3      0.673077        Residency Workshop              NaN  \n",
       "4      0.673077        Residency Workshop              NaN  "
      ]
     },
     "execution_count": 21,
     "metadata": {},
     "output_type": "execute_result"
    }
   ],
   "source": [
    "workshop_pricing.head() # These are workshops"
   ]
  },
  {
   "cell_type": "markdown",
   "metadata": {},
   "source": [
    "## Three Year Sales Data"
   ]
  },
  {
   "cell_type": "code",
   "execution_count": 34,
   "metadata": {},
   "outputs": [
    {
     "name": "stdout",
     "output_type": "stream",
     "text": [
      "Three Year Sales Report\n"
     ]
    }
   ],
   "source": [
    "three_year = get_name(d[5])\n",
    "three_year.columns = [col.strip() for col in list(three_year.columns)]"
   ]
  },
  {
   "cell_type": "code",
   "execution_count": 35,
   "metadata": {},
   "outputs": [],
   "source": [
    "# Mapping for IDs \n",
    "id_map = defaultdict()\n",
    "for aid, an in zip(three_year['Artist Payroll ID'], three_year['Artist: Account Name']):\n",
    "    if pd.isnull(aid)==False:\n",
    "        id_map[an] = aid"
   ]
  },
  {
   "cell_type": "code",
   "execution_count": 36,
   "metadata": {},
   "outputs": [],
   "source": [
    "# Map the unmapped artist IDs\n",
    "three_year.loc[three_year[pd.isnull(three_year['Artist Payroll ID'])].index, ['Artist Payroll ID']] = three_year[pd.isnull(three_year['Artist Payroll ID'])]['Artist: Account Name'].apply(lambda x: d.get(x, float('NaN')))\n",
    "# Literary Art to Literary Arts\n",
    "three_year.loc[three_year[three_year['Art Form (General Discipline)']=='Literary Arts'].index, ['Art Form (General Discipline)']] = 'Literary Art'"
   ]
  },
  {
   "cell_type": "code",
   "execution_count": 37,
   "metadata": {},
   "outputs": [
    {
     "data": {
      "text/html": [
       "<div>\n",
       "<style scoped>\n",
       "    .dataframe tbody tr th:only-of-type {\n",
       "        vertical-align: middle;\n",
       "    }\n",
       "\n",
       "    .dataframe tbody tr th {\n",
       "        vertical-align: top;\n",
       "    }\n",
       "\n",
       "    .dataframe thead th {\n",
       "        text-align: right;\n",
       "    }\n",
       "</style>\n",
       "<table border=\"1\" class=\"dataframe\">\n",
       "  <thead>\n",
       "    <tr style=\"text-align: right;\">\n",
       "      <th></th>\n",
       "      <th>Artist Payroll ID</th>\n",
       "      <th>Artist: Account Name</th>\n",
       "      <th>Art Form (General Discipline)</th>\n",
       "      <th>Contract Classification</th>\n",
       "      <th>Date</th>\n",
       "      <th>Contract #</th>\n",
       "      <th>Client Zip Code</th>\n",
       "      <th>Client</th>\n",
       "      <th>Billing Code</th>\n",
       "      <th>Component Type</th>\n",
       "      <th>Artist Fee</th>\n",
       "      <th>Sale Price</th>\n",
       "      <th>Artist Business name</th>\n",
       "    </tr>\n",
       "  </thead>\n",
       "  <tbody>\n",
       "    <tr>\n",
       "      <th>0</th>\n",
       "      <td>0.0</td>\n",
       "      <td>10HL</td>\n",
       "      <td>Dance</td>\n",
       "      <td>Professional Learning</td>\n",
       "      <td>2018-11-15</td>\n",
       "      <td>19-0008036</td>\n",
       "      <td>08540</td>\n",
       "      <td>Young Audiences New Jersey</td>\n",
       "      <td>Dodge Dance</td>\n",
       "      <td>Professional Learning</td>\n",
       "      <td>350.0</td>\n",
       "      <td>500.0</td>\n",
       "      <td>10 Hairy Legs</td>\n",
       "    </tr>\n",
       "    <tr>\n",
       "      <th>1</th>\n",
       "      <td>130.0</td>\n",
       "      <td>123 Andrés</td>\n",
       "      <td>Music</td>\n",
       "      <td>Assembly</td>\n",
       "      <td>2019-09-10</td>\n",
       "      <td>20-0008665</td>\n",
       "      <td>19808</td>\n",
       "      <td>Anna P Mote Elem</td>\n",
       "      <td>Program Services</td>\n",
       "      <td>Performance/Demo</td>\n",
       "      <td>550.0</td>\n",
       "      <td>795.0</td>\n",
       "      <td>Salsana, LLC</td>\n",
       "    </tr>\n",
       "    <tr>\n",
       "      <th>2</th>\n",
       "      <td>130.0</td>\n",
       "      <td>123 Andrés</td>\n",
       "      <td>Music</td>\n",
       "      <td>Assembly</td>\n",
       "      <td>2019-09-10</td>\n",
       "      <td>20-0008665</td>\n",
       "      <td>19808</td>\n",
       "      <td>Anna P Mote Elem</td>\n",
       "      <td>Program Services</td>\n",
       "      <td>Performance/Demo</td>\n",
       "      <td>550.0</td>\n",
       "      <td>795.0</td>\n",
       "      <td>Salsana, LLC</td>\n",
       "    </tr>\n",
       "    <tr>\n",
       "      <th>3</th>\n",
       "      <td>130.0</td>\n",
       "      <td>123 Andrés</td>\n",
       "      <td>Music</td>\n",
       "      <td>Assembly</td>\n",
       "      <td>2020-03-12</td>\n",
       "      <td>20-0008689</td>\n",
       "      <td>07514</td>\n",
       "      <td>Calvary Baptist Preschool</td>\n",
       "      <td>Program Services</td>\n",
       "      <td>Performance/Demo</td>\n",
       "      <td>700.0</td>\n",
       "      <td>1010.0</td>\n",
       "      <td>Salsana, LLC</td>\n",
       "    </tr>\n",
       "    <tr>\n",
       "      <th>4</th>\n",
       "      <td>130.0</td>\n",
       "      <td>123 Andrés</td>\n",
       "      <td>Music</td>\n",
       "      <td>Assembly</td>\n",
       "      <td>2020-03-12</td>\n",
       "      <td>20-0008689</td>\n",
       "      <td>07514</td>\n",
       "      <td>Calvary Baptist Preschool</td>\n",
       "      <td>Program Services</td>\n",
       "      <td>Travel</td>\n",
       "      <td>90.0</td>\n",
       "      <td>75.0</td>\n",
       "      <td>Salsana, LLC</td>\n",
       "    </tr>\n",
       "  </tbody>\n",
       "</table>\n",
       "</div>"
      ],
      "text/plain": [
       "   Artist Payroll ID Artist: Account Name Art Form (General Discipline)  \\\n",
       "0                0.0                 10HL                         Dance   \n",
       "1              130.0           123 Andrés                         Music   \n",
       "2              130.0           123 Andrés                         Music   \n",
       "3              130.0           123 Andrés                         Music   \n",
       "4              130.0           123 Andrés                         Music   \n",
       "\n",
       "  Contract Classification       Date  Contract # Client Zip Code  \\\n",
       "0   Professional Learning 2018-11-15  19-0008036           08540   \n",
       "1                Assembly 2019-09-10  20-0008665           19808   \n",
       "2                Assembly 2019-09-10  20-0008665           19808   \n",
       "3                Assembly 2020-03-12  20-0008689           07514   \n",
       "4                Assembly 2020-03-12  20-0008689           07514   \n",
       "\n",
       "                       Client      Billing Code         Component Type  \\\n",
       "0  Young Audiences New Jersey       Dodge Dance  Professional Learning   \n",
       "1            Anna P Mote Elem  Program Services       Performance/Demo   \n",
       "2            Anna P Mote Elem  Program Services       Performance/Demo   \n",
       "3   Calvary Baptist Preschool  Program Services       Performance/Demo   \n",
       "4   Calvary Baptist Preschool  Program Services                 Travel   \n",
       "\n",
       "   Artist Fee  Sale Price Artist Business name  \n",
       "0       350.0       500.0        10 Hairy Legs  \n",
       "1       550.0       795.0         Salsana, LLC  \n",
       "2       550.0       795.0         Salsana, LLC  \n",
       "3       700.0      1010.0         Salsana, LLC  \n",
       "4        90.0        75.0         Salsana, LLC  "
      ]
     },
     "execution_count": 37,
     "metadata": {},
     "output_type": "execute_result"
    }
   ],
   "source": [
    "three_year.head()"
   ]
  },
  {
   "cell_type": "code",
   "execution_count": 30,
   "metadata": {},
   "outputs": [],
   "source": [
    "# Map missing names\n",
    "three_year['Artist Payroll ID'] = three_year.apply(lambda x: id_map.get(x['Artist: Account Name']) if pd.isnull(x['Artist Payroll ID']) else x, axis=1)['Artist: Account Name']"
   ]
  },
  {
   "cell_type": "code",
   "execution_count": 39,
   "metadata": {},
   "outputs": [
    {
     "data": {
      "text/html": [
       "<div>\n",
       "<style scoped>\n",
       "    .dataframe tbody tr th:only-of-type {\n",
       "        vertical-align: middle;\n",
       "    }\n",
       "\n",
       "    .dataframe tbody tr th {\n",
       "        vertical-align: top;\n",
       "    }\n",
       "\n",
       "    .dataframe thead th {\n",
       "        text-align: right;\n",
       "    }\n",
       "</style>\n",
       "<table border=\"1\" class=\"dataframe\">\n",
       "  <thead>\n",
       "    <tr style=\"text-align: right;\">\n",
       "      <th></th>\n",
       "      <th>Artist Payroll ID</th>\n",
       "      <th>Artist: Account Name</th>\n",
       "      <th>Art Form (General Discipline)</th>\n",
       "      <th>Contract Classification</th>\n",
       "      <th>Date</th>\n",
       "      <th>Contract #</th>\n",
       "      <th>Client Zip Code</th>\n",
       "      <th>Client</th>\n",
       "      <th>Billing Code</th>\n",
       "      <th>Component Type</th>\n",
       "      <th>Artist Fee</th>\n",
       "      <th>Sale Price</th>\n",
       "      <th>Artist Business name</th>\n",
       "    </tr>\n",
       "  </thead>\n",
       "  <tbody>\n",
       "    <tr>\n",
       "      <th>50</th>\n",
       "      <td>NaN</td>\n",
       "      <td>123 Andrés</td>\n",
       "      <td>Music</td>\n",
       "      <td>Assembly</td>\n",
       "      <td>2021-06-02</td>\n",
       "      <td>21-0009884</td>\n",
       "      <td>08690</td>\n",
       "      <td>Mercer Elementary School</td>\n",
       "      <td>Arts Impact Initiative</td>\n",
       "      <td>Virtual Performance</td>\n",
       "      <td>700.0</td>\n",
       "      <td>1010.0</td>\n",
       "      <td>Salsana, LLC</td>\n",
       "    </tr>\n",
       "    <tr>\n",
       "      <th>105</th>\n",
       "      <td>NaN</td>\n",
       "      <td>AATMA Performing Arts</td>\n",
       "      <td>Dance</td>\n",
       "      <td>Assembly</td>\n",
       "      <td>2019-11-25</td>\n",
       "      <td>20-0008982</td>\n",
       "      <td>19004</td>\n",
       "      <td>French International School</td>\n",
       "      <td>YAEP</td>\n",
       "      <td>Performance/Demo</td>\n",
       "      <td>750.0</td>\n",
       "      <td>1082.5</td>\n",
       "      <td>AATMA Performing Arts</td>\n",
       "    </tr>\n",
       "    <tr>\n",
       "      <th>148</th>\n",
       "      <td>NaN</td>\n",
       "      <td>Alborada Spanish Dance Theatre</td>\n",
       "      <td>Dance</td>\n",
       "      <td>Assembly</td>\n",
       "      <td>2019-12-03</td>\n",
       "      <td>20-0009088</td>\n",
       "      <td>08618</td>\n",
       "      <td>9th Grade Academy</td>\n",
       "      <td>Adopt a School</td>\n",
       "      <td>Travel</td>\n",
       "      <td>30.0</td>\n",
       "      <td>75.0</td>\n",
       "      <td>Alborada Spanish Dance Theatre</td>\n",
       "    </tr>\n",
       "    <tr>\n",
       "      <th>152</th>\n",
       "      <td>NaN</td>\n",
       "      <td>Alden Phelps</td>\n",
       "      <td>Music</td>\n",
       "      <td>Assembly</td>\n",
       "      <td>2019-04-03</td>\n",
       "      <td>19-0008257</td>\n",
       "      <td>08753</td>\n",
       "      <td>Silver Bay Elem School</td>\n",
       "      <td>Arts Lab- Toms River</td>\n",
       "      <td>Performance/Demo</td>\n",
       "      <td>375.0</td>\n",
       "      <td>545.0</td>\n",
       "      <td>Alden Phelps</td>\n",
       "    </tr>\n",
       "    <tr>\n",
       "      <th>165</th>\n",
       "      <td>NaN</td>\n",
       "      <td>Alex Shaw</td>\n",
       "      <td>Music</td>\n",
       "      <td>Professional Learning</td>\n",
       "      <td>2021-03-11</td>\n",
       "      <td>21-0009872</td>\n",
       "      <td>08540</td>\n",
       "      <td>Young Audiences New Jersey</td>\n",
       "      <td>Dodge Theater</td>\n",
       "      <td>Professional Learning</td>\n",
       "      <td>350.0</td>\n",
       "      <td>350.0</td>\n",
       "      <td>Alex Shaw</td>\n",
       "    </tr>\n",
       "    <tr>\n",
       "      <th>2114</th>\n",
       "      <td>NaN</td>\n",
       "      <td>Deborah Owens</td>\n",
       "      <td>NaN</td>\n",
       "      <td>Admin/Project Dev</td>\n",
       "      <td>2021-03-15</td>\n",
       "      <td>21-0009889</td>\n",
       "      <td>08540</td>\n",
       "      <td>Young Audiences New Jersey</td>\n",
       "      <td>UWC YA Match</td>\n",
       "      <td>Teacher Stipend</td>\n",
       "      <td>200.0</td>\n",
       "      <td>200.0</td>\n",
       "      <td>Deborah Owens</td>\n",
       "    </tr>\n",
       "    <tr>\n",
       "      <th>2115</th>\n",
       "      <td>NaN</td>\n",
       "      <td>Derling Dance Arts</td>\n",
       "      <td>Dance</td>\n",
       "      <td>Professional Learning</td>\n",
       "      <td>2019-02-06</td>\n",
       "      <td>19-0008302</td>\n",
       "      <td>08540</td>\n",
       "      <td>Young Audiences New Jersey</td>\n",
       "      <td>Dodge Dance</td>\n",
       "      <td>Professional Learning</td>\n",
       "      <td>350.0</td>\n",
       "      <td>500.0</td>\n",
       "      <td>Derlling Dance Arts</td>\n",
       "    </tr>\n",
       "    <tr>\n",
       "      <th>2116</th>\n",
       "      <td>NaN</td>\n",
       "      <td>Dr. Ronah Harris</td>\n",
       "      <td>NaN</td>\n",
       "      <td>Admin/Project Dev</td>\n",
       "      <td>2020-10-02</td>\n",
       "      <td>21-0009574</td>\n",
       "      <td>08540</td>\n",
       "      <td>Young Audiences New Jersey</td>\n",
       "      <td>Virtual Learning Pilot</td>\n",
       "      <td>Artist Stipend</td>\n",
       "      <td>500.0</td>\n",
       "      <td>500.0</td>\n",
       "      <td>Dr. Ronah Harris</td>\n",
       "    </tr>\n",
       "    <tr>\n",
       "      <th>9540</th>\n",
       "      <td>NaN</td>\n",
       "      <td>Roxey Ballet</td>\n",
       "      <td>Dance</td>\n",
       "      <td>Professional Learning</td>\n",
       "      <td>2018-11-02</td>\n",
       "      <td>19-0008035</td>\n",
       "      <td>08540</td>\n",
       "      <td>Young Audiences New Jersey</td>\n",
       "      <td>Dodge Dance</td>\n",
       "      <td>Professional Learning</td>\n",
       "      <td>350.0</td>\n",
       "      <td>500.0</td>\n",
       "      <td>NaN</td>\n",
       "    </tr>\n",
       "  </tbody>\n",
       "</table>\n",
       "</div>"
      ],
      "text/plain": [
       "      Artist Payroll ID            Artist: Account Name  \\\n",
       "50                  NaN                      123 Andrés   \n",
       "105                 NaN           AATMA Performing Arts   \n",
       "148                 NaN  Alborada Spanish Dance Theatre   \n",
       "152                 NaN                    Alden Phelps   \n",
       "165                 NaN                       Alex Shaw   \n",
       "2114                NaN                   Deborah Owens   \n",
       "2115                NaN              Derling Dance Arts   \n",
       "2116                NaN                Dr. Ronah Harris   \n",
       "9540                NaN                    Roxey Ballet   \n",
       "\n",
       "     Art Form (General Discipline) Contract Classification       Date  \\\n",
       "50                           Music                Assembly 2021-06-02   \n",
       "105                          Dance                Assembly 2019-11-25   \n",
       "148                          Dance                Assembly 2019-12-03   \n",
       "152                          Music                Assembly 2019-04-03   \n",
       "165                          Music   Professional Learning 2021-03-11   \n",
       "2114                           NaN       Admin/Project Dev 2021-03-15   \n",
       "2115                         Dance   Professional Learning 2019-02-06   \n",
       "2116                           NaN       Admin/Project Dev 2020-10-02   \n",
       "9540                         Dance   Professional Learning 2018-11-02   \n",
       "\n",
       "      Contract # Client Zip Code                       Client  \\\n",
       "50    21-0009884           08690     Mercer Elementary School   \n",
       "105   20-0008982           19004  French International School   \n",
       "148   20-0009088           08618            9th Grade Academy   \n",
       "152   19-0008257           08753       Silver Bay Elem School   \n",
       "165   21-0009872           08540   Young Audiences New Jersey   \n",
       "2114  21-0009889           08540   Young Audiences New Jersey   \n",
       "2115  19-0008302           08540   Young Audiences New Jersey   \n",
       "2116  21-0009574           08540   Young Audiences New Jersey   \n",
       "9540  19-0008035           08540   Young Audiences New Jersey   \n",
       "\n",
       "                Billing Code         Component Type  Artist Fee  Sale Price  \\\n",
       "50    Arts Impact Initiative    Virtual Performance       700.0      1010.0   \n",
       "105                     YAEP       Performance/Demo       750.0      1082.5   \n",
       "148           Adopt a School                 Travel        30.0        75.0   \n",
       "152     Arts Lab- Toms River       Performance/Demo       375.0       545.0   \n",
       "165            Dodge Theater  Professional Learning       350.0       350.0   \n",
       "2114            UWC YA Match        Teacher Stipend       200.0       200.0   \n",
       "2115             Dodge Dance  Professional Learning       350.0       500.0   \n",
       "2116  Virtual Learning Pilot         Artist Stipend       500.0       500.0   \n",
       "9540             Dodge Dance  Professional Learning       350.0       500.0   \n",
       "\n",
       "                Artist Business name  \n",
       "50                      Salsana, LLC  \n",
       "105            AATMA Performing Arts  \n",
       "148   Alborada Spanish Dance Theatre  \n",
       "152                     Alden Phelps  \n",
       "165                        Alex Shaw  \n",
       "2114                   Deborah Owens  \n",
       "2115             Derlling Dance Arts  \n",
       "2116                Dr. Ronah Harris  \n",
       "9540                             NaN  "
      ]
     },
     "execution_count": 39,
     "metadata": {},
     "output_type": "execute_result"
    }
   ],
   "source": [
    "three_year[pd.isnull(three_year['Artist Payroll ID'])]"
   ]
  },
  {
   "cell_type": "code",
   "execution_count": 41,
   "metadata": {},
   "outputs": [],
   "source": [
    "# Artist Payroll ID. Map some unmapped one\n",
    "three_year['Artist Payroll ID'] = three_year.apply(lambda x: id_map.get(x['Artist: Account Name']) if pd.isnull(x['Artist Payroll ID']) else x, axis=1)['Artist Payroll ID']"
   ]
  },
  {
   "cell_type": "code",
   "execution_count": 43,
   "metadata": {},
   "outputs": [
    {
     "data": {
      "text/html": [
       "<div>\n",
       "<style scoped>\n",
       "    .dataframe tbody tr th:only-of-type {\n",
       "        vertical-align: middle;\n",
       "    }\n",
       "\n",
       "    .dataframe tbody tr th {\n",
       "        vertical-align: top;\n",
       "    }\n",
       "\n",
       "    .dataframe thead th {\n",
       "        text-align: right;\n",
       "    }\n",
       "</style>\n",
       "<table border=\"1\" class=\"dataframe\">\n",
       "  <thead>\n",
       "    <tr style=\"text-align: right;\">\n",
       "      <th></th>\n",
       "      <th>Artist Payroll ID</th>\n",
       "      <th>Artist: Account Name</th>\n",
       "      <th>Art Form (General Discipline)</th>\n",
       "      <th>Contract Classification</th>\n",
       "      <th>Date</th>\n",
       "      <th>Contract #</th>\n",
       "      <th>Client Zip Code</th>\n",
       "      <th>Client</th>\n",
       "      <th>Billing Code</th>\n",
       "      <th>Component Type</th>\n",
       "      <th>Artist Fee</th>\n",
       "      <th>Sale Price</th>\n",
       "      <th>Artist Business name</th>\n",
       "    </tr>\n",
       "  </thead>\n",
       "  <tbody>\n",
       "    <tr>\n",
       "      <th>2114</th>\n",
       "      <td>NaN</td>\n",
       "      <td>Deborah Owens</td>\n",
       "      <td>NaN</td>\n",
       "      <td>Admin/Project Dev</td>\n",
       "      <td>2021-03-15</td>\n",
       "      <td>21-0009889</td>\n",
       "      <td>08540</td>\n",
       "      <td>Young Audiences New Jersey</td>\n",
       "      <td>UWC YA Match</td>\n",
       "      <td>Teacher Stipend</td>\n",
       "      <td>200.0</td>\n",
       "      <td>200.0</td>\n",
       "      <td>Deborah Owens</td>\n",
       "    </tr>\n",
       "    <tr>\n",
       "      <th>2115</th>\n",
       "      <td>NaN</td>\n",
       "      <td>Derling Dance Arts</td>\n",
       "      <td>Dance</td>\n",
       "      <td>Professional Learning</td>\n",
       "      <td>2019-02-06</td>\n",
       "      <td>19-0008302</td>\n",
       "      <td>08540</td>\n",
       "      <td>Young Audiences New Jersey</td>\n",
       "      <td>Dodge Dance</td>\n",
       "      <td>Professional Learning</td>\n",
       "      <td>350.0</td>\n",
       "      <td>500.0</td>\n",
       "      <td>Derlling Dance Arts</td>\n",
       "    </tr>\n",
       "    <tr>\n",
       "      <th>2116</th>\n",
       "      <td>NaN</td>\n",
       "      <td>Dr. Ronah Harris</td>\n",
       "      <td>NaN</td>\n",
       "      <td>Admin/Project Dev</td>\n",
       "      <td>2020-10-02</td>\n",
       "      <td>21-0009574</td>\n",
       "      <td>08540</td>\n",
       "      <td>Young Audiences New Jersey</td>\n",
       "      <td>Virtual Learning Pilot</td>\n",
       "      <td>Artist Stipend</td>\n",
       "      <td>500.0</td>\n",
       "      <td>500.0</td>\n",
       "      <td>Dr. Ronah Harris</td>\n",
       "    </tr>\n",
       "    <tr>\n",
       "      <th>9540</th>\n",
       "      <td>NaN</td>\n",
       "      <td>Roxey Ballet</td>\n",
       "      <td>Dance</td>\n",
       "      <td>Professional Learning</td>\n",
       "      <td>2018-11-02</td>\n",
       "      <td>19-0008035</td>\n",
       "      <td>08540</td>\n",
       "      <td>Young Audiences New Jersey</td>\n",
       "      <td>Dodge Dance</td>\n",
       "      <td>Professional Learning</td>\n",
       "      <td>350.0</td>\n",
       "      <td>500.0</td>\n",
       "      <td>NaN</td>\n",
       "    </tr>\n",
       "  </tbody>\n",
       "</table>\n",
       "</div>"
      ],
      "text/plain": [
       "      Artist Payroll ID Artist: Account Name Art Form (General Discipline)  \\\n",
       "2114                NaN        Deborah Owens                           NaN   \n",
       "2115                NaN   Derling Dance Arts                         Dance   \n",
       "2116                NaN     Dr. Ronah Harris                           NaN   \n",
       "9540                NaN         Roxey Ballet                         Dance   \n",
       "\n",
       "     Contract Classification       Date  Contract # Client Zip Code  \\\n",
       "2114       Admin/Project Dev 2021-03-15  21-0009889           08540   \n",
       "2115   Professional Learning 2019-02-06  19-0008302           08540   \n",
       "2116       Admin/Project Dev 2020-10-02  21-0009574           08540   \n",
       "9540   Professional Learning 2018-11-02  19-0008035           08540   \n",
       "\n",
       "                          Client            Billing Code  \\\n",
       "2114  Young Audiences New Jersey            UWC YA Match   \n",
       "2115  Young Audiences New Jersey             Dodge Dance   \n",
       "2116  Young Audiences New Jersey  Virtual Learning Pilot   \n",
       "9540  Young Audiences New Jersey             Dodge Dance   \n",
       "\n",
       "             Component Type  Artist Fee  Sale Price Artist Business name  \n",
       "2114        Teacher Stipend       200.0       200.0        Deborah Owens  \n",
       "2115  Professional Learning       350.0       500.0  Derlling Dance Arts  \n",
       "2116         Artist Stipend       500.0       500.0     Dr. Ronah Harris  \n",
       "9540  Professional Learning       350.0       500.0                  NaN  "
      ]
     },
     "execution_count": 43,
     "metadata": {},
     "output_type": "execute_result"
    }
   ],
   "source": [
    "three_year[pd.isnull(three_year['Artist Payroll ID'])]"
   ]
  },
  {
   "cell_type": "code",
   "execution_count": null,
   "metadata": {},
   "outputs": [],
   "source": [
    "id_map['123 Andrés']"
   ]
  },
  {
   "cell_type": "code",
   "execution_count": null,
   "metadata": {},
   "outputs": [],
   "source": [
    "three_year[pd.isnull(three_year['Artist Payroll ID'])]"
   ]
  },
  {
   "cell_type": "code",
   "execution_count": null,
   "metadata": {},
   "outputs": [],
   "source": [
    "three_year.head()"
   ]
  },
  {
   "cell_type": "code",
   "execution_count": null,
   "metadata": {},
   "outputs": [],
   "source": [
    "demographic = get_name(d[9])\n",
    "dd = demographic.copy()\n",
    "# Remove Unamed column\n",
    "demographic = demographic.drop(labels=['Unnamed: 0'], axis=1)\n",
    "# Drop duplicates\n",
    "demographic = demographic.drop_duplicates(subset=['artist_id'], keep='last').reset_index(drop=True)"
   ]
  },
  {
   "cell_type": "code",
   "execution_count": null,
   "metadata": {},
   "outputs": [],
   "source": [
    "dd[dd['artist_id']==133]"
   ]
  },
  {
   "cell_type": "code",
   "execution_count": null,
   "metadata": {},
   "outputs": [],
   "source": [
    "demographic"
   ]
  },
  {
   "cell_type": "code",
   "execution_count": null,
   "metadata": {},
   "outputs": [],
   "source": [
    "len(three_year)"
   ]
  },
  {
   "cell_type": "code",
   "execution_count": null,
   "metadata": {},
   "outputs": [],
   "source": [
    "three_year['Component Type'].value_counts()"
   ]
  },
  {
   "cell_type": "code",
   "execution_count": null,
   "metadata": {},
   "outputs": [],
   "source": [
    "# Retrieve top 10 components\n",
    "top_components = list(three_year['Component Type'].value_counts()[:9].index)\n",
    "top_components.remove('Travel')\n",
    "top_components.remove('Materials')\n",
    "top_components.append('Virtual Planning Meeting')"
   ]
  },
  {
   "cell_type": "code",
   "execution_count": null,
   "metadata": {},
   "outputs": [],
   "source": [
    "top_components"
   ]
  },
  {
   "cell_type": "code",
   "execution_count": null,
   "metadata": {},
   "outputs": [],
   "source": [
    "# Group by\n",
    "three_yr_grp = three_year.groupby(['Artist Payroll ID', 'Artist: Account Name', 'Art Form (General Discipline)', 'Contract Classification', 'Date', 'Contract #', 'Client Zip Code', 'Client', 'Billing Code', 'Component Type', 'Artist Business name']).sum()['Artist Fee'].reset_index().reset_index(drop=True)"
   ]
  },
  {
   "cell_type": "code",
   "execution_count": null,
   "metadata": {},
   "outputs": [],
   "source": [
    "# Retrieve only top performances. Remove other components\n",
    "three_year_cnt = three_year[three_year['Component Type'].isin(top_components)].copy()"
   ]
  },
  {
   "cell_type": "code",
   "execution_count": null,
   "metadata": {},
   "outputs": [],
   "source": [
    "len(three_year_cnt)"
   ]
  },
  {
   "cell_type": "code",
   "execution_count": null,
   "metadata": {},
   "outputs": [],
   "source": [
    "# Retrieve only top performances. Remove other components\n",
    "three_yr_grp = three_yr_grp[three_yr_grp['Component Type'].isin(top_components)].copy()"
   ]
  },
  {
   "cell_type": "code",
   "execution_count": null,
   "metadata": {},
   "outputs": [],
   "source": [
    "len(three_yr_grp)"
   ]
  },
  {
   "cell_type": "markdown",
   "metadata": {},
   "source": [
    "### Review unique artists"
   ]
  },
  {
   "cell_type": "code",
   "execution_count": null,
   "metadata": {},
   "outputs": [],
   "source": [
    "# Retrieve unique artists\n",
    "unique_artists = three_yr_grp.drop_duplicates(subset=['Artist Payroll ID', 'Artist: Account Name'])[['Artist Payroll ID', 'Artist: Account Name']].reset_index(drop=True)"
   ]
  },
  {
   "cell_type": "code",
   "execution_count": null,
   "metadata": {},
   "outputs": [],
   "source": [
    "unique_artists['Artist Payroll ID'].value_counts().iloc[:4]"
   ]
  },
  {
   "cell_type": "code",
   "execution_count": null,
   "metadata": {},
   "outputs": [],
   "source": [
    "unique_artists[unique_artists['Artist Payroll ID']==95.0]"
   ]
  },
  {
   "cell_type": "code",
   "execution_count": null,
   "metadata": {},
   "outputs": [],
   "source": [
    "demographic[demographic['artist_id']==95]"
   ]
  },
  {
   "cell_type": "code",
   "execution_count": null,
   "metadata": {},
   "outputs": [],
   "source": [
    "len(three_yr_grp[three_yr_grp['Artist: Account Name']=='Josh Robinson'])"
   ]
  },
  {
   "cell_type": "code",
   "execution_count": null,
   "metadata": {},
   "outputs": [],
   "source": [
    "len(three_yr_grp[three_yr_grp['Artist: Account Name']=='Poetry Meets Percussion'])"
   ]
  },
  {
   "cell_type": "code",
   "execution_count": null,
   "metadata": {},
   "outputs": [],
   "source": [
    "len(three_yr_grp[three_yr_grp['Artist: Account Name']=='Samba to Salsa'])"
   ]
  },
  {
   "cell_type": "code",
   "execution_count": null,
   "metadata": {},
   "outputs": [],
   "source": [
    "unique_artists[unique_artists['Artist Payroll ID']==0]"
   ]
  },
  {
   "cell_type": "code",
   "execution_count": null,
   "metadata": {},
   "outputs": [],
   "source": [
    "demographic[demographic['artist_id']==0]"
   ]
  },
  {
   "cell_type": "code",
   "execution_count": null,
   "metadata": {},
   "outputs": [],
   "source": [
    "three_yr_grp[three_yr_grp['Artist: Account Name']=='10HL'].head()"
   ]
  },
  {
   "cell_type": "code",
   "execution_count": null,
   "metadata": {},
   "outputs": [],
   "source": [
    "len(three_yr_grp[three_yr_grp['Artist: Account Name']=='10HL'])"
   ]
  },
  {
   "cell_type": "code",
   "execution_count": null,
   "metadata": {},
   "outputs": [],
   "source": [
    "len(three_yr_grp[three_yr_grp['Artist: Account Name']=='Oyin Hardy'])"
   ]
  },
  {
   "cell_type": "code",
   "execution_count": null,
   "metadata": {},
   "outputs": [],
   "source": [
    "unique_artists[unique_artists['Artist Payroll ID']==20]"
   ]
  },
  {
   "cell_type": "code",
   "execution_count": null,
   "metadata": {},
   "outputs": [],
   "source": [
    "demographic[demographic['artist_id']==20]"
   ]
  },
  {
   "cell_type": "code",
   "execution_count": null,
   "metadata": {},
   "outputs": [],
   "source": [
    "len(three_yr_grp[three_yr_grp['Artist: Account Name']=='Dave Fry'])"
   ]
  },
  {
   "cell_type": "code",
   "execution_count": null,
   "metadata": {},
   "outputs": [],
   "source": [
    "len(three_yr_grp[three_yr_grp['Artist: Account Name']=='RockRoots'])"
   ]
  },
  {
   "cell_type": "code",
   "execution_count": null,
   "metadata": {},
   "outputs": [],
   "source": [
    "unique_artists[unique_artists['Artist Payroll ID']==56]"
   ]
  },
  {
   "cell_type": "code",
   "execution_count": null,
   "metadata": {},
   "outputs": [],
   "source": [
    "demographic[demographic['artist_id']==56]"
   ]
  },
  {
   "cell_type": "code",
   "execution_count": null,
   "metadata": {},
   "outputs": [],
   "source": [
    "len(three_yr_grp[three_yr_grp['Artist: Account Name']=='The Junk Jam Band'])"
   ]
  },
  {
   "cell_type": "code",
   "execution_count": null,
   "metadata": {},
   "outputs": [],
   "source": [
    "three_yr_grp[three_yr_grp['Artist: Account Name']=='Zachary Green'].head()"
   ]
  },
  {
   "cell_type": "code",
   "execution_count": null,
   "metadata": {},
   "outputs": [],
   "source": [
    "#unique_artists['Artist: Account Name'].value_counts()"
   ]
  },
  {
   "cell_type": "code",
   "execution_count": null,
   "metadata": {},
   "outputs": [],
   "source": [
    "joined = three_yr_grp.merge(demographic, how='outer', left_on='Artist Payroll ID', right_on='artist_id')"
   ]
  },
  {
   "cell_type": "code",
   "execution_count": null,
   "metadata": {},
   "outputs": [],
   "source": [
    "len(joined)"
   ]
  },
  {
   "cell_type": "code",
   "execution_count": null,
   "metadata": {},
   "outputs": [],
   "source": [
    "num_include = list(set(joined['Artist Payroll ID'])-set([95, 0, 20, 56]))"
   ]
  },
  {
   "cell_type": "code",
   "execution_count": null,
   "metadata": {},
   "outputs": [],
   "source": [
    "included_df = joined[joined['Artist Payroll ID'].isin(num_include)]"
   ]
  },
  {
   "cell_type": "code",
   "execution_count": null,
   "metadata": {},
   "outputs": [],
   "source": [
    "null_demo = included_df[pd.isnull(included_df['artist_id'])].copy().reset_index(drop=True)"
   ]
  },
  {
   "cell_type": "code",
   "execution_count": null,
   "metadata": {},
   "outputs": [],
   "source": [
    "demo = included_df[~pd.isnull(included_df['artist_id'])].copy().reset_index(drop=True)"
   ]
  },
  {
   "cell_type": "code",
   "execution_count": null,
   "metadata": {},
   "outputs": [],
   "source": [
    "len(null_demo)"
   ]
  },
  {
   "cell_type": "code",
   "execution_count": null,
   "metadata": {},
   "outputs": [],
   "source": [
    "len(demo)"
   ]
  },
  {
   "cell_type": "code",
   "execution_count": null,
   "metadata": {},
   "outputs": [],
   "source": [
    "len(demo)/(len(null_demo)+len(demo))"
   ]
  },
  {
   "cell_type": "code",
   "execution_count": null,
   "metadata": {},
   "outputs": [],
   "source": [
    "demo['Artist Payroll ID'].nunique()"
   ]
  },
  {
   "cell_type": "code",
   "execution_count": null,
   "metadata": {},
   "outputs": [],
   "source": [
    "len(demo)/(len(null_demo)+len(demo))"
   ]
  },
  {
   "cell_type": "code",
   "execution_count": null,
   "metadata": {},
   "outputs": [],
   "source": [
    "null_demo['Artist Payroll ID'].nunique()"
   ]
  },
  {
   "cell_type": "code",
   "execution_count": null,
   "metadata": {},
   "outputs": [],
   "source": [
    "p = three_year[pd.isnull(three_year['Artist Payroll ID'])]\n",
    "p = three_year.drop_duplicates(['Artist Payroll ID', 'Artist: Account Name'])"
   ]
  },
  {
   "cell_type": "code",
   "execution_count": null,
   "metadata": {},
   "outputs": [],
   "source": [
    "demo.head()"
   ]
  },
  {
   "cell_type": "code",
   "execution_count": null,
   "metadata": {},
   "outputs": [],
   "source": [
    "demo[demo['age']=='75 or older']"
   ]
  },
  {
   "cell_type": "code",
   "execution_count": null,
   "metadata": {},
   "outputs": [],
   "source": [
    "demo.to_excel('demographics.xlsx')"
   ]
  },
  {
   "cell_type": "markdown",
   "metadata": {},
   "source": [
    "## Null Demo"
   ]
  },
  {
   "cell_type": "code",
   "execution_count": null,
   "metadata": {},
   "outputs": [],
   "source": [
    "len(joined)"
   ]
  },
  {
   "cell_type": "code",
   "execution_count": null,
   "metadata": {},
   "outputs": [],
   "source": [
    "null_demo"
   ]
  },
  {
   "cell_type": "markdown",
   "metadata": {},
   "source": [
    "## Demo"
   ]
  },
  {
   "cell_type": "code",
   "execution_count": null,
   "metadata": {},
   "outputs": [],
   "source": [
    "null_demo"
   ]
  },
  {
   "cell_type": "code",
   "execution_count": null,
   "metadata": {},
   "outputs": [],
   "source": [
    "demo['Artist Payroll ID'].nunique()"
   ]
  },
  {
   "cell_type": "code",
   "execution_count": null,
   "metadata": {},
   "outputs": [],
   "source": [
    "demo['Artist Payroll ID'].nunique()"
   ]
  },
  {
   "cell_type": "code",
   "execution_count": null,
   "metadata": {},
   "outputs": [],
   "source": [
    "demographic[demographic['artist_id']==133]"
   ]
  },
  {
   "cell_type": "code",
   "execution_count": null,
   "metadata": {},
   "outputs": [],
   "source": [
    "three_yr_grp"
   ]
  },
  {
   "cell_type": "code",
   "execution_count": null,
   "metadata": {},
   "outputs": [],
   "source": [
    "three_year.info()"
   ]
  },
  {
   "cell_type": "code",
   "execution_count": null,
   "metadata": {},
   "outputs": [],
   "source": [
    "three_year.to_excel('sales_data.xlsx')"
   ]
  },
  {
   "cell_type": "code",
   "execution_count": null,
   "metadata": {},
   "outputs": [],
   "source": [
    "#three_year[pd.isnull(three_year['Artist Payroll ID'])]"
   ]
  },
  {
   "cell_type": "code",
   "execution_count": null,
   "metadata": {},
   "outputs": [],
   "source": [
    "three_year['Artist Business name'].value_counts().head()"
   ]
  },
  {
   "cell_type": "code",
   "execution_count": null,
   "metadata": {},
   "outputs": [],
   "source": [
    "len(three_year[three_year['Sale Price']>three_year['Artist Fee']])"
   ]
  },
  {
   "cell_type": "code",
   "execution_count": null,
   "metadata": {},
   "outputs": [],
   "source": [
    "len(three_year[three_year['Sale Price']==three_year['Artist Fee']])"
   ]
  },
  {
   "cell_type": "code",
   "execution_count": null,
   "metadata": {},
   "outputs": [],
   "source": [
    "len(three_year[three_year['Sale Price']<three_year['Artist Fee']])"
   ]
  },
  {
   "cell_type": "code",
   "execution_count": null,
   "metadata": {},
   "outputs": [],
   "source": [
    "three_year[three_year['Sale Price']<three_year['Artist Fee']]['Component Type'].value_counts()"
   ]
  },
  {
   "cell_type": "code",
   "execution_count": null,
   "metadata": {},
   "outputs": [],
   "source": [
    "three_year_cnt['Artist Fee'].mean()"
   ]
  },
  {
   "cell_type": "code",
   "execution_count": null,
   "metadata": {},
   "outputs": [],
   "source": [
    "three_yr_grp['Artist Fee'].mean()"
   ]
  },
  {
   "cell_type": "code",
   "execution_count": null,
   "metadata": {},
   "outputs": [],
   "source": []
  },
  {
   "cell_type": "code",
   "execution_count": null,
   "metadata": {},
   "outputs": [],
   "source": [
    "three_year[three_year['Component Type']=='Workshop']['Sale Price'].mean()"
   ]
  },
  {
   "cell_type": "code",
   "execution_count": null,
   "metadata": {},
   "outputs": [],
   "source": [
    "three_year[three_year['Component Type']=='Travel']['Artist Fee'].mean()"
   ]
  },
  {
   "cell_type": "code",
   "execution_count": null,
   "metadata": {},
   "outputs": [],
   "source": [
    "three_year[three_year['Component Type']=='Workshop']['Artist Fee'].mean()"
   ]
  },
  {
   "cell_type": "code",
   "execution_count": null,
   "metadata": {},
   "outputs": [],
   "source": [
    "three_year['Sale Price']-three_year['Artist Fee']"
   ]
  },
  {
   "cell_type": "code",
   "execution_count": null,
   "metadata": {},
   "outputs": [],
   "source": [
    "three_year['Sale Price'].value_counts().head()"
   ]
  },
  {
   "cell_type": "code",
   "execution_count": null,
   "metadata": {},
   "outputs": [],
   "source": [
    "three_year['Artist Fee'].value_counts().head()"
   ]
  },
  {
   "cell_type": "code",
   "execution_count": null,
   "metadata": {},
   "outputs": [],
   "source": [
    "round(three_year['Component Type'].value_counts()/sum(three_year['Component Type'].value_counts()),4)*100"
   ]
  },
  {
   "cell_type": "code",
   "execution_count": null,
   "metadata": {},
   "outputs": [],
   "source": [
    "three_year['Component Type'].value_counts()"
   ]
  },
  {
   "cell_type": "code",
   "execution_count": null,
   "metadata": {},
   "outputs": [],
   "source": [
    "three_year['Component Type'].isin(['Workshop', 'Performance/Demo', 'Virtual Performance', ''])"
   ]
  },
  {
   "cell_type": "code",
   "execution_count": null,
   "metadata": {},
   "outputs": [],
   "source": [
    "three_year['Billing Code'].value_counts().head()"
   ]
  },
  {
   "cell_type": "code",
   "execution_count": null,
   "metadata": {},
   "outputs": [],
   "source": [
    "three_year['Artist Payroll ID'].nunique()"
   ]
  },
  {
   "cell_type": "code",
   "execution_count": null,
   "metadata": {},
   "outputs": [],
   "source": [
    "three_year['Artist: Account Name'].nunique()"
   ]
  },
  {
   "cell_type": "code",
   "execution_count": null,
   "metadata": {},
   "outputs": [],
   "source": [
    "three_year['Art Form (General Discipline)'].value_counts()"
   ]
  },
  {
   "cell_type": "code",
   "execution_count": null,
   "metadata": {},
   "outputs": [],
   "source": [
    "round(three_year['Art Form (General Discipline)'].value_counts()/sum(three_year['Art Form (General Discipline)'].value_counts()), 4)*100"
   ]
  },
  {
   "cell_type": "code",
   "execution_count": null,
   "metadata": {},
   "outputs": [],
   "source": [
    "three_year['Contract Classification'].value_counts()"
   ]
  },
  {
   "cell_type": "code",
   "execution_count": null,
   "metadata": {},
   "outputs": [],
   "source": [
    "three_year['Date'].min(), three_year['Date'].max()"
   ]
  },
  {
   "cell_type": "code",
   "execution_count": null,
   "metadata": {},
   "outputs": [],
   "source": [
    "three_year['Date'].dt.to_period('M').value_counts().head()"
   ]
  },
  {
   "cell_type": "code",
   "execution_count": null,
   "metadata": {},
   "outputs": [],
   "source": []
  },
  {
   "cell_type": "code",
   "execution_count": null,
   "metadata": {},
   "outputs": [],
   "source": [
    "three_year.info()"
   ]
  },
  {
   "cell_type": "code",
   "execution_count": null,
   "metadata": {},
   "outputs": [],
   "source": [
    "three_year.groupby(pd.Grouper(key='Date', freq='M'))"
   ]
  },
  {
   "cell_type": "code",
   "execution_count": null,
   "metadata": {},
   "outputs": [],
   "source": [
    "three_year.describe()"
   ]
  },
  {
   "cell_type": "code",
   "execution_count": null,
   "metadata": {},
   "outputs": [],
   "source": [
    "three_year.info()"
   ]
  },
  {
   "cell_type": "code",
   "execution_count": null,
   "metadata": {},
   "outputs": [],
   "source": [
    "demo_1 = get_name(d[7])\n",
    "demo_1.head()"
   ]
  },
  {
   "cell_type": "code",
   "execution_count": null,
   "metadata": {},
   "outputs": [],
   "source": [
    "demo_2 = get_name(d[8])\n",
    "demo_2.head()"
   ]
  },
  {
   "cell_type": "code",
   "execution_count": null,
   "metadata": {},
   "outputs": [],
   "source": [
    "# from fuzzbuzz import fuzz\n",
    "# from fuzzbuzz import process"
   ]
  },
  {
   "cell_type": "code",
   "execution_count": null,
   "metadata": {},
   "outputs": [],
   "source": [
    "\n",
    "#Iterate through indicationsa to see if there's a match with dosages\n",
    "for ind in indications:\n",
    "    eo = process.extractOne(ind, d_keys, scorer=fuzz.partial_token_sort_ratio)\n",
    "    dosage_ind = eo[0]\n",
    "    score = eo[1]\n",
    "    dosage = dosages[dosage_ind]\n",
    "    if score<=50: #If low fuzzy match score then don't add\n",
    "        dosage_ind, dosage, score = None, None, None\n",
    "    df = df.append({'indication': ind, 'dosage_ind': dosage_ind, 'dosage': dosage, 'score': score}, ignore_index=True)\n",
    "\n",
    "return df"
   ]
  },
  {
   "cell_type": "code",
   "execution_count": null,
   "metadata": {},
   "outputs": [],
   "source": [
    "demo_1.merge(demo_2, on=['first_name', 'last_name', 'state'])"
   ]
  },
  {
   "cell_type": "code",
   "execution_count": null,
   "metadata": {},
   "outputs": [],
   "source": [
    "get_name(d[6])"
   ]
  },
  {
   "cell_type": "code",
   "execution_count": null,
   "metadata": {},
   "outputs": [],
   "source": [
    "get_name(d[6])['Multiple Artists'].value_counts()"
   ]
  },
  {
   "cell_type": "code",
   "execution_count": null,
   "metadata": {},
   "outputs": [],
   "source": [
    "get_name(d[7]).info()"
   ]
  },
  {
   "cell_type": "code",
   "execution_count": null,
   "metadata": {},
   "outputs": [],
   "source": [
    "get_name(d[7]).head()"
   ]
  },
  {
   "cell_type": "code",
   "execution_count": null,
   "metadata": {},
   "outputs": [],
   "source": [
    "demo_2"
   ]
  },
  {
   "cell_type": "code",
   "execution_count": null,
   "metadata": {},
   "outputs": [],
   "source": [
    "demo_1"
   ]
  },
  {
   "cell_type": "code",
   "execution_count": null,
   "metadata": {},
   "outputs": [],
   "source": [
    "joined = demo_1.join(demo_2, on='respondent_id', how='outer', lsuffix='_demo1', rsuffix='_demo2')"
   ]
  },
  {
   "cell_type": "code",
   "execution_count": null,
   "metadata": {},
   "outputs": [],
   "source": [
    "joined"
   ]
  },
  {
   "cell_type": "code",
   "execution_count": null,
   "metadata": {},
   "outputs": [],
   "source": [
    "demo_1 = get_name(d[7])\n",
    "demo_2 = get_name(d[8])"
   ]
  },
  {
   "cell_type": "code",
   "execution_count": null,
   "metadata": {},
   "outputs": [],
   "source": [
    "cols = list(joined.columns[joined.columns.str.contains('demo1|demo2')])"
   ]
  },
  {
   "cell_type": "code",
   "execution_count": null,
   "metadata": {},
   "outputs": [],
   "source": [
    "cols.sort()"
   ]
  },
  {
   "cell_type": "code",
   "execution_count": null,
   "metadata": {},
   "outputs": [],
   "source": [
    "remove_cols = ['age', 'city', 'collector_id', 'comapny', 'disabled', 'ethnicity', 'first_name', 'gender', 'last_name']"
   ]
  },
  {
   "cell_type": "code",
   "execution_count": null,
   "metadata": {},
   "outputs": [],
   "source": [
    "joined[cols]"
   ]
  },
  {
   "cell_type": "code",
   "execution_count": null,
   "metadata": {},
   "outputs": [],
   "source": [
    "demo_1.head()"
   ]
  },
  {
   "cell_type": "code",
   "execution_count": null,
   "metadata": {},
   "outputs": [],
   "source": [
    "demo_2.head()"
   ]
  },
  {
   "cell_type": "code",
   "execution_count": null,
   "metadata": {},
   "outputs": [],
   "source": [
    "get_name(d[8]).head()"
   ]
  },
  {
   "cell_type": "code",
   "execution_count": null,
   "metadata": {},
   "outputs": [],
   "source": [
    "df = pd.read_excel(file_list[0])"
   ]
  },
  {
   "cell_type": "code",
   "execution_count": null,
   "metadata": {},
   "outputs": [],
   "source": [
    "three_year = get_name(d[6]) # Workshop Pricing"
   ]
  },
  {
   "cell_type": "code",
   "execution_count": null,
   "metadata": {},
   "outputs": [],
   "source": [
    "df.info()"
   ]
  },
  {
   "cell_type": "code",
   "execution_count": null,
   "metadata": {},
   "outputs": [],
   "source": []
  },
  {
   "cell_type": "code",
   "execution_count": null,
   "metadata": {},
   "outputs": [],
   "source": [
    "d = defaultdict()"
   ]
  },
  {
   "cell_type": "code",
   "execution_count": null,
   "metadata": {},
   "outputs": [],
   "source": [
    "for artist_id, name in zip(three_year['Artist Payroll ID'], three_year['Artist: Account Name']):\n",
    "    d[artist_id] = name"
   ]
  },
  {
   "cell_type": "code",
   "execution_count": null,
   "metadata": {},
   "outputs": [],
   "source": [
    "three_year['Artist: Account Name']"
   ]
  },
  {
   "cell_type": "code",
   "execution_count": null,
   "metadata": {},
   "outputs": [],
   "source": [
    "three_year[three_year['Artist: Account Name'].str.contains('Zachary')]"
   ]
  },
  {
   "cell_type": "code",
   "execution_count": null,
   "metadata": {},
   "outputs": [],
   "source": [
    "three_year"
   ]
  },
  {
   "cell_type": "code",
   "execution_count": null,
   "metadata": {},
   "outputs": [],
   "source": []
  }
 ],
 "metadata": {
  "interpreter": {
   "hash": "2a0e6ac5b7e19e25da07df31b33f441d49c99a24f25781d722c2fa104d7061cf"
  },
  "kernelspec": {
   "display_name": "Python 3.9.5 64-bit ('3.9.5': pyenv)",
   "name": "python3"
  },
  "language_info": {
   "codemirror_mode": {
    "name": "ipython",
    "version": 3
   },
   "file_extension": ".py",
   "mimetype": "text/x-python",
   "name": "python",
   "nbconvert_exporter": "python",
   "pygments_lexer": "ipython3",
   "version": "3.9.5"
  }
 },
 "nbformat": 4,
 "nbformat_minor": 4
}
