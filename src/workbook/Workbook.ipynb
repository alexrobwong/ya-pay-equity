{
 "cells": [
  {
   "cell_type": "markdown",
   "metadata": {},
   "source": [
    "# Young Audiences Data"
   ]
  },
  {
   "cell_type": "code",
   "execution_count": 1,
   "metadata": {},
   "outputs": [],
   "source": [
    "#!pip3 install fuzzywuzzy\n",
    "#!pip3 install 'fuzzywuzzy[speedup]'\n",
    "#!pip3 install matplotlib"
   ]
  },
  {
   "cell_type": "code",
   "execution_count": 2,
   "metadata": {},
   "outputs": [],
   "source": [
    "import pandas as pd\n",
    "import glob\n",
    "from collections import defaultdict\n",
    "from fuzzywuzzy import process, fuzz\n",
    "#import matplotlib.pyplot as plt"
   ]
  },
  {
   "cell_type": "code",
   "execution_count": 3,
   "metadata": {},
   "outputs": [],
   "source": [
    "path = \"/Users/jjgong/Desktop/ya-pay-equity/data/raw/\"\n",
    "# Use Glob to retrieve all of the file names\n",
    "file_list = glob.glob(path+'*.xlsx')\n",
    "# Sort files\n",
    "file_list.sort()"
   ]
  },
  {
   "cell_type": "markdown",
   "metadata": {},
   "source": [
    "## Data Upload"
   ]
  },
  {
   "cell_type": "code",
   "execution_count": 4,
   "metadata": {},
   "outputs": [
    {
     "data": {
      "text/plain": [
       "['/Users/jjgong/Desktop/ya-pay-equity/data/raw/Performance Pair Pricing.xlsx',\n",
       " '/Users/jjgong/Desktop/ya-pay-equity/data/raw/Professional Learning Pricing.xlsx',\n",
       " '/Users/jjgong/Desktop/ya-pay-equity/data/raw/Single Assembly Pricing.xlsx',\n",
       " '/Users/jjgong/Desktop/ya-pay-equity/data/raw/Teaching Artist Demographics Collection 2021.xlsx',\n",
       " '/Users/jjgong/Desktop/ya-pay-equity/data/raw/Teaching Artist Demographics Collection Short 04 06 21.xlsx',\n",
       " '/Users/jjgong/Desktop/ya-pay-equity/data/raw/Three Year Sales Report.xlsx',\n",
       " '/Users/jjgong/Desktop/ya-pay-equity/data/raw/Workshop Pricing.xlsx',\n",
       " '/Users/jjgong/Desktop/ya-pay-equity/data/raw/demographic_cleaned_part_1.xlsx',\n",
       " '/Users/jjgong/Desktop/ya-pay-equity/data/raw/demographic_cleaned_part_2.xlsx']"
      ]
     },
     "execution_count": 4,
     "metadata": {},
     "output_type": "execute_result"
    }
   ],
   "source": [
    "file_list"
   ]
  },
  {
   "cell_type": "code",
   "execution_count": 5,
   "metadata": {},
   "outputs": [],
   "source": [
    "d = defaultdict(lambda: defaultdict())\n",
    "for i,f in enumerate(file_list):\n",
    "    d[i]['name'] = f[71:-5]\n",
    "    d[i]['file'] = pd.read_excel(f)"
   ]
  },
  {
   "cell_type": "code",
   "execution_count": 6,
   "metadata": {},
   "outputs": [],
   "source": [
    "# Get title and file\n",
    "def get_name(d):\n",
    "    print(d['name'])\n",
    "    return d['file']"
   ]
  },
  {
   "cell_type": "code",
   "execution_count": 7,
   "metadata": {},
   "outputs": [],
   "source": [
    "pd.set_option(\"max_columns\", 500)"
   ]
  },
  {
   "cell_type": "markdown",
   "metadata": {},
   "source": [
    "## Pricing Data"
   ]
  },
  {
   "cell_type": "code",
   "execution_count": null,
   "metadata": {},
   "outputs": [],
   "source": [
    "# Is null\n",
    "#get_name(d[8])['company'].isna().sum()"
   ]
  },
  {
   "cell_type": "code",
   "execution_count": null,
   "metadata": {},
   "outputs": [],
   "source": [
    "#get_name(d[1]).head()"
   ]
  },
  {
   "cell_type": "code",
   "execution_count": null,
   "metadata": {},
   "outputs": [],
   "source": [
    "get_name(d[2]).head() # Single Performance – one assembly in a school"
   ]
  },
  {
   "cell_type": "code",
   "execution_count": null,
   "metadata": {},
   "outputs": [],
   "source": [
    "get_name(d[5]).head() # Three Year Sales Report"
   ]
  },
  {
   "cell_type": "code",
   "execution_count": null,
   "metadata": {},
   "outputs": [],
   "source": [
    "#get_name(d[3]).columns"
   ]
  },
  {
   "cell_type": "code",
   "execution_count": null,
   "metadata": {},
   "outputs": [],
   "source": [
    "get_name(d[7]).head(3) #columns - demographics data - Teaching Artist Demographics Collection 2021"
   ]
  },
  {
   "cell_type": "code",
   "execution_count": null,
   "metadata": {},
   "outputs": [],
   "source": [
    "#get_name(d[3])"
   ]
  },
  {
   "cell_type": "code",
   "execution_count": null,
   "metadata": {},
   "outputs": [],
   "source": [
    "#df = get_name(d[2])\n",
    "#df[['First Name', 'Last Name']] = df['Account Name'].str.split(' ', 1, expand=True)\n",
    "#df"
   ]
  },
  {
   "cell_type": "code",
   "execution_count": null,
   "metadata": {},
   "outputs": [],
   "source": [
    "#get_name(d[4]).head() #- demographics data part 2 - Teaching Artist Demographics Collection Short 04 06 21"
   ]
  },
  {
   "cell_type": "markdown",
   "metadata": {},
   "source": [
    "## Artist Info:\n",
    "\n",
    "1. Number of teachers / performers-- Yes we know this- Working on getting the report.  Will provide shortly.\n",
    "\n",
    "2. Number of years of experience –We know # of years most artists have worked for us.  Their start date is on the pricing reports.  We do not collect data on how long they have been practicing the art form. \n",
    "\n",
    "3. Professional certifications – We do not collect this data.\n"
   ]
  },
  {
   "cell_type": "markdown",
   "metadata": {},
   "source": [
    "## Purchasing Entity:\n",
    "\n",
    "1. Number of attendees / class size -- We collect that information from the school.  Working on updating the sales report to include this information. \n",
    "\n",
    "2. Age group of attendees / class  -- We collect that information from the school.  Working on updating the sales report to include this information\n",
    "\n",
    "3. Number of sessions – depends on the number of students, the size of the performance or workshop space, size of the sound system,  and the needs of the artist. Most assembly artists will do 250-300 students as a single performance and if more want us to schedule a second performance.  Some artists will do as many students as the space will fit as one performance as they have a large sound system and like performing for large groups.  It’s best to keep performances within a three grade span but often schools can’t afford the time or money for multiple shows.  Workshops are always 25 students or less per workshop.  No more than four in a day unless negotiated with the artist and they are paid more.\n",
    "\n",
    "4. Length of each session – most sessions are 45 minutes\n",
    "\n",
    "5. Genre/instrument of art form general_discipline: This is tracked on our yearly Chapter Report by our National Office into these 5 categories:  Music, Theatre, Dance, Visual Art, Literary, and Media. ( Literary Art and Literary Arts is one in the same.\n"
   ]
  },
  {
   "cell_type": "code",
   "execution_count": null,
   "metadata": {},
   "outputs": [],
   "source": [
    "# Professional Learning Pricing - Artist is teaching Teachers how to use their art in the classroom\n",
    "professional_learning = get_name(d[1])\n",
    "professional_learning.head(5)"
   ]
  },
  {
   "cell_type": "code",
   "execution_count": null,
   "metadata": {},
   "outputs": [],
   "source": [
    "single_assembly = get_name(d[2]).head() # Single Performance – one assembly in a school\n",
    "single_assembly"
   ]
  },
  {
   "cell_type": "code",
   "execution_count": null,
   "metadata": {},
   "outputs": [],
   "source": [
    "workshop_pricing = get_name(d[6]) # Workshop Pricing"
   ]
  },
  {
   "cell_type": "code",
   "execution_count": null,
   "metadata": {},
   "outputs": [],
   "source": [
    "workshop_pricing.head() # These are workshops"
   ]
  },
  {
   "cell_type": "markdown",
   "metadata": {},
   "source": [
    "## Three Year Sales Data"
   ]
  },
  {
   "cell_type": "code",
   "execution_count": 8,
   "metadata": {},
   "outputs": [
    {
     "name": "stdout",
     "output_type": "stream",
     "text": [
      "\n"
     ]
    }
   ],
   "source": [
    "three_year = get_name(d[5])"
   ]
  },
  {
   "cell_type": "code",
   "execution_count": 9,
   "metadata": {},
   "outputs": [],
   "source": [
    "# Mapping for IDs \n",
    "id_map = defaultdict()\n",
    "for aid, an in zip(three_year['Artist Payroll ID'], three_year['Artist: Account Name']):\n",
    "    if pd.isnull(aid)==False:\n",
    "        id_map[an] = aid"
   ]
  },
  {
   "cell_type": "code",
   "execution_count": 10,
   "metadata": {},
   "outputs": [],
   "source": [
    "# Map the unmapped artist IDs\n",
    "three_year.loc[three_year[pd.isnull(three_year['Artist Payroll ID'])].index, ['Artist Payroll ID']] = three_year[pd.isnull(three_year['Artist Payroll ID'])]['Artist: Account Name'].apply(lambda x: d.get(x, float('NaN')))\n",
    "# Literary Art to Literary Arts\n",
    "three_year.loc[three_year[three_year['Art Form (General Discipline)']=='Literary Arts'].index, ['Art Form (General Discipline)']] = 'Literary Art'"
   ]
  },
  {
   "cell_type": "code",
   "execution_count": 11,
   "metadata": {},
   "outputs": [
    {
     "data": {
      "text/html": [
       "<div>\n",
       "<style scoped>\n",
       "    .dataframe tbody tr th:only-of-type {\n",
       "        vertical-align: middle;\n",
       "    }\n",
       "\n",
       "    .dataframe tbody tr th {\n",
       "        vertical-align: top;\n",
       "    }\n",
       "\n",
       "    .dataframe thead th {\n",
       "        text-align: right;\n",
       "    }\n",
       "</style>\n",
       "<table border=\"1\" class=\"dataframe\">\n",
       "  <thead>\n",
       "    <tr style=\"text-align: right;\">\n",
       "      <th></th>\n",
       "      <th>Artist Payroll ID</th>\n",
       "      <th>Artist: Account Name</th>\n",
       "      <th>Art Form (General Discipline)</th>\n",
       "      <th>Contract Classification</th>\n",
       "      <th>Date</th>\n",
       "      <th>Contract #</th>\n",
       "      <th>Client Zip Code</th>\n",
       "      <th>Client</th>\n",
       "      <th>Billing Code</th>\n",
       "      <th>Component Type</th>\n",
       "      <th>Artist Fee</th>\n",
       "      <th>Sale Price</th>\n",
       "      <th>Artist Business name</th>\n",
       "    </tr>\n",
       "  </thead>\n",
       "  <tbody>\n",
       "    <tr>\n",
       "      <th>0</th>\n",
       "      <td>0.0</td>\n",
       "      <td>10HL</td>\n",
       "      <td>Dance</td>\n",
       "      <td>Professional Learning</td>\n",
       "      <td>2018-11-15</td>\n",
       "      <td>19-0008036</td>\n",
       "      <td>08540</td>\n",
       "      <td>Young Audiences New Jersey</td>\n",
       "      <td>Dodge Dance</td>\n",
       "      <td>Professional Learning</td>\n",
       "      <td>350.0</td>\n",
       "      <td>500.0</td>\n",
       "      <td>10 Hairy Legs</td>\n",
       "    </tr>\n",
       "    <tr>\n",
       "      <th>1</th>\n",
       "      <td>130.0</td>\n",
       "      <td>123 Andrés</td>\n",
       "      <td>Music</td>\n",
       "      <td>Assembly</td>\n",
       "      <td>2019-09-10</td>\n",
       "      <td>20-0008665</td>\n",
       "      <td>19808</td>\n",
       "      <td>Anna P Mote Elem</td>\n",
       "      <td>Program Services</td>\n",
       "      <td>Performance/Demo</td>\n",
       "      <td>550.0</td>\n",
       "      <td>795.0</td>\n",
       "      <td>Salsana, LLC</td>\n",
       "    </tr>\n",
       "    <tr>\n",
       "      <th>2</th>\n",
       "      <td>130.0</td>\n",
       "      <td>123 Andrés</td>\n",
       "      <td>Music</td>\n",
       "      <td>Assembly</td>\n",
       "      <td>2019-09-10</td>\n",
       "      <td>20-0008665</td>\n",
       "      <td>19808</td>\n",
       "      <td>Anna P Mote Elem</td>\n",
       "      <td>Program Services</td>\n",
       "      <td>Performance/Demo</td>\n",
       "      <td>550.0</td>\n",
       "      <td>795.0</td>\n",
       "      <td>Salsana, LLC</td>\n",
       "    </tr>\n",
       "    <tr>\n",
       "      <th>3</th>\n",
       "      <td>130.0</td>\n",
       "      <td>123 Andrés</td>\n",
       "      <td>Music</td>\n",
       "      <td>Assembly</td>\n",
       "      <td>2020-03-12</td>\n",
       "      <td>20-0008689</td>\n",
       "      <td>07514</td>\n",
       "      <td>Calvary Baptist Preschool</td>\n",
       "      <td>Program Services</td>\n",
       "      <td>Performance/Demo</td>\n",
       "      <td>700.0</td>\n",
       "      <td>1010.0</td>\n",
       "      <td>Salsana, LLC</td>\n",
       "    </tr>\n",
       "    <tr>\n",
       "      <th>4</th>\n",
       "      <td>130.0</td>\n",
       "      <td>123 Andrés</td>\n",
       "      <td>Music</td>\n",
       "      <td>Assembly</td>\n",
       "      <td>2020-03-12</td>\n",
       "      <td>20-0008689</td>\n",
       "      <td>07514</td>\n",
       "      <td>Calvary Baptist Preschool</td>\n",
       "      <td>Program Services</td>\n",
       "      <td>Travel</td>\n",
       "      <td>90.0</td>\n",
       "      <td>75.0</td>\n",
       "      <td>Salsana, LLC</td>\n",
       "    </tr>\n",
       "  </tbody>\n",
       "</table>\n",
       "</div>"
      ],
      "text/plain": [
       "   Artist Payroll ID Artist: Account Name Art Form (General Discipline)  \\\n",
       "0                0.0                 10HL                         Dance   \n",
       "1              130.0           123 Andrés                         Music   \n",
       "2              130.0           123 Andrés                         Music   \n",
       "3              130.0           123 Andrés                         Music   \n",
       "4              130.0           123 Andrés                         Music   \n",
       "\n",
       "  Contract Classification       Date  Contract # Client Zip Code  \\\n",
       "0   Professional Learning 2018-11-15  19-0008036           08540   \n",
       "1                Assembly 2019-09-10  20-0008665           19808   \n",
       "2                Assembly 2019-09-10  20-0008665           19808   \n",
       "3                Assembly 2020-03-12  20-0008689           07514   \n",
       "4                Assembly 2020-03-12  20-0008689           07514   \n",
       "\n",
       "                      Client       Billing Code         Component Type  \\\n",
       "0  Young Audiences New Jersey       Dodge Dance  Professional Learning   \n",
       "1            Anna P Mote Elem  Program Services       Performance/Demo   \n",
       "2            Anna P Mote Elem  Program Services       Performance/Demo   \n",
       "3   Calvary Baptist Preschool  Program Services       Performance/Demo   \n",
       "4   Calvary Baptist Preschool  Program Services                 Travel   \n",
       "\n",
       "   Artist Fee  Sale Price Artist Business name  \n",
       "0       350.0       500.0        10 Hairy Legs  \n",
       "1       550.0       795.0         Salsana, LLC  \n",
       "2       550.0       795.0         Salsana, LLC  \n",
       "3       700.0      1010.0         Salsana, LLC  \n",
       "4        90.0        75.0         Salsana, LLC  "
      ]
     },
     "execution_count": 11,
     "metadata": {},
     "output_type": "execute_result"
    }
   ],
   "source": [
    "three_year.head()"
   ]
  },
  {
   "cell_type": "code",
   "execution_count": 13,
   "metadata": {},
   "outputs": [
    {
     "name": "stdout",
     "output_type": "stream",
     "text": [
      "<class 'pandas.core.frame.DataFrame'>\n",
      "RangeIndex: 11500 entries, 0 to 11499\n",
      "Data columns (total 13 columns):\n",
      " #   Column                         Non-Null Count  Dtype         \n",
      "---  ------                         --------------  -----         \n",
      " 0   Artist Payroll ID              11491 non-null  float64       \n",
      " 1   Artist: Account Name           11500 non-null  object        \n",
      " 2   Art Form (General Discipline)  11385 non-null  object        \n",
      " 3   Contract Classification        11498 non-null  object        \n",
      " 4   Date                           11500 non-null  datetime64[ns]\n",
      " 5   Contract #                     11500 non-null  object        \n",
      " 6   Client Zip Code                11499 non-null  object        \n",
      " 7   Client                         11500 non-null  object        \n",
      " 8   Billing Code                   11500 non-null  object        \n",
      " 9   Component Type                 11500 non-null  object        \n",
      " 10  Artist Fee                     11500 non-null  float64       \n",
      " 11  Sale Price                     11500 non-null  float64       \n",
      " 12  Artist Business name           11494 non-null  object        \n",
      "dtypes: datetime64[ns](1), float64(3), object(9)\n",
      "memory usage: 1.1+ MB\n"
     ]
    }
   ],
   "source": [
    "three_year.info()"
   ]
  },
  {
   "cell_type": "code",
   "execution_count": 15,
   "metadata": {},
   "outputs": [],
   "source": [
    "three_year.to_excel('sales_data.xlsx')"
   ]
  },
  {
   "cell_type": "code",
   "execution_count": null,
   "metadata": {},
   "outputs": [],
   "source": [
    "#three_year[pd.isnull(three_year['Artist Payroll ID'])]"
   ]
  },
  {
   "cell_type": "code",
   "execution_count": 16,
   "metadata": {},
   "outputs": [
    {
     "data": {
      "text/plain": [
       "Hip Hop Fundamentals    885\n",
       "TAHIRA                  578\n",
       "Molly Gaston Johnson    560\n",
       "Laura Marchese          435\n",
       "Karen Abdul-Malik       414\n",
       "Name: Artist Business name, dtype: int64"
      ]
     },
     "execution_count": 16,
     "metadata": {},
     "output_type": "execute_result"
    }
   ],
   "source": [
    "three_year['Artist Business name'].value_counts().head()"
   ]
  },
  {
   "cell_type": "code",
   "execution_count": 17,
   "metadata": {},
   "outputs": [
    {
     "data": {
      "text/plain": [
       "6826"
      ]
     },
     "execution_count": 17,
     "metadata": {},
     "output_type": "execute_result"
    }
   ],
   "source": [
    "len(three_year[three_year['Sale Price']>three_year['Artist Fee']])"
   ]
  },
  {
   "cell_type": "code",
   "execution_count": 18,
   "metadata": {},
   "outputs": [
    {
     "data": {
      "text/plain": [
       "4229"
      ]
     },
     "execution_count": 18,
     "metadata": {},
     "output_type": "execute_result"
    }
   ],
   "source": [
    "len(three_year[three_year['Sale Price']==three_year['Artist Fee']])"
   ]
  },
  {
   "cell_type": "code",
   "execution_count": 19,
   "metadata": {},
   "outputs": [
    {
     "data": {
      "text/plain": [
       "445"
      ]
     },
     "execution_count": 19,
     "metadata": {},
     "output_type": "execute_result"
    }
   ],
   "source": [
    "len(three_year[three_year['Sale Price']<three_year['Artist Fee']])"
   ]
  },
  {
   "cell_type": "code",
   "execution_count": 20,
   "metadata": {},
   "outputs": [
    {
     "data": {
      "text/plain": [
       "Travel                 349\n",
       "Performance/Demo        39\n",
       "Cartage                 25\n",
       "Other                   12\n",
       "Workshop                10\n",
       "Materials                6\n",
       "Planning Meeting         3\n",
       "Virtual Performance      1\n",
       "Name: Component Type, dtype: int64"
      ]
     },
     "execution_count": 20,
     "metadata": {},
     "output_type": "execute_result"
    }
   ],
   "source": [
    "three_year[three_year['Sale Price']<three_year['Artist Fee']]['Component Type'].value_counts()"
   ]
  },
  {
   "cell_type": "code",
   "execution_count": 21,
   "metadata": {},
   "outputs": [
    {
     "data": {
      "text/plain": [
       "0        150.0\n",
       "1        245.0\n",
       "2        245.0\n",
       "3        310.0\n",
       "4        -15.0\n",
       "         ...  \n",
       "11495    383.0\n",
       "11496    -30.0\n",
       "11497      0.0\n",
       "11498    175.0\n",
       "11499    -35.0\n",
       "Length: 11500, dtype: float64"
      ]
     },
     "execution_count": 21,
     "metadata": {},
     "output_type": "execute_result"
    }
   ],
   "source": [
    "three_year['Sale Price']-three_year['Artist Fee']"
   ]
  },
  {
   "cell_type": "code",
   "execution_count": 22,
   "metadata": {},
   "outputs": [
    {
     "data": {
      "text/plain": [
       "75.0     2568\n",
       "127.5     528\n",
       "125.0     364\n",
       "87.5      300\n",
       "170.0     290\n",
       "Name: Sale Price, dtype: int64"
      ]
     },
     "execution_count": 22,
     "metadata": {},
     "output_type": "execute_result"
    }
   ],
   "source": [
    "three_year['Sale Price'].value_counts().head()"
   ]
  },
  {
   "cell_type": "code",
   "execution_count": 23,
   "metadata": {},
   "outputs": [
    {
     "data": {
      "text/plain": [
       "75.00     1097\n",
       "87.50      903\n",
       "60.00      565\n",
       "116.67     552\n",
       "25.00      500\n",
       "Name: Artist Fee, dtype: int64"
      ]
     },
     "execution_count": 23,
     "metadata": {},
     "output_type": "execute_result"
    }
   ],
   "source": [
    "three_year['Artist Fee'].value_counts().head()"
   ]
  },
  {
   "cell_type": "code",
   "execution_count": 24,
   "metadata": {},
   "outputs": [
    {
     "data": {
      "text/plain": [
       "Workshop                         37.45\n",
       "Travel                           25.24\n",
       "Performance/Demo                 15.41\n",
       "Virtual Workshop                  6.50\n",
       "Professional Learning             6.17\n",
       "Virtual Performance               2.21\n",
       "Virtual Professional Learning     1.72\n",
       "Planning Meeting                  1.52\n",
       "Materials                         1.16\n",
       "Artist Stipend                    0.77\n",
       "Other                             0.69\n",
       "Virtual Planning Meeting          0.44\n",
       "Cartage                           0.22\n",
       "Artist Meeting                    0.15\n",
       "Administrative Fee                0.12\n",
       "Wait Time                         0.10\n",
       "Teacher Stipend                   0.08\n",
       "Virtual Meet and Greet            0.05\n",
       "Field Trip                        0.01\n",
       "Name: Component Type, dtype: float64"
      ]
     },
     "execution_count": 24,
     "metadata": {},
     "output_type": "execute_result"
    }
   ],
   "source": [
    "round(three_year['Component Type'].value_counts()/sum(three_year['Component Type'].value_counts()),4)*100"
   ]
  },
  {
   "cell_type": "code",
   "execution_count": 25,
   "metadata": {},
   "outputs": [
    {
     "data": {
      "text/plain": [
       "Workshop                         4307\n",
       "Travel                           2903\n",
       "Performance/Demo                 1772\n",
       "Virtual Workshop                  747\n",
       "Professional Learning             709\n",
       "Virtual Performance               254\n",
       "Virtual Professional Learning     198\n",
       "Planning Meeting                  175\n",
       "Materials                         133\n",
       "Artist Stipend                     89\n",
       "Other                              79\n",
       "Virtual Planning Meeting           51\n",
       "Cartage                            25\n",
       "Artist Meeting                     17\n",
       "Administrative Fee                 14\n",
       "Wait Time                          11\n",
       "Teacher Stipend                     9\n",
       "Virtual Meet and Greet              6\n",
       "Field Trip                          1\n",
       "Name: Component Type, dtype: int64"
      ]
     },
     "execution_count": 25,
     "metadata": {},
     "output_type": "execute_result"
    }
   ],
   "source": [
    "three_year['Component Type'].value_counts()"
   ]
  },
  {
   "cell_type": "code",
   "execution_count": 26,
   "metadata": {},
   "outputs": [
    {
     "data": {
      "text/plain": [
       "0        False\n",
       "1         True\n",
       "2         True\n",
       "3         True\n",
       "4        False\n",
       "         ...  \n",
       "11495     True\n",
       "11496    False\n",
       "11497    False\n",
       "11498     True\n",
       "11499    False\n",
       "Name: Component Type, Length: 11500, dtype: bool"
      ]
     },
     "execution_count": 26,
     "metadata": {},
     "output_type": "execute_result"
    }
   ],
   "source": [
    "three_year['Component Type'].isin(['Workshop', 'Performance/Demo', 'Virtual Performance', ''])"
   ]
  },
  {
   "cell_type": "code",
   "execution_count": 27,
   "metadata": {},
   "outputs": [
    {
     "data": {
      "text/plain": [
       "Program Services      3424\n",
       "AIE                   1891\n",
       "Creative Incubator     958\n",
       "Dodge Theater          837\n",
       "YAEP                   598\n",
       "Name: Billing Code, dtype: int64"
      ]
     },
     "execution_count": 27,
     "metadata": {},
     "output_type": "execute_result"
    }
   ],
   "source": [
    "three_year['Billing Code'].value_counts().head()"
   ]
  },
  {
   "cell_type": "code",
   "execution_count": null,
   "metadata": {},
   "outputs": [],
   "source": [
    "three_year['Artist Payroll ID'].nunique()"
   ]
  },
  {
   "cell_type": "code",
   "execution_count": null,
   "metadata": {},
   "outputs": [],
   "source": [
    "three_year['Artist: Account Name'].nunique()"
   ]
  },
  {
   "cell_type": "code",
   "execution_count": null,
   "metadata": {},
   "outputs": [],
   "source": [
    "three_year['Art Form (General Discipline)'].value_counts()"
   ]
  },
  {
   "cell_type": "code",
   "execution_count": null,
   "metadata": {},
   "outputs": [],
   "source": [
    "round(three_year['Art Form (General Discipline)'].value_counts()/sum(three_year['Art Form (General Discipline)'].value_counts()), 4)*100"
   ]
  },
  {
   "cell_type": "code",
   "execution_count": null,
   "metadata": {},
   "outputs": [],
   "source": [
    "three_year['Contract Classification'].value_counts()"
   ]
  },
  {
   "cell_type": "code",
   "execution_count": null,
   "metadata": {},
   "outputs": [],
   "source": [
    "three_year['Date'].min(), three_year['Date'].max()"
   ]
  },
  {
   "cell_type": "code",
   "execution_count": null,
   "metadata": {},
   "outputs": [],
   "source": [
    "three_year['Date'].dt.to_period('M').value_counts().head()"
   ]
  },
  {
   "cell_type": "code",
   "execution_count": null,
   "metadata": {},
   "outputs": [],
   "source": []
  },
  {
   "cell_type": "code",
   "execution_count": null,
   "metadata": {},
   "outputs": [],
   "source": [
    "three_year.info()"
   ]
  },
  {
   "cell_type": "code",
   "execution_count": null,
   "metadata": {},
   "outputs": [],
   "source": [
    "three_year.groupby(pd.Grouper(key='Date', freq='M'))"
   ]
  },
  {
   "cell_type": "code",
   "execution_count": null,
   "metadata": {},
   "outputs": [],
   "source": [
    "three_year[]"
   ]
  },
  {
   "cell_type": "code",
   "execution_count": null,
   "metadata": {},
   "outputs": [],
   "source": [
    "three_year.describe()"
   ]
  },
  {
   "cell_type": "code",
   "execution_count": null,
   "metadata": {},
   "outputs": [],
   "source": [
    "three_year.info()"
   ]
  },
  {
   "cell_type": "code",
   "execution_count": null,
   "metadata": {},
   "outputs": [],
   "source": [
    "demo_1 = get_name(d[7])\n",
    "demo_1.head()"
   ]
  },
  {
   "cell_type": "code",
   "execution_count": null,
   "metadata": {},
   "outputs": [],
   "source": [
    "demo_2 = get_name(d[8])\n",
    "demo_2.head()"
   ]
  },
  {
   "cell_type": "code",
   "execution_count": null,
   "metadata": {},
   "outputs": [],
   "source": [
    "# from fuzzbuzz import fuzz\n",
    "# from fuzzbuzz import process"
   ]
  },
  {
   "cell_type": "code",
   "execution_count": null,
   "metadata": {},
   "outputs": [],
   "source": [
    "\n",
    "#Iterate through indicationsa to see if there's a match with dosages\n",
    "for ind in indications:\n",
    "    eo = process.extractOne(ind, d_keys, scorer=fuzz.partial_token_sort_ratio)\n",
    "    dosage_ind = eo[0]\n",
    "    score = eo[1]\n",
    "    dosage = dosages[dosage_ind]\n",
    "    if score<=50: #If low fuzzy match score then don't add\n",
    "        dosage_ind, dosage, score = None, None, None\n",
    "    df = df.append({'indication': ind, 'dosage_ind': dosage_ind, 'dosage': dosage, 'score': score}, ignore_index=True)\n",
    "\n",
    "return df"
   ]
  },
  {
   "cell_type": "code",
   "execution_count": null,
   "metadata": {},
   "outputs": [],
   "source": [
    "demo_1.merge(demo_2, on=['first_name', 'last_name', 'state'])"
   ]
  },
  {
   "cell_type": "code",
   "execution_count": null,
   "metadata": {},
   "outputs": [],
   "source": [
    "get_name(d[6])"
   ]
  },
  {
   "cell_type": "code",
   "execution_count": null,
   "metadata": {},
   "outputs": [],
   "source": [
    "get_name(d[6])['Multiple Artists'].value_counts()"
   ]
  },
  {
   "cell_type": "code",
   "execution_count": null,
   "metadata": {},
   "outputs": [],
   "source": [
    "get_name(d[7]).info()"
   ]
  },
  {
   "cell_type": "code",
   "execution_count": null,
   "metadata": {},
   "outputs": [],
   "source": [
    "get_name(d[7]).head()"
   ]
  },
  {
   "cell_type": "code",
   "execution_count": null,
   "metadata": {},
   "outputs": [],
   "source": [
    "demo_2"
   ]
  },
  {
   "cell_type": "code",
   "execution_count": null,
   "metadata": {},
   "outputs": [],
   "source": [
    "demo_1"
   ]
  },
  {
   "cell_type": "code",
   "execution_count": null,
   "metadata": {},
   "outputs": [],
   "source": [
    "joined = demo_1.join(demo_2, on='respondent_id', how='outer', lsuffix='_demo1', rsuffix='_demo2')"
   ]
  },
  {
   "cell_type": "code",
   "execution_count": null,
   "metadata": {},
   "outputs": [],
   "source": [
    "joined"
   ]
  },
  {
   "cell_type": "code",
   "execution_count": null,
   "metadata": {},
   "outputs": [],
   "source": [
    "demo_1 = get_name(d[7])\n",
    "demo_2 = get_name(d[8])"
   ]
  },
  {
   "cell_type": "code",
   "execution_count": null,
   "metadata": {},
   "outputs": [],
   "source": [
    "cols = list(joined.columns[joined.columns.str.contains('demo1|demo2')])"
   ]
  },
  {
   "cell_type": "code",
   "execution_count": null,
   "metadata": {},
   "outputs": [],
   "source": [
    "cols.sort()"
   ]
  },
  {
   "cell_type": "code",
   "execution_count": null,
   "metadata": {},
   "outputs": [],
   "source": [
    "remove_cols = ['age', 'city', 'collector_id', 'comapny', 'disabled', 'ethnicity', 'first_name', 'gender', 'last_name']"
   ]
  },
  {
   "cell_type": "code",
   "execution_count": null,
   "metadata": {},
   "outputs": [],
   "source": [
    "joined[cols]"
   ]
  },
  {
   "cell_type": "code",
   "execution_count": null,
   "metadata": {},
   "outputs": [],
   "source": [
    "demo_1.head()"
   ]
  },
  {
   "cell_type": "code",
   "execution_count": null,
   "metadata": {},
   "outputs": [],
   "source": [
    "demo_2.head()"
   ]
  },
  {
   "cell_type": "code",
   "execution_count": null,
   "metadata": {},
   "outputs": [],
   "source": [
    "get_name(d[8]).head()"
   ]
  },
  {
   "cell_type": "code",
   "execution_count": null,
   "metadata": {},
   "outputs": [],
   "source": [
    "df = pd.read_excel(file_list[0])"
   ]
  },
  {
   "cell_type": "code",
   "execution_count": null,
   "metadata": {},
   "outputs": [],
   "source": [
    "three_year = get_name(d[6]) # Workshop Pricing"
   ]
  },
  {
   "cell_type": "code",
   "execution_count": null,
   "metadata": {},
   "outputs": [],
   "source": [
    "df.info()"
   ]
  },
  {
   "cell_type": "code",
   "execution_count": null,
   "metadata": {},
   "outputs": [],
   "source": []
  },
  {
   "cell_type": "code",
   "execution_count": null,
   "metadata": {},
   "outputs": [],
   "source": [
    "d = defaultdict()"
   ]
  },
  {
   "cell_type": "code",
   "execution_count": null,
   "metadata": {},
   "outputs": [],
   "source": [
    "for artist_id, name in zip(three_year['Artist Payroll ID'], three_year['Artist: Account Name']):\n",
    "    d[artist_id] = name"
   ]
  },
  {
   "cell_type": "code",
   "execution_count": null,
   "metadata": {},
   "outputs": [],
   "source": [
    "three_year['Artist: Account Name']"
   ]
  },
  {
   "cell_type": "code",
   "execution_count": null,
   "metadata": {},
   "outputs": [],
   "source": [
    "three_year[three_year['Artist: Account Name'].str.contains('Zachary')]"
   ]
  },
  {
   "cell_type": "code",
   "execution_count": null,
   "metadata": {},
   "outputs": [],
   "source": [
    "three_year"
   ]
  },
  {
   "cell_type": "code",
   "execution_count": null,
   "metadata": {},
   "outputs": [],
   "source": []
  }
 ],
 "metadata": {
  "interpreter": {
   "hash": "2a0e6ac5b7e19e25da07df31b33f441d49c99a24f25781d722c2fa104d7061cf"
  },
  "kernelspec": {
   "display_name": "Python 3.9.5 64-bit ('3.9.5': pyenv)",
   "name": "python3"
  },
  "language_info": {
   "codemirror_mode": {
    "name": "ipython",
    "version": 3
   },
   "file_extension": ".py",
   "mimetype": "text/x-python",
   "name": "python",
   "nbconvert_exporter": "python",
   "pygments_lexer": "ipython3",
   "version": "3.9.5"
  }
 },
 "nbformat": 4,
 "nbformat_minor": 4
}
